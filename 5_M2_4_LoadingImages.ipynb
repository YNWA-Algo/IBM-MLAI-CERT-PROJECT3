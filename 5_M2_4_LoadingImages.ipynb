{
  "cells": [
    {
      "cell_type": "markdown",
      "metadata": {
        "id": "view-in-github",
        "colab_type": "text"
      },
      "source": [
        "<a href=\"https://colab.research.google.com/github/YNWA-Algo/IBM-MLAI-CERT-PROJECT3/blob/main/5_M2_4_LoadingImages.ipynb\" target=\"_parent\"><img src=\"https://colab.research.google.com/assets/colab-badge.svg\" alt=\"Open In Colab\"/></a>"
      ]
    },
    {
      "cell_type": "markdown",
      "metadata": {
        "id": "8b2e8f6b-f14a-4920-862b-1bcd0bb59ac6"
      },
      "source": [
        "<center>\n",
        "    <img src=\"https://cf-courses-data.s3.us.cloud-object-storage.appdomain.cloud/assets/logos/SN_web_lightmode.png\" width=\"300\" alt=\"cognitiveclass.ai logo\">\n",
        "</center>\n"
      ]
    },
    {
      "cell_type": "markdown",
      "metadata": {
        "id": "61cd766e-a5f1-444e-b3f1-d68dec8615ca"
      },
      "source": [
        "# **Loading Images in Keras**\n"
      ]
    },
    {
      "cell_type": "markdown",
      "metadata": {
        "id": "6927e80a-3317-4061-afd5-f4ca8bacf021"
      },
      "source": [
        "Estimated time needed: **45** minutes\n"
      ]
    },
    {
      "cell_type": "markdown",
      "metadata": {
        "id": "59558530-72d1-4275-a627-b67009852df7"
      },
      "source": [
        "<h1> CNN Training Pipeline </h1></s>\n"
      ]
    },
    {
      "cell_type": "markdown",
      "metadata": {
        "id": "1a97d12b-64a6-40fa-9d82-e1f2682bf8db"
      },
      "source": [
        "Convolutional neural networks (CNNs) have had great success in certain kinds of problems, such as image recognition. Data loading and preparation are important steps when it comes to working with such models. Increasingly, data augmentation is also required for more complex object recognition tasks. In this lab, we will discover various ways of loading images, as well as converting, augmenting and saving image datasets using the Keras API.\n"
      ]
    },
    {
      "cell_type": "markdown",
      "metadata": {
        "id": "ab7d3611-f84e-480f-bcb4-5d9f6fadc117"
      },
      "source": [
        "![](https://cf-courses-data.s3.us.cloud-object-storage.appdomain.cloud/IBMDeveloperSkillsNetwork-ML311-Coursera/images/cnn_image_loading_lab.drawio.png)\n"
      ]
    },
    {
      "cell_type": "markdown",
      "metadata": {
        "id": "7440604a-ea20-4149-a95e-386fa78f2c82"
      },
      "source": [
        "### What's a Digital Image?\n"
      ]
    },
    {
      "cell_type": "markdown",
      "metadata": {
        "id": "50d818e9-cc83-4ebe-bd71-04c5a8d81ed7"
      },
      "source": [
        "A gray-scale digital image can be interpreted as a rectangular array of numbers. If we zoom into the region, we see the image is comprised of a rectangular grid of discrete blocks called pixels. We can represent these pixels with numbers called intensity values ranging from 0 to 255, as shown here:\n"
      ]
    },
    {
      "cell_type": "markdown",
      "metadata": {
        "id": "26187a1c-793c-4791-9d5c-545d78e376da"
      },
      "source": [
        "![](https://cf-courses-data.s3.us.cloud-object-storage.appdomain.cloud/IBMDeveloperSkillsNetwork-ML311-Coursera/labs/Module3/L1/Gray_scale_lana.png)\n"
      ]
    },
    {
      "cell_type": "markdown",
      "metadata": {
        "id": "ad5357f3-4f47-43c7-8612-2daeac481202"
      },
      "source": [
        "Color images are a combination of red, blue, and green intensity values as shown here\n"
      ]
    },
    {
      "cell_type": "markdown",
      "metadata": {
        "id": "0c89c132-4496-4c51-8462-4aa9d7e9edd5"
      },
      "source": [
        "![](https://cf-courses-data.s3.us.cloud-object-storage.appdomain.cloud/IBMDeveloperSkillsNetwork-ML311-Coursera/labs/Module3/L1/RGB_ape.png)\n"
      ]
    },
    {
      "cell_type": "markdown",
      "metadata": {
        "id": "e2446605-1994-4eec-9d60-12bf1445677a"
      },
      "source": [
        "each channel has  values ranging from 0 to 255.\n"
      ]
    },
    {
      "cell_type": "markdown",
      "metadata": {
        "id": "11b7314f-927b-48f5-8b2e-54982b5a95af"
      },
      "source": [
        "![](https://cf-courses-data.s3.us.cloud-object-storage.appdomain.cloud/IBMDeveloperSkillsNetwork-ML311-Coursera/labs/Module3/L1/RGB_array.png)\n"
      ]
    },
    {
      "cell_type": "markdown",
      "metadata": {
        "id": "0673f9ad-56ed-415d-a897-39dc68126a5f"
      },
      "source": [
        "Finally, to apply a neural network to Karis we sometimes add a batch dimension, this is just  an extra dimension. Just think of the batch dimension as an address that contains an image array.\n"
      ]
    },
    {
      "cell_type": "markdown",
      "metadata": {
        "id": "a10dd042-da9b-4d71-83a6-61b246800001"
      },
      "source": [
        "![](https://cf-courses-data.s3.us.cloud-object-storage.appdomain.cloud/IBMDeveloperSkillsNetwork-ML311-Coursera/labs/Module3/L1/batch_dim_images.png)\n"
      ]
    },
    {
      "cell_type": "markdown",
      "metadata": {
        "id": "a3297d4a-615b-46ed-a6d1-15eb71421498"
      },
      "source": [
        "## **Table of Contents**\n",
        "\n",
        "<ol>\n",
        "    <li><a href=\"https://#Objectives\">Objectives</a></li>\n",
        "    <li>\n",
        "        <a href=\"https://#Setup\">Setup</a>\n",
        "    </li>\n",
        "    <li><a href=\"https://#Background\">Objectives</a></li>\n",
        "    <li>\n",
        "        <a href=\"https://#Ways to load images\">Ways to load images</a>\n",
        "        <ol>\n",
        "            <li><a href=\"https://#Ready-to-use toy datasets\">Ready-to-use toy datasets</a></li>\n",
        "            <li><a href=\"https://#Load individual images as PIL objects\">Load individual images as PIL objects</a></li>\n",
        "            <li><a href=\"https://#Load from directory of images\">Load from directory of images</a></li>\n",
        "            <li><a href=\"https://#Load image from URL\">Load image from URL</a></li>\n",
        "        </ol>\n",
        "    </li>\n",
        "</ol>\n"
      ]
    },
    {
      "cell_type": "markdown",
      "metadata": {
        "id": "01211f03-300e-48d6-b18c-d2de7e22f271"
      },
      "source": [
        "<h1 href=\"Objectives\">Objectives</h1>\n",
        "\n",
        "After completing this lab you will be able to **apply** Keras to:\n",
        "\n",
        "*   Load and display images in multiple ways\n",
        "*   Convert between array and PIL formats\n",
        "*   Convert images to grayscale, augment images through transformations and save images to files\n"
      ]
    },
    {
      "cell_type": "markdown",
      "metadata": {
        "id": "11c0f04d-8a3b-4f23-8846-98a84a9d1bb8"
      },
      "source": [
        "***\n"
      ]
    },
    {
      "cell_type": "markdown",
      "metadata": {
        "id": "30b2dd49-6ecc-4a0f-9651-94f4c0654507"
      },
      "source": [
        "<h2 href=\"Setup\">Setup</h2>\n"
      ]
    },
    {
      "cell_type": "markdown",
      "metadata": {
        "id": "12736b40-3dba-4482-b188-ed9ec7f9d8af"
      },
      "source": [
        "For this lab, we will be using the following libraries:\n",
        "\n",
        "*   [`numpy`](https://numpy.org/?utm_medium=Exinfluencer&utm_source=Exinfluencer&utm_content=000026UJ&utm_term=10006555&utm_id=NA-SkillsNetwork-Channel-SkillsNetworkCoursesIBMML0187ENSkillsNetwork31430127-2021-01-01) for mathematical operations.\n",
        "*   [`Pillow`](https://pillow.readthedocs.io/en/stable/?utm_medium=Exinfluencer&utm_source=Exinfluencer&utm_content=000026UJ&utm_term=10006555&utm_id=NA-SkillsNetwork-Channel-SkillsNetworkCoursesIBMML0187ENSkillsNetwork31430127-2021-01-01) for image processing functions.\n",
        "*   [`OpenCV`](https://docs.opencv.org/4.x/index.html?utm_medium=Exinfluencer&utm_source=Exinfluencer&utm_content=000026UJ&utm_term=10006555&utm_id=NA-SkillsNetwork-Channel-SkillsNetworkCoursesIBMML0187ENSkillsNetwork31430127-2021-01-01) for other image processing functions.\n",
        "*   [`tensorflow`](https://www.tensorflow.org/?utm_medium=Exinfluencer&utm_source=Exinfluencer&utm_content=000026UJ&utm_term=10006555&utm_id=NA-SkillsNetwork-Channel-SkillsNetworkCoursesIBMML0187ENSkillsNetwork31430127-2021-01-01) for machine learning and neural network related functions.\n",
        "*   [`matplotlib`](https://matplotlib.org/?utm_medium=Exinfluencer&utm_source=Exinfluencer&utm_content=000026UJ&utm_term=10006555&utm_id=NA-SkillsNetwork-Channel-SkillsNetworkCoursesIBMML0187ENSkillsNetwork31430127-2021-01-01) for additional plotting tools.\n",
        "*   [`keras`](https://keras.io/?utm_medium=Exinfluencer&utm_source=Exinfluencer&utm_content=000026UJ&utm_term=10006555&utm_id=NA-SkillsNetwork-Channel-SkillsNetworkCoursesIBMML0187ENSkillsNetwork31430127-2021-01-01) for building artificial neural networks.\n"
      ]
    },
    {
      "cell_type": "markdown",
      "metadata": {
        "id": "e93f0d78-a470-47b9-8c09-7bfff7a08708"
      },
      "source": [
        "### Installing Required Libraries\n",
        "\n",
        "The following required libraries are pre-installed in the Skills Network Labs environment. However, if you run these notebook commands in a different Jupyter environment (e.g. Watson Studio or Ananconda), you will need to install these libraries by removing the `#` sign before `!mamba` in the code cell below.\n"
      ]
    },
    {
      "cell_type": "code",
      "metadata": {
        "colab": {
          "base_uri": "https://localhost:8080/",
          "height": 1000
        },
        "id": "068ab3aa-5968-4eeb-9add-3721278b9529",
        "outputId": "9810c269-141b-48d6-a430-b77a2d5122b3"
      },
      "outputs": [
        {
          "output_type": "stream",
          "name": "stdout",
          "text": [
            "Collecting numpy==1.22.4\n",
            "  Downloading numpy-1.22.4-cp310-cp310-manylinux_2_17_x86_64.manylinux2014_x86_64.whl.metadata (2.0 kB)\n",
            "Requirement already satisfied: matplotlib==3.5.1 in /usr/local/lib/python3.10/dist-packages (3.5.1)\n",
            "Requirement already satisfied: tensorflow==2.9.0 in /usr/local/lib/python3.10/dist-packages (2.9.0)\n",
            "Requirement already satisfied: opencv-python==4.5.5.62 in /usr/local/lib/python3.10/dist-packages (4.5.5.62)\n",
            "Requirement already satisfied: keras in /usr/local/lib/python3.10/dist-packages (2.9.0)\n",
            "Requirement already satisfied: cycler>=0.10 in /usr/local/lib/python3.10/dist-packages (from matplotlib==3.5.1) (0.12.1)\n",
            "Requirement already satisfied: fonttools>=4.22.0 in /usr/local/lib/python3.10/dist-packages (from matplotlib==3.5.1) (4.54.1)\n",
            "Requirement already satisfied: kiwisolver>=1.0.1 in /usr/local/lib/python3.10/dist-packages (from matplotlib==3.5.1) (1.4.7)\n",
            "Requirement already satisfied: packaging>=20.0 in /usr/local/lib/python3.10/dist-packages (from matplotlib==3.5.1) (24.1)\n",
            "Requirement already satisfied: pillow>=6.2.0 in /usr/local/lib/python3.10/dist-packages (from matplotlib==3.5.1) (10.4.0)\n",
            "Requirement already satisfied: pyparsing>=2.2.1 in /usr/local/lib/python3.10/dist-packages (from matplotlib==3.5.1) (3.2.0)\n",
            "Requirement already satisfied: python-dateutil>=2.7 in /usr/local/lib/python3.10/dist-packages (from matplotlib==3.5.1) (2.8.2)\n",
            "Requirement already satisfied: absl-py>=1.0.0 in /usr/local/lib/python3.10/dist-packages (from tensorflow==2.9.0) (1.4.0)\n",
            "Requirement already satisfied: astunparse>=1.6.0 in /usr/local/lib/python3.10/dist-packages (from tensorflow==2.9.0) (1.6.3)\n",
            "Requirement already satisfied: flatbuffers<2,>=1.12 in /usr/local/lib/python3.10/dist-packages (from tensorflow==2.9.0) (1.12)\n",
            "Requirement already satisfied: gast<=0.4.0,>=0.2.1 in /usr/local/lib/python3.10/dist-packages (from tensorflow==2.9.0) (0.4.0)\n",
            "Requirement already satisfied: google-pasta>=0.1.1 in /usr/local/lib/python3.10/dist-packages (from tensorflow==2.9.0) (0.2.0)\n",
            "Requirement already satisfied: grpcio<2.0,>=1.24.3 in /usr/local/lib/python3.10/dist-packages (from tensorflow==2.9.0) (1.64.1)\n",
            "Requirement already satisfied: h5py>=2.9.0 in /usr/local/lib/python3.10/dist-packages (from tensorflow==2.9.0) (3.12.1)\n",
            "Requirement already satisfied: keras-preprocessing>=1.1.1 in /usr/local/lib/python3.10/dist-packages (from tensorflow==2.9.0) (1.1.2)\n",
            "Requirement already satisfied: libclang>=13.0.0 in /usr/local/lib/python3.10/dist-packages (from tensorflow==2.9.0) (18.1.1)\n",
            "Requirement already satisfied: opt-einsum>=2.3.2 in /usr/local/lib/python3.10/dist-packages (from tensorflow==2.9.0) (3.4.0)\n",
            "Requirement already satisfied: protobuf>=3.9.2 in /usr/local/lib/python3.10/dist-packages (from tensorflow==2.9.0) (3.19.6)\n",
            "Requirement already satisfied: setuptools in /usr/local/lib/python3.10/dist-packages (from tensorflow==2.9.0) (75.1.0)\n",
            "Requirement already satisfied: six>=1.12.0 in /usr/local/lib/python3.10/dist-packages (from tensorflow==2.9.0) (1.16.0)\n",
            "Requirement already satisfied: tensorboard<2.10,>=2.9 in /usr/local/lib/python3.10/dist-packages (from tensorflow==2.9.0) (2.9.1)\n",
            "Requirement already satisfied: tensorflow-io-gcs-filesystem>=0.23.1 in /usr/local/lib/python3.10/dist-packages (from tensorflow==2.9.0) (0.37.1)\n",
            "Requirement already satisfied: tensorflow-estimator<2.10.0,>=2.9.0rc0 in /usr/local/lib/python3.10/dist-packages (from tensorflow==2.9.0) (2.9.0)\n",
            "Requirement already satisfied: termcolor>=1.1.0 in /usr/local/lib/python3.10/dist-packages (from tensorflow==2.9.0) (2.5.0)\n",
            "Requirement already satisfied: typing-extensions>=3.6.6 in /usr/local/lib/python3.10/dist-packages (from tensorflow==2.9.0) (4.12.2)\n",
            "Requirement already satisfied: wrapt>=1.11.0 in /usr/local/lib/python3.10/dist-packages (from tensorflow==2.9.0) (1.16.0)\n",
            "Requirement already satisfied: wheel<1.0,>=0.23.0 in /usr/local/lib/python3.10/dist-packages (from astunparse>=1.6.0->tensorflow==2.9.0) (0.44.0)\n",
            "Requirement already satisfied: google-auth<3,>=1.6.3 in /usr/local/lib/python3.10/dist-packages (from tensorboard<2.10,>=2.9->tensorflow==2.9.0) (2.27.0)\n",
            "Requirement already satisfied: google-auth-oauthlib<0.5,>=0.4.1 in /usr/local/lib/python3.10/dist-packages (from tensorboard<2.10,>=2.9->tensorflow==2.9.0) (0.4.6)\n",
            "Requirement already satisfied: markdown>=2.6.8 in /usr/local/lib/python3.10/dist-packages (from tensorboard<2.10,>=2.9->tensorflow==2.9.0) (3.7)\n",
            "Requirement already satisfied: requests<3,>=2.21.0 in /usr/local/lib/python3.10/dist-packages (from tensorboard<2.10,>=2.9->tensorflow==2.9.0) (2.32.3)\n",
            "Requirement already satisfied: tensorboard-data-server<0.7.0,>=0.6.0 in /usr/local/lib/python3.10/dist-packages (from tensorboard<2.10,>=2.9->tensorflow==2.9.0) (0.6.1)\n",
            "Requirement already satisfied: tensorboard-plugin-wit>=1.6.0 in /usr/local/lib/python3.10/dist-packages (from tensorboard<2.10,>=2.9->tensorflow==2.9.0) (1.8.1)\n",
            "Requirement already satisfied: werkzeug>=1.0.1 in /usr/local/lib/python3.10/dist-packages (from tensorboard<2.10,>=2.9->tensorflow==2.9.0) (3.0.6)\n",
            "Requirement already satisfied: cachetools<6.0,>=2.0.0 in /usr/local/lib/python3.10/dist-packages (from google-auth<3,>=1.6.3->tensorboard<2.10,>=2.9->tensorflow==2.9.0) (5.5.0)\n",
            "Requirement already satisfied: pyasn1-modules>=0.2.1 in /usr/local/lib/python3.10/dist-packages (from google-auth<3,>=1.6.3->tensorboard<2.10,>=2.9->tensorflow==2.9.0) (0.4.1)\n",
            "Requirement already satisfied: rsa<5,>=3.1.4 in /usr/local/lib/python3.10/dist-packages (from google-auth<3,>=1.6.3->tensorboard<2.10,>=2.9->tensorflow==2.9.0) (4.9)\n",
            "Requirement already satisfied: requests-oauthlib>=0.7.0 in /usr/local/lib/python3.10/dist-packages (from google-auth-oauthlib<0.5,>=0.4.1->tensorboard<2.10,>=2.9->tensorflow==2.9.0) (1.3.1)\n",
            "Requirement already satisfied: charset-normalizer<4,>=2 in /usr/local/lib/python3.10/dist-packages (from requests<3,>=2.21.0->tensorboard<2.10,>=2.9->tensorflow==2.9.0) (3.4.0)\n",
            "Requirement already satisfied: idna<4,>=2.5 in /usr/local/lib/python3.10/dist-packages (from requests<3,>=2.21.0->tensorboard<2.10,>=2.9->tensorflow==2.9.0) (3.10)\n",
            "Requirement already satisfied: urllib3<3,>=1.21.1 in /usr/local/lib/python3.10/dist-packages (from requests<3,>=2.21.0->tensorboard<2.10,>=2.9->tensorflow==2.9.0) (2.2.3)\n",
            "Requirement already satisfied: certifi>=2017.4.17 in /usr/local/lib/python3.10/dist-packages (from requests<3,>=2.21.0->tensorboard<2.10,>=2.9->tensorflow==2.9.0) (2024.8.30)\n",
            "Requirement already satisfied: MarkupSafe>=2.1.1 in /usr/local/lib/python3.10/dist-packages (from werkzeug>=1.0.1->tensorboard<2.10,>=2.9->tensorflow==2.9.0) (3.0.2)\n",
            "Requirement already satisfied: pyasn1<0.7.0,>=0.4.6 in /usr/local/lib/python3.10/dist-packages (from pyasn1-modules>=0.2.1->google-auth<3,>=1.6.3->tensorboard<2.10,>=2.9->tensorflow==2.9.0) (0.6.1)\n",
            "Requirement already satisfied: oauthlib>=3.0.0 in /usr/local/lib/python3.10/dist-packages (from requests-oauthlib>=0.7.0->google-auth-oauthlib<0.5,>=0.4.1->tensorboard<2.10,>=2.9->tensorflow==2.9.0) (3.2.2)\n",
            "Downloading numpy-1.22.4-cp310-cp310-manylinux_2_17_x86_64.manylinux2014_x86_64.whl (16.8 MB)\n",
            "\u001b[2K   \u001b[90m━━━━━━━━━━━━━━━━━━━━━━━━━━━━━━━━━━━━━━━━\u001b[0m \u001b[32m16.8/16.8 MB\u001b[0m \u001b[31m80.8 MB/s\u001b[0m eta \u001b[36m0:00:00\u001b[0m\n",
            "\u001b[?25hInstalling collected packages: numpy\n",
            "  Attempting uninstall: numpy\n",
            "    Found existing installation: numpy 1.22.3\n",
            "    Uninstalling numpy-1.22.3:\n",
            "      Successfully uninstalled numpy-1.22.3\n",
            "\u001b[31mERROR: pip's dependency resolver does not currently take into account all the packages that are installed. This behaviour is the source of the following dependency conflicts.\n",
            "albucore 0.0.19 requires numpy>=1.24.4, but you have numpy 1.22.4 which is incompatible.\n",
            "albumentations 1.4.20 requires numpy>=1.24.4, but you have numpy 1.22.4 which is incompatible.\n",
            "arviz 0.20.0 requires numpy>=1.23.0, but you have numpy 1.22.4 which is incompatible.\n",
            "astropy 6.1.4 requires numpy>=1.23, but you have numpy 1.22.4 which is incompatible.\n",
            "bigframes 1.25.0 requires matplotlib>=3.7.1, but you have matplotlib 3.5.1 which is incompatible.\n",
            "bigframes 1.25.0 requires numpy>=1.24.0, but you have numpy 1.22.4 which is incompatible.\n",
            "chex 0.1.87 requires numpy>=1.24.1, but you have numpy 1.22.4 which is incompatible.\n",
            "contourpy 1.3.0 requires numpy>=1.23, but you have numpy 1.22.4 which is incompatible.\n",
            "cudf-cu12 24.10.1 requires numpy<3.0a0,>=1.23, but you have numpy 1.22.4 which is incompatible.\n",
            "ibis-framework 9.2.0 requires numpy<3,>=1.23.2, but you have numpy 1.22.4 which is incompatible.\n",
            "jax 0.4.33 requires numpy>=1.24, but you have numpy 1.22.4 which is incompatible.\n",
            "jaxlib 0.4.33 requires numpy>=1.24, but you have numpy 1.22.4 which is incompatible.\n",
            "mizani 0.13.0 requires numpy>=1.23.5, but you have numpy 1.22.4 which is incompatible.\n",
            "numexpr 2.10.1 requires numpy>=1.23.0, but you have numpy 1.22.4 which is incompatible.\n",
            "nx-cugraph-cu12 24.10.0 requires numpy<3.0a0,>=1.23, but you have numpy 1.22.4 which is incompatible.\n",
            "pandas-gbq 0.24.0 requires google-auth-oauthlib>=0.7.0, but you have google-auth-oauthlib 0.4.6 which is incompatible.\n",
            "pandas-stubs 2.2.2.240909 requires numpy>=1.23.5, but you have numpy 1.22.4 which is incompatible.\n",
            "plotnine 0.14.0 requires matplotlib>=3.8.0, but you have matplotlib 3.5.1 which is incompatible.\n",
            "plotnine 0.14.0 requires numpy>=1.23.5, but you have numpy 1.22.4 which is incompatible.\n",
            "pylibraft-cu12 24.10.0 requires numpy<3.0a0,>=1.23, but you have numpy 1.22.4 which is incompatible.\n",
            "rmm-cu12 24.10.0 requires numpy<3.0a0,>=1.23, but you have numpy 1.22.4 which is incompatible.\n",
            "scikit-image 0.24.0 requires numpy>=1.23, but you have numpy 1.22.4 which is incompatible.\n",
            "tensorflow-datasets 4.9.6 requires protobuf>=3.20, but you have protobuf 3.19.6 which is incompatible.\n",
            "tf-keras 2.17.0 requires tensorflow<2.18,>=2.17, but you have tensorflow 2.9.0 which is incompatible.\n",
            "xarray 2024.10.0 requires numpy>=1.24, but you have numpy 1.22.4 which is incompatible.\n",
            "xarray-einstats 0.8.0 requires numpy>=1.23, but you have numpy 1.22.4 which is incompatible.\u001b[0m\u001b[31m\n",
            "\u001b[0mSuccessfully installed numpy-1.22.4\n"
          ]
        },
        {
          "output_type": "display_data",
          "data": {
            "application/vnd.colab-display-data+json": {
              "pip_warning": {
                "packages": [
                  "numpy"
                ]
              },
              "id": "7ea5806707a647e5bfb0d53986b001e6"
            }
          },
          "metadata": {}
        }
      ],
      "source": [
        "# All Libraries required for this lab are listed below. The libraries pre-installed on Skills Network Labs are commented.\n",
        "!pip install numpy==1.22.4 matplotlib==3.5.1 tensorflow==2.9.0 opencv-python==4.5.5.62 keras\n",
        "\n",
        "# Note: If your environment doesn't support \"!mamba install\", use \"!pip install --user\"\n",
        "\n",
        "# RESTART YOUR KERNEL AFTERWARD AS WELL"
      ],
      "execution_count": 3
    },
    {
      "cell_type": "code",
      "metadata": {
        "colab": {
          "base_uri": "https://localhost:8080/"
        },
        "id": "5f9add5b-c4cb-4512-92ef-11d128d18f2d",
        "outputId": "17f8fb6d-286f-470a-d7ba-3eacd820ce0a"
      },
      "outputs": [
        {
          "output_type": "stream",
          "name": "stdout",
          "text": [
            "Requirement already satisfied: tensorflow in /usr/local/lib/python3.10/dist-packages (2.9.0)\n",
            "Collecting tensorflow\n",
            "  Using cached tensorflow-2.18.0-cp310-cp310-manylinux_2_17_x86_64.manylinux2014_x86_64.whl.metadata (4.1 kB)\n",
            "Requirement already satisfied: absl-py>=1.0.0 in /usr/local/lib/python3.10/dist-packages (from tensorflow) (1.4.0)\n",
            "Requirement already satisfied: astunparse>=1.6.0 in /usr/local/lib/python3.10/dist-packages (from tensorflow) (1.6.3)\n",
            "Collecting flatbuffers>=24.3.25 (from tensorflow)\n",
            "  Downloading flatbuffers-24.3.25-py2.py3-none-any.whl.metadata (850 bytes)\n",
            "Requirement already satisfied: gast!=0.5.0,!=0.5.1,!=0.5.2,>=0.2.1 in /usr/local/lib/python3.10/dist-packages (from tensorflow) (0.4.0)\n",
            "Requirement already satisfied: google-pasta>=0.1.1 in /usr/local/lib/python3.10/dist-packages (from tensorflow) (0.2.0)\n",
            "Requirement already satisfied: libclang>=13.0.0 in /usr/local/lib/python3.10/dist-packages (from tensorflow) (18.1.1)\n",
            "Requirement already satisfied: opt-einsum>=2.3.2 in /usr/local/lib/python3.10/dist-packages (from tensorflow) (3.4.0)\n",
            "Requirement already satisfied: packaging in /usr/local/lib/python3.10/dist-packages (from tensorflow) (24.1)\n",
            "Collecting protobuf!=4.21.0,!=4.21.1,!=4.21.2,!=4.21.3,!=4.21.4,!=4.21.5,<6.0.0dev,>=3.20.3 (from tensorflow)\n",
            "  Downloading protobuf-5.28.3-cp38-abi3-manylinux2014_x86_64.whl.metadata (592 bytes)\n",
            "Requirement already satisfied: requests<3,>=2.21.0 in /usr/local/lib/python3.10/dist-packages (from tensorflow) (2.32.3)\n",
            "Requirement already satisfied: setuptools in /usr/local/lib/python3.10/dist-packages (from tensorflow) (75.1.0)\n",
            "Requirement already satisfied: six>=1.12.0 in /usr/local/lib/python3.10/dist-packages (from tensorflow) (1.16.0)\n",
            "Requirement already satisfied: termcolor>=1.1.0 in /usr/local/lib/python3.10/dist-packages (from tensorflow) (2.5.0)\n",
            "Requirement already satisfied: typing-extensions>=3.6.6 in /usr/local/lib/python3.10/dist-packages (from tensorflow) (4.12.2)\n",
            "Requirement already satisfied: wrapt>=1.11.0 in /usr/local/lib/python3.10/dist-packages (from tensorflow) (1.16.0)\n",
            "Requirement already satisfied: grpcio<2.0,>=1.24.3 in /usr/local/lib/python3.10/dist-packages (from tensorflow) (1.64.1)\n",
            "Collecting tensorboard<2.19,>=2.18 (from tensorflow)\n",
            "  Using cached tensorboard-2.18.0-py3-none-any.whl.metadata (1.6 kB)\n",
            "Collecting keras>=3.5.0 (from tensorflow)\n",
            "  Using cached keras-3.6.0-py3-none-any.whl.metadata (5.8 kB)\n",
            "Collecting numpy<2.1.0,>=1.26.0 (from tensorflow)\n",
            "  Downloading numpy-2.0.2-cp310-cp310-manylinux_2_17_x86_64.manylinux2014_x86_64.whl.metadata (60 kB)\n",
            "\u001b[2K     \u001b[90m━━━━━━━━━━━━━━━━━━━━━━━━━━━━━━━━━━━━━━━━\u001b[0m \u001b[32m60.9/60.9 kB\u001b[0m \u001b[31m2.3 MB/s\u001b[0m eta \u001b[36m0:00:00\u001b[0m\n",
            "\u001b[?25hRequirement already satisfied: h5py>=3.11.0 in /usr/local/lib/python3.10/dist-packages (from tensorflow) (3.12.1)\n",
            "Requirement already satisfied: ml-dtypes<0.5.0,>=0.4.0 in /usr/local/lib/python3.10/dist-packages (from tensorflow) (0.4.1)\n",
            "Requirement already satisfied: tensorflow-io-gcs-filesystem>=0.23.1 in /usr/local/lib/python3.10/dist-packages (from tensorflow) (0.37.1)\n",
            "Requirement already satisfied: wheel<1.0,>=0.23.0 in /usr/local/lib/python3.10/dist-packages (from astunparse>=1.6.0->tensorflow) (0.44.0)\n",
            "Requirement already satisfied: rich in /usr/local/lib/python3.10/dist-packages (from keras>=3.5.0->tensorflow) (13.9.3)\n",
            "Requirement already satisfied: namex in /usr/local/lib/python3.10/dist-packages (from keras>=3.5.0->tensorflow) (0.0.8)\n",
            "Requirement already satisfied: optree in /usr/local/lib/python3.10/dist-packages (from keras>=3.5.0->tensorflow) (0.13.0)\n",
            "Requirement already satisfied: charset-normalizer<4,>=2 in /usr/local/lib/python3.10/dist-packages (from requests<3,>=2.21.0->tensorflow) (3.4.0)\n",
            "Requirement already satisfied: idna<4,>=2.5 in /usr/local/lib/python3.10/dist-packages (from requests<3,>=2.21.0->tensorflow) (3.10)\n",
            "Requirement already satisfied: urllib3<3,>=1.21.1 in /usr/local/lib/python3.10/dist-packages (from requests<3,>=2.21.0->tensorflow) (2.2.3)\n",
            "Requirement already satisfied: certifi>=2017.4.17 in /usr/local/lib/python3.10/dist-packages (from requests<3,>=2.21.0->tensorflow) (2024.8.30)\n",
            "Requirement already satisfied: markdown>=2.6.8 in /usr/local/lib/python3.10/dist-packages (from tensorboard<2.19,>=2.18->tensorflow) (3.7)\n",
            "Collecting tensorboard-data-server<0.8.0,>=0.7.0 (from tensorboard<2.19,>=2.18->tensorflow)\n",
            "  Downloading tensorboard_data_server-0.7.2-py3-none-manylinux_2_31_x86_64.whl.metadata (1.1 kB)\n",
            "Requirement already satisfied: werkzeug>=1.0.1 in /usr/local/lib/python3.10/dist-packages (from tensorboard<2.19,>=2.18->tensorflow) (3.0.6)\n",
            "Requirement already satisfied: MarkupSafe>=2.1.1 in /usr/local/lib/python3.10/dist-packages (from werkzeug>=1.0.1->tensorboard<2.19,>=2.18->tensorflow) (3.0.2)\n",
            "Requirement already satisfied: markdown-it-py>=2.2.0 in /usr/local/lib/python3.10/dist-packages (from rich->keras>=3.5.0->tensorflow) (3.0.0)\n",
            "Requirement already satisfied: pygments<3.0.0,>=2.13.0 in /usr/local/lib/python3.10/dist-packages (from rich->keras>=3.5.0->tensorflow) (2.18.0)\n",
            "Requirement already satisfied: mdurl~=0.1 in /usr/local/lib/python3.10/dist-packages (from markdown-it-py>=2.2.0->rich->keras>=3.5.0->tensorflow) (0.1.2)\n",
            "Using cached tensorflow-2.18.0-cp310-cp310-manylinux_2_17_x86_64.manylinux2014_x86_64.whl (615.3 MB)\n",
            "Downloading flatbuffers-24.3.25-py2.py3-none-any.whl (26 kB)\n",
            "Using cached keras-3.6.0-py3-none-any.whl (1.2 MB)\n",
            "Downloading numpy-2.0.2-cp310-cp310-manylinux_2_17_x86_64.manylinux2014_x86_64.whl (19.5 MB)\n",
            "\u001b[2K   \u001b[90m━━━━━━━━━━━━━━━━━━━━━━━━━━━━━━━━━━━━━━━━\u001b[0m \u001b[32m19.5/19.5 MB\u001b[0m \u001b[31m47.2 MB/s\u001b[0m eta \u001b[36m0:00:00\u001b[0m\n",
            "\u001b[?25hDownloading protobuf-5.28.3-cp38-abi3-manylinux2014_x86_64.whl (316 kB)\n",
            "\u001b[2K   \u001b[90m━━━━━━━━━━━━━━━━━━━━━━━━━━━━━━━━━━━━━━━━\u001b[0m \u001b[32m316.6/316.6 kB\u001b[0m \u001b[31m18.9 MB/s\u001b[0m eta \u001b[36m0:00:00\u001b[0m\n",
            "\u001b[?25hUsing cached tensorboard-2.18.0-py3-none-any.whl (5.5 MB)\n",
            "Downloading tensorboard_data_server-0.7.2-py3-none-manylinux_2_31_x86_64.whl (6.6 MB)\n",
            "\u001b[2K   \u001b[90m━━━━━━━━━━━━━━━━━━━━━━━━━━━━━━━━━━━━━━━━\u001b[0m \u001b[32m6.6/6.6 MB\u001b[0m \u001b[31m37.4 MB/s\u001b[0m eta \u001b[36m0:00:00\u001b[0m\n",
            "\u001b[?25hInstalling collected packages: flatbuffers, tensorboard-data-server, protobuf, numpy, tensorboard, keras, tensorflow\n",
            "  Attempting uninstall: flatbuffers\n",
            "    Found existing installation: flatbuffers 1.12\n",
            "    Uninstalling flatbuffers-1.12:\n",
            "      Successfully uninstalled flatbuffers-1.12\n",
            "  Attempting uninstall: tensorboard-data-server\n",
            "    Found existing installation: tensorboard-data-server 0.6.1\n",
            "    Uninstalling tensorboard-data-server-0.6.1:\n",
            "      Successfully uninstalled tensorboard-data-server-0.6.1\n",
            "  Attempting uninstall: protobuf\n",
            "    Found existing installation: protobuf 3.19.6\n",
            "    Uninstalling protobuf-3.19.6:\n",
            "      Successfully uninstalled protobuf-3.19.6\n",
            "  Attempting uninstall: numpy\n",
            "    Found existing installation: numpy 1.22.4\n",
            "    Uninstalling numpy-1.22.4:\n",
            "      Successfully uninstalled numpy-1.22.4\n",
            "  Attempting uninstall: tensorboard\n",
            "    Found existing installation: tensorboard 2.9.1\n",
            "    Uninstalling tensorboard-2.9.1:\n",
            "      Successfully uninstalled tensorboard-2.9.1\n",
            "  Attempting uninstall: keras\n",
            "    Found existing installation: keras 2.9.0\n",
            "    Uninstalling keras-2.9.0:\n",
            "      Successfully uninstalled keras-2.9.0\n",
            "  Attempting uninstall: tensorflow\n",
            "    Found existing installation: tensorflow 2.9.0\n",
            "    Uninstalling tensorflow-2.9.0:\n",
            "      Successfully uninstalled tensorflow-2.9.0\n",
            "\u001b[31mERROR: pip's dependency resolver does not currently take into account all the packages that are installed. This behaviour is the source of the following dependency conflicts.\n",
            "bigframes 1.25.0 requires matplotlib>=3.7.1, but you have matplotlib 3.5.1 which is incompatible.\n",
            "cupy-cuda12x 12.2.0 requires numpy<1.27,>=1.20, but you have numpy 2.0.2 which is incompatible.\n",
            "gensim 4.3.3 requires numpy<2.0,>=1.18.5, but you have numpy 2.0.2 which is incompatible.\n",
            "google-cloud-datastore 2.19.0 requires protobuf!=3.20.0,!=3.20.1,!=4.21.0,!=4.21.1,!=4.21.2,!=4.21.3,!=4.21.4,!=4.21.5,<5.0.0dev,>=3.19.5, but you have protobuf 5.28.3 which is incompatible.\n",
            "google-cloud-firestore 2.16.1 requires protobuf!=3.20.0,!=3.20.1,!=4.21.0,!=4.21.1,!=4.21.2,!=4.21.3,!=4.21.4,!=4.21.5,<5.0.0dev,>=3.19.5, but you have protobuf 5.28.3 which is incompatible.\n",
            "langchain 0.3.4 requires numpy<2,>=1; python_version < \"3.12\", but you have numpy 2.0.2 which is incompatible.\n",
            "pandas-gbq 0.24.0 requires google-auth-oauthlib>=0.7.0, but you have google-auth-oauthlib 0.4.6 which is incompatible.\n",
            "plotnine 0.14.0 requires matplotlib>=3.8.0, but you have matplotlib 3.5.1 which is incompatible.\n",
            "pytensor 2.25.5 requires numpy<2,>=1.17.0, but you have numpy 2.0.2 which is incompatible.\n",
            "tensorflow-metadata 1.16.1 requires protobuf<4.21,>=3.20.3; python_version < \"3.11\", but you have protobuf 5.28.3 which is incompatible.\n",
            "tf-keras 2.17.0 requires tensorflow<2.18,>=2.17, but you have tensorflow 2.18.0 which is incompatible.\n",
            "thinc 8.2.5 requires numpy<2.0.0,>=1.19.0; python_version >= \"3.9\", but you have numpy 2.0.2 which is incompatible.\u001b[0m\u001b[31m\n",
            "\u001b[0mSuccessfully installed flatbuffers-24.3.25 keras-3.6.0 numpy-2.0.2 protobuf-5.28.3 tensorboard-2.18.0 tensorboard-data-server-0.7.2 tensorflow-2.18.0\n"
          ]
        }
      ],
      "source": [
        "!pip3 install --upgrade tensorflow\n",
        "\n",
        "# RESTART YOUR KERNEL AFTERWARD AS WELL"
      ],
      "execution_count": 1
    },
    {
      "cell_type": "markdown",
      "metadata": {
        "id": "c0536fc9-bc6c-4272-abe8-bcfd19f37d19"
      },
      "source": [
        "### Importing Required Libraries\n",
        "\n",
        "*We recommend you import all required libraries in one place (here):*\n"
      ]
    },
    {
      "cell_type": "code",
      "metadata": {
        "id": "376893ee-ebd1-4359-9668-9d3fa27207b9"
      },
      "outputs": [],
      "source": [
        "# You can also use this section to suppress warnings generated by your code:\n",
        "def warn(*args, **kwargs):\n",
        "    pass\n",
        "\n",
        "\n",
        "import warnings\n",
        "warnings.warn = warn\n",
        "warnings.filterwarnings('ignore')\n",
        "\n",
        "import os\n",
        "os.environ['TF_CPP_MIN_LOG_LEVEL'] = '2' # tensorflow INFO and WARNING messages are not printed"
      ],
      "execution_count": 2
    },
    {
      "cell_type": "code",
      "source": [
        "!pip install numpy==1.22.4 scipy==1.9.3"
      ],
      "metadata": {
        "colab": {
          "base_uri": "https://localhost:8080/",
          "height": 946
        },
        "id": "0slTxQM7g6gx",
        "outputId": "c19c137c-bd28-4be9-98cf-9082494cda83"
      },
      "execution_count": 4,
      "outputs": [
        {
          "output_type": "stream",
          "name": "stdout",
          "text": [
            "Collecting numpy==1.22.4\n",
            "  Using cached numpy-1.22.4-cp310-cp310-manylinux_2_17_x86_64.manylinux2014_x86_64.whl.metadata (2.0 kB)\n",
            "Collecting scipy==1.9.3\n",
            "  Downloading scipy-1.9.3-cp310-cp310-manylinux_2_17_x86_64.manylinux2014_x86_64.whl.metadata (58 kB)\n",
            "\u001b[2K     \u001b[90m━━━━━━━━━━━━━━━━━━━━━━━━━━━━━━━━━━━━━━━━\u001b[0m \u001b[32m58.4/58.4 kB\u001b[0m \u001b[31m4.0 MB/s\u001b[0m eta \u001b[36m0:00:00\u001b[0m\n",
            "\u001b[?25hUsing cached numpy-1.22.4-cp310-cp310-manylinux_2_17_x86_64.manylinux2014_x86_64.whl (16.8 MB)\n",
            "Downloading scipy-1.9.3-cp310-cp310-manylinux_2_17_x86_64.manylinux2014_x86_64.whl (33.7 MB)\n",
            "\u001b[2K   \u001b[90m━━━━━━━━━━━━━━━━━━━━━━━━━━━━━━━━━━━━━━━━\u001b[0m \u001b[32m33.7/33.7 MB\u001b[0m \u001b[31m16.6 MB/s\u001b[0m eta \u001b[36m0:00:00\u001b[0m\n",
            "\u001b[?25hInstalling collected packages: numpy, scipy\n",
            "  Attempting uninstall: numpy\n",
            "    Found existing installation: numpy 2.0.2\n",
            "    Uninstalling numpy-2.0.2:\n",
            "      Successfully uninstalled numpy-2.0.2\n",
            "  Attempting uninstall: scipy\n",
            "    Found existing installation: scipy 1.13.1\n",
            "    Uninstalling scipy-1.13.1:\n",
            "      Successfully uninstalled scipy-1.13.1\n",
            "\u001b[31mERROR: pip's dependency resolver does not currently take into account all the packages that are installed. This behaviour is the source of the following dependency conflicts.\n",
            "albucore 0.0.19 requires numpy>=1.24.4, but you have numpy 1.22.4 which is incompatible.\n",
            "albumentations 1.4.20 requires numpy>=1.24.4, but you have numpy 1.22.4 which is incompatible.\n",
            "albumentations 1.4.20 requires scipy>=1.10.0, but you have scipy 1.9.3 which is incompatible.\n",
            "arviz 0.20.0 requires numpy>=1.23.0, but you have numpy 1.22.4 which is incompatible.\n",
            "astropy 6.1.4 requires numpy>=1.23, but you have numpy 1.22.4 which is incompatible.\n",
            "bigframes 1.25.0 requires matplotlib>=3.7.1, but you have matplotlib 3.5.1 which is incompatible.\n",
            "bigframes 1.25.0 requires numpy>=1.24.0, but you have numpy 1.22.4 which is incompatible.\n",
            "chex 0.1.87 requires numpy>=1.24.1, but you have numpy 1.22.4 which is incompatible.\n",
            "contourpy 1.3.0 requires numpy>=1.23, but you have numpy 1.22.4 which is incompatible.\n",
            "cudf-cu12 24.10.1 requires numpy<3.0a0,>=1.23, but you have numpy 1.22.4 which is incompatible.\n",
            "ibis-framework 9.2.0 requires numpy<3,>=1.23.2, but you have numpy 1.22.4 which is incompatible.\n",
            "jax 0.4.33 requires numpy>=1.24, but you have numpy 1.22.4 which is incompatible.\n",
            "jax 0.4.33 requires scipy>=1.10, but you have scipy 1.9.3 which is incompatible.\n",
            "jaxlib 0.4.33 requires numpy>=1.24, but you have numpy 1.22.4 which is incompatible.\n",
            "jaxlib 0.4.33 requires scipy>=1.10, but you have scipy 1.9.3 which is incompatible.\n",
            "mizani 0.13.0 requires numpy>=1.23.5, but you have numpy 1.22.4 which is incompatible.\n",
            "numexpr 2.10.1 requires numpy>=1.23.0, but you have numpy 1.22.4 which is incompatible.\n",
            "nx-cugraph-cu12 24.10.0 requires numpy<3.0a0,>=1.23, but you have numpy 1.22.4 which is incompatible.\n",
            "pandas-gbq 0.24.0 requires google-auth-oauthlib>=0.7.0, but you have google-auth-oauthlib 0.4.6 which is incompatible.\n",
            "pandas-stubs 2.2.2.240909 requires numpy>=1.23.5, but you have numpy 1.22.4 which is incompatible.\n",
            "plotnine 0.14.0 requires matplotlib>=3.8.0, but you have matplotlib 3.5.1 which is incompatible.\n",
            "plotnine 0.14.0 requires numpy>=1.23.5, but you have numpy 1.22.4 which is incompatible.\n",
            "pylibraft-cu12 24.10.0 requires numpy<3.0a0,>=1.23, but you have numpy 1.22.4 which is incompatible.\n",
            "rmm-cu12 24.10.0 requires numpy<3.0a0,>=1.23, but you have numpy 1.22.4 which is incompatible.\n",
            "scikit-image 0.24.0 requires numpy>=1.23, but you have numpy 1.22.4 which is incompatible.\n",
            "tensorflow 2.18.0 requires numpy<2.1.0,>=1.26.0, but you have numpy 1.22.4 which is incompatible.\n",
            "tf-keras 2.17.0 requires tensorflow<2.18,>=2.17, but you have tensorflow 2.18.0 which is incompatible.\n",
            "xarray 2024.10.0 requires numpy>=1.24, but you have numpy 1.22.4 which is incompatible.\n",
            "xarray-einstats 0.8.0 requires numpy>=1.23, but you have numpy 1.22.4 which is incompatible.\u001b[0m\u001b[31m\n",
            "\u001b[0mSuccessfully installed numpy-1.22.4 scipy-1.9.3\n"
          ]
        },
        {
          "output_type": "display_data",
          "data": {
            "application/vnd.colab-display-data+json": {
              "pip_warning": {
                "packages": [
                  "numpy"
                ]
              },
              "id": "ddc0ae64f7ef4bdc8d6678f492bd7fbf"
            }
          },
          "metadata": {}
        }
      ]
    },
    {
      "cell_type": "code",
      "metadata": {
        "colab": {
          "base_uri": "https://localhost:8080/",
          "height": 106
        },
        "id": "26d53daa-9371-44ee-8fa0-02a952b58666",
        "outputId": "e4d6aaab-e328-4d6c-de56-a9232ead3cb2"
      },
      "outputs": [
        {
          "output_type": "error",
          "ename": "RuntimeError",
          "evalue": "module was compiled against NumPy C-API version 0x10 (NumPy 1.23) but the running NumPy has C-API version 0xf. Check the section C-API incompatibility at the Troubleshooting ImportError section at https://numpy.org/devdocs/user/troubleshooting-importerror.html#c-api-incompatibility for indications on how to solve this problem.",
          "traceback": [
            "\u001b[0;31m---------------------------------------------------------------------------\u001b[0m",
            "\u001b[0;31mRuntimeError\u001b[0m                              Traceback (most recent call last)",
            "\u001b[0;31mRuntimeError\u001b[0m: module was compiled against NumPy C-API version 0x10 (NumPy 1.23) but the running NumPy has C-API version 0xf. Check the section C-API incompatibility at the Troubleshooting ImportError section at https://numpy.org/devdocs/user/troubleshooting-importerror.html#c-api-incompatibility for indications on how to solve this problem."
          ]
        }
      ],
      "source": [
        "import random\n",
        "\n",
        "import pathlib\n",
        "import numpy as np\n",
        "import pandas as pd\n",
        "import matplotlib.pyplot as plt\n",
        "import seaborn as sns\n",
        "%matplotlib inline\n",
        "\n",
        "import PIL\n",
        "import PIL.Image\n",
        "from PIL import Image, ImageOps\n",
        "import tensorflow as tf\n",
        "\n",
        "import keras\n",
        "from keras.preprocessing import image\n",
        "import tensorflow as tf\n",
        "from tensorflow import keras\n",
        "from tensorflow.keras import layers\n",
        "from tensorflow.keras.preprocessing.image import load_img\n",
        "from keras.models import Model\n",
        "from keras.layers import Input, Dense\n",
        "\n",
        "import cv2\n",
        "\n",
        "sns.set_context('notebook')\n",
        "sns.set_style('white')"
      ],
      "execution_count": 1
    },
    {
      "cell_type": "markdown",
      "metadata": {
        "id": "927a20a6-8f64-4cf5-9ed0-930e1697b6a6"
      },
      "source": [
        "### Defining Helper Functions\n"
      ]
    },
    {
      "cell_type": "code",
      "metadata": {
        "id": "36577186-bd1e-4f0a-919c-8b45e4aabcae"
      },
      "outputs": [],
      "source": [
        "# This function will allow us to visualize four sample images from the loaded toy image dataset.\n",
        "def visualize(X_train):\n",
        "    plt.rcParams['figure.figsize'] = (6,6)\n",
        "\n",
        "    for i in range(4):\n",
        "        plt.subplot(2,2,i+1)\n",
        "        num = random.randint(0, len(X_train))\n",
        "        plt.imshow(X_train[num], cmap='gray', interpolation='none', vmin=0, vmax=255)\n",
        "        plt.title(\"class {}\".format(y_train[num]))\n",
        "\n",
        "    plt.tight_layout()"
      ],
      "execution_count": null
    },
    {
      "cell_type": "markdown",
      "metadata": {
        "id": "581e0b5e-c648-4ca1-83dd-7ef7d1fe1cb6"
      },
      "source": [
        "## Background\n"
      ]
    },
    {
      "cell_type": "markdown",
      "metadata": {
        "id": "f1d4d1cc-b8d7-400e-acb2-9127a5aa4243"
      },
      "source": [
        "Keras is an open-source Python library used for developing and evaluating deep learning models. It provides utilities for loading, preparing, converting, augmenting, and saving image data. In this lab, we will explore various ways of loading image datasets in Keras.\n"
      ]
    },
    {
      "cell_type": "code",
      "metadata": {
        "id": "9aea749f-00ae-4497-9997-4aa81f584991"
      },
      "outputs": [],
      "source": [
        "# Print tensorflow version\n",
        "print(tf.__version__)\n",
        "\n",
        "# Try !pip install --upgrade tensorflow if the version printed\n",
        "# is less than 2.9.0"
      ],
      "execution_count": null
    },
    {
      "cell_type": "markdown",
      "metadata": {
        "id": "fa85d8c9-b632-4e92-996f-0c2dccb8e05f"
      },
      "source": [
        "## Ways to load images\n"
      ]
    },
    {
      "cell_type": "markdown",
      "metadata": {
        "id": "ead8693f-571d-4128-8802-822e51f5ece8"
      },
      "source": [
        "We will look into four main ways of using image datasets in Keras:\n",
        "\n",
        "*   Loading in a ready-to-use toy dataset from [Keras](https://keras.io/api/datasets/?utm_medium=Exinfluencer&utm_source=Exinfluencer&utm_content=000026UJ&utm_term=10006555&utm_id=NA-SkillsNetwork-Channel-SkillsNetworkCoursesIBMDeveloperSkillsNetworkML311Coursera35714171-2022-01-01)\n",
        "*   Loading individual images as PIL objects\n",
        "*   Reading a directory of images on disk using `tf.keras.utils.image_dataset_from_directory`.\n",
        "*   Loading image from URL\n"
      ]
    },
    {
      "cell_type": "markdown",
      "metadata": {
        "id": "b5db41ad-c195-4742-b7da-067dc33818ce"
      },
      "source": [
        "### A. Ready-to-use toy datasets\n"
      ]
    },
    {
      "cell_type": "markdown",
      "metadata": {
        "id": "1a68620e-0e68-4096-b22b-329a161ee897"
      },
      "source": [
        "The `tf.keras.datasets` in Keras provide a few in-built image datasets that have been cleaned and are typically helpful in debugging models, or creating simple examples.\n",
        "\n",
        "These include MNIST hand-written digits, Fashion MNIST, CIFAR10, and CIFAR100.\n"
      ]
    },
    {
      "cell_type": "markdown",
      "metadata": {
        "id": "01fbb4b0-c3d4-49b6-831e-492dca6139f3"
      },
      "source": [
        "**MNIST hand-written digits** is a collection of 60,000 28x28 grayscale images belonging to 10 different classes, along with a test set of 10,000 images. Let us load in the MNIST hand-written digits dataset using the `load_data` function.\n"
      ]
    },
    {
      "cell_type": "code",
      "metadata": {
        "id": "fcb700e7-1bcf-495a-8855-d447ca6b86e3"
      },
      "outputs": [],
      "source": [
        "(X_train, y_train), (X_test, y_test) = keras.datasets.mnist.load_data()"
      ],
      "execution_count": null
    },
    {
      "cell_type": "markdown",
      "metadata": {
        "id": "0470e641-37fe-4cbd-9990-6ca727e5c7ab"
      },
      "source": [
        "X_train is a uint8 numpy array of grayscale images with shapes (60000, 28, 28) from the training dataset. Its pixel values range from 0 to 255.\n",
        "\n",
        "y_train is a uint8 numpy array of digit labels (integers in range 0-9) with shape (60000) for the training data.\n"
      ]
    },
    {
      "cell_type": "code",
      "metadata": {
        "id": "13c93b16-9e64-44c6-a0aa-7853b93c5708"
      },
      "outputs": [],
      "source": [
        "print(X_train.shape)\n",
        "print(X_train.dtype)\n",
        "print(y_train.shape)\n",
        "print(y_train.dtype)"
      ],
      "execution_count": null
    },
    {
      "cell_type": "markdown",
      "metadata": {
        "id": "43d3b2b9-56c7-4ac7-9428-c620db59dd9f"
      },
      "source": [
        "Let's visualize four random images from the training set. Only one color channel is needed to display the image as a grayscale. So for this step, we take a single color channel and display the image using the `plt.imshow()` method with `cmap` set to `gray`, `vmin` set to 0, and `vmax` set to 255.\n"
      ]
    },
    {
      "cell_type": "code",
      "metadata": {
        "id": "4935bccd-496e-4794-8d64-440da77dd8fb"
      },
      "outputs": [],
      "source": [
        "visualize(X_train)"
      ],
      "execution_count": null
    },
    {
      "cell_type": "markdown",
      "metadata": {
        "id": "0c585ff6-5c36-46fb-8aab-6e41857d3569"
      },
      "source": [
        "#### Using image data with Autoencoders\n"
      ]
    },
    {
      "cell_type": "markdown",
      "metadata": {
        "id": "e42281e1-ffd7-48d6-93b6-64ae27b939ab"
      },
      "source": [
        "As you will see in future labs, an autoencoder (AE) is a neural network where the input is the same as the output.  \n",
        "\n",
        "To build an AE, you need three things:\n",
        "\n",
        "* an encoding function\n",
        "* a decoding function\n",
        "* distance function between the amount of information loss between the compressed representation of your data and the decompressed representation, that is, a loss function\n",
        "\n",
        "Some practical applications of AEs are data denoising and dimensionality reduction for data visualization.\n"
      ]
    },
    {
      "cell_type": "markdown",
      "metadata": {
        "id": "7fb3d50c-2212-48c5-844e-580bbf1acc36"
      },
      "source": [
        "We can define a size for our encoded representations, and use `Dense()` to create encoded representation of the input. Similarly, we can use `Dense()` to create lossy reconstructions of the input. As seen below, `encoded` has a shape of (None, 64) and `reconstruction` has the original input size of (None, 784).\n"
      ]
    },
    {
      "cell_type": "code",
      "metadata": {
        "id": "9edc5028-8366-4189-9b77-9ee938403ff5"
      },
      "outputs": [],
      "source": [
        "ENCODING_DIM = 64\n",
        "\n",
        "# Encoded representations:\n",
        "inputs = Input(shape=(784,))\n",
        "encoded = Dense(ENCODING_DIM, activation=\"sigmoid\")(inputs)\n",
        "\n",
        "# Reconstructions:\n",
        "encoded_inputs = Input(shape=(ENCODING_DIM,), name='encoding')\n",
        "reconstruction = Dense(784, activation=\"sigmoid\")(encoded_inputs)\n",
        "\n",
        "print(\"Encoded Input: \", encoded.shape)\n",
        "print(\"Reconstructed Input: \", reconstruction.shape)"
      ],
      "execution_count": null
    },
    {
      "cell_type": "markdown",
      "metadata": {
        "id": "6ebec7af-028c-4db7-908c-40d2a7ebde4d"
      },
      "source": [
        "Using this technique, we can instantiate three types of models:\n",
        "\n",
        "* End-to-end AEs mapping inputs to reconstructions\n",
        "* An encoder mapping inputs to the latent space\n",
        "* A decoder that takes in points from latent space and output corresponding reconstructed samples\n"
      ]
    },
    {
      "cell_type": "markdown",
      "metadata": {
        "id": "8539c787-0f84-474f-af80-eda4358a89c2"
      },
      "source": [
        "### Exercise 1 - Load Fashion MNIST\n"
      ]
    },
    {
      "cell_type": "markdown",
      "metadata": {
        "id": "b69a65dc-ae6a-41f5-a167-6c98830b45ee"
      },
      "source": [
        "**Fashion MNIST** is another collection of 60,000 28x28 grayscale images belonging to 10 different classes, along with a test set of 10,000 images. Write code to load the Fashion MNIST dataset using  `fashion_mnist.load_data()` from `keras.datasets`.\n"
      ]
    },
    {
      "cell_type": "code",
      "metadata": {
        "id": "b3668ca1-debc-4b03-b5d4-1dcd379ef585"
      },
      "outputs": [],
      "source": [
        "# Write your code here\n"
      ],
      "execution_count": null
    },
    {
      "cell_type": "markdown",
      "metadata": {
        "id": "259be6fb-d799-4bb6-91a7-c77b1ece643f"
      },
      "source": [
        "<details>\n",
        "    <summary>Click here for solution</summary>\n",
        "\n",
        "```python\n",
        "\n",
        "(X_train, y_train), (X_test, y_test) = keras.datasets.fashion_mnist.load_data()\n",
        "\n",
        "```\n",
        "\n",
        "</details>\n"
      ]
    },
    {
      "cell_type": "markdown",
      "metadata": {
        "id": "64161fa6-294d-44f3-8efd-d5d04d22ee3a"
      },
      "source": [
        "X_train is a uint8 numpy array of grayscale images with shapes (60000, 28, 28) from the training dataset. Its pixel values range from 0 to 255.\n",
        "\n",
        "y_train is a uint8 numpy array of digit labels (integers in range 0-9) with shape (60000,) for the training data.\n"
      ]
    },
    {
      "cell_type": "markdown",
      "metadata": {
        "id": "97775c31-4982-4cc5-8c5a-85158af499df"
      },
      "source": [
        "Now print the shape and dtype of the X_train and y_train arrays.\n"
      ]
    },
    {
      "cell_type": "code",
      "metadata": {
        "id": "94705cb1-0f31-480c-93d3-51e38cb4894a"
      },
      "outputs": [],
      "source": [],
      "execution_count": null
    },
    {
      "cell_type": "markdown",
      "metadata": {
        "id": "42205de8-fd01-41fe-ac73-b1d4e5eef6d5"
      },
      "source": [
        "Display a few randomly selected images as grayscale using the `visualize()` helper function.\n"
      ]
    },
    {
      "cell_type": "code",
      "metadata": {
        "id": "0f586883-973d-4066-a76b-f68905f65f34"
      },
      "outputs": [],
      "source": [
        "# Write your code here\n",
        "# Visualize a few images from the training set\n",
        "\n"
      ],
      "execution_count": null
    },
    {
      "cell_type": "markdown",
      "metadata": {
        "id": "7249d34c-840f-4351-adc7-c05e6779c528"
      },
      "source": [
        "<details><summary>Solution</summary>\n",
        "\n",
        "```python\n",
        "visualize(X_train)\n",
        "\n",
        "```\n",
        "\n",
        "</details>\n"
      ]
    },
    {
      "cell_type": "markdown",
      "metadata": {
        "id": "9c44525b-232c-48b6-afd0-5b62dec55d3c"
      },
      "source": [
        "**CIFAR10** is a collection of 50,000 32x32 color training images labeled over 10 different categories, along with a test set of 10,000 images.\n"
      ]
    },
    {
      "cell_type": "code",
      "metadata": {
        "id": "ee014722-3eee-410c-9167-2b830e2bfd55"
      },
      "outputs": [],
      "source": [
        "(X_train, y_train), (X_test, y_test) = keras.datasets.cifar10.load_data()"
      ],
      "execution_count": null
    },
    {
      "cell_type": "markdown",
      "metadata": {
        "id": "fb34c2ab-2224-4537-9c3d-7a9ea2cfb9d2"
      },
      "source": [
        "X_train is a uint8 numpy array of grayscale image data with shapes (50000, 32, 32, 3), containing the training data. Pixel values range from 0 to 255.\n",
        "\n",
        "y_train is a uint8 NumPy array of labels (integers in range 0-9) with shape (50000, 1) for the training data.\n"
      ]
    },
    {
      "cell_type": "code",
      "metadata": {
        "id": "a4374e32-83ef-4cd3-982c-e39f329cab0b"
      },
      "outputs": [],
      "source": [
        "print(X_train.shape)\n",
        "print(X_train.dtype)"
      ],
      "execution_count": null
    },
    {
      "cell_type": "code",
      "metadata": {
        "id": "b1e5ec9e-f2ea-42ba-b9ec-3d747939c201"
      },
      "outputs": [],
      "source": [
        "visualize(X_train)"
      ],
      "execution_count": null
    },
    {
      "cell_type": "markdown",
      "metadata": {
        "id": "64308111-080a-4761-8180-1929af6f7a4e"
      },
      "source": [
        "**CIFAR100** is a collection of 50,000 32x32 color training images labeled over 100 fine-grained classes and 20 coarse-grained classes, along with a test set of 10,000 images. The 100 classes in the CIFAR-100 are grouped into 20 superclasses. Each image comes with a \"fine\" label (label) and a \"coarse\" label (superclass).\n"
      ]
    },
    {
      "cell_type": "markdown",
      "metadata": {
        "id": "5dd007cb-783f-46fe-9a59-50389685ba1a"
      },
      "source": [
        "Using the fine `label_mode`:\n"
      ]
    },
    {
      "cell_type": "code",
      "metadata": {
        "id": "bf545ecf-9714-4538-8546-8aaefc06dd2a"
      },
      "outputs": [],
      "source": [
        "(X_train, y_train), (X_test, y_test) = keras.datasets.cifar100.load_data(label_mode = 'fine')"
      ],
      "execution_count": null
    },
    {
      "cell_type": "markdown",
      "metadata": {
        "id": "8a02b241-3fe4-4f1c-bdd0-752c6c0b14d7"
      },
      "source": [
        "X_train is a uint8 numpy array of grayscale image data with shapes (50000, 32, 32, 3), containing the training data. Pixel values range from 0 to 255.\n",
        "\n",
        "y_train is a uint8 numpy array of labels (integers in range 0-99) with shape (50000, 1) for the training data.\n"
      ]
    },
    {
      "cell_type": "code",
      "metadata": {
        "id": "77b6f830-dbc3-4a9e-8208-364f2bde1538"
      },
      "outputs": [],
      "source": [
        "print(X_train.shape)\n",
        "print(X_train.dtype)"
      ],
      "execution_count": null
    },
    {
      "cell_type": "code",
      "metadata": {
        "id": "6d20e236-d1eb-4e9d-b4d7-4b2b3f995c21"
      },
      "outputs": [],
      "source": [
        "visualize(X_train)"
      ],
      "execution_count": null
    },
    {
      "cell_type": "markdown",
      "metadata": {
        "id": "61ab9370-4dd2-4243-969c-01ea63baeca4"
      },
      "source": [
        "### Exercise 2 - Load CIFAR100 with coarse label_mode\n"
      ]
    },
    {
      "cell_type": "markdown",
      "metadata": {
        "id": "dc802368-ef33-40dd-8e49-cab8ed3c0d27"
      },
      "source": [
        "Load the CIFAR100 dataset by setting the pramter ```label_mode = 'coarse'``` in the ```load_data``` function .\n"
      ]
    },
    {
      "cell_type": "code",
      "metadata": {
        "id": "af9500fa-b5f8-424c-8553-99eb968aad71"
      },
      "outputs": [],
      "source": [
        "# Write your solution here\n",
        "# Load the Fashion CIFAR100 dataset using the coarse label_mode\n",
        "\n"
      ],
      "execution_count": null
    },
    {
      "cell_type": "markdown",
      "metadata": {
        "id": "25cb4a02-6362-402f-98c2-1a1ed9635ad5"
      },
      "source": [
        "<details><summary>Solution</summary>\n",
        "\n",
        "```python\n",
        "(X_train, y_train), (X_test, y_test) = keras.datasets.cifar100.load_data(label_mode = 'coarse')\n",
        "\n",
        "```\n",
        "\n",
        "</details>\n"
      ]
    },
    {
      "cell_type": "markdown",
      "metadata": {
        "id": "44c785d0-b4f1-42c7-8b52-390433ca2d52"
      },
      "source": [
        "Visualize a few images from the training set using the `visualize()` helper function.\n"
      ]
    },
    {
      "cell_type": "code",
      "metadata": {
        "id": "77216f78-3e24-4e98-9acc-9eda1f86f640"
      },
      "outputs": [],
      "source": [
        "# Write your solution here\n"
      ],
      "execution_count": null
    },
    {
      "cell_type": "markdown",
      "metadata": {
        "id": "8de8b208-5392-4efc-b9ad-911eb1d14f0d"
      },
      "source": [
        "<details><summary>Solution</summary>\n",
        "\n",
        "```python\n",
        "visualize(X_train)\n",
        "\n",
        "```\n",
        "\n",
        "</details>\n"
      ]
    },
    {
      "cell_type": "markdown",
      "metadata": {
        "id": "05833b32-decc-42d9-ad48-7dff31f85959"
      },
      "source": [
        "### B. Load individual images as PIL objects\n"
      ]
    },
    {
      "cell_type": "markdown",
      "metadata": {
        "id": "78df4bd8-cb49-4895-9160-35fb81f07ea0"
      },
      "source": [
        "We will save the following image into our working environment.\n"
      ]
    },
    {
      "cell_type": "code",
      "metadata": {
        "id": "1b42cf46-93e7-41a0-bdd4-65215c920f62"
      },
      "outputs": [],
      "source": [
        "import requests\n",
        "\n",
        "URL = 'https://cf-courses-data.s3.us.cloud-object-storage.appdomain.cloud/IBMDeveloperSkillsNetwork-ML311-Coursera/labs/Module3/L1/Dog_Breeds.jpg'\n",
        "filename = URL.split('/')[-1]\n",
        "r = requests.get(URL, allow_redirects=True)\n",
        "open(filename, 'wb').write(r.content)"
      ],
      "execution_count": null
    },
    {
      "cell_type": "markdown",
      "metadata": {
        "id": "233219d0-d8dc-4c85-8ff2-baba61ef2d0d"
      },
      "source": [
        "Next, we will specify a `target_size` of the image using a tuple of ints.\n"
      ]
    },
    {
      "cell_type": "code",
      "metadata": {
        "id": "8cd5e2bc-45b5-4e58-9162-4eb06e14e6c9"
      },
      "outputs": [],
      "source": [
        "img_height, img_width = 100, 100"
      ],
      "execution_count": null
    },
    {
      "cell_type": "markdown",
      "metadata": {
        "id": "a62baef2-9227-4b28-ab64-f32b67676f34"
      },
      "source": [
        "Using the path of the image we saved, we will use the `load_img` function to return a PIL Image instance.\n"
      ]
    },
    {
      "cell_type": "code",
      "metadata": {
        "id": "8270563c-f475-4f54-9821-7edde5877972"
      },
      "outputs": [],
      "source": [
        "gray_img = load_img(\n",
        "    'Dog_Breeds.jpg',\n",
        "    target_size=(img_height, img_width),\n",
        "    interpolation='nearest', grayscale = True)\n",
        "\n",
        "color_img = load_img(\n",
        "    'Dog_Breeds.jpg',\n",
        "    target_size=(img_height, img_width),\n",
        "    interpolation='nearest', grayscale = False)\n",
        "\n",
        "\n",
        "print(type(gray_img))\n",
        "print(type(color_img))"
      ],
      "execution_count": null
    },
    {
      "cell_type": "markdown",
      "metadata": {
        "id": "72fd5856-f81a-411f-8d7b-258df34e1214"
      },
      "source": [
        "We can plot each image\n"
      ]
    },
    {
      "cell_type": "code",
      "metadata": {
        "id": "ba1b1fe3-e45a-4fa1-ac68-b1d576f211c1"
      },
      "outputs": [],
      "source": [
        "plt.imshow(gray_img,cmap=\"gray\")\n",
        "plt.show()"
      ],
      "execution_count": null
    },
    {
      "cell_type": "code",
      "metadata": {
        "id": "972a2b23-62a6-4e1b-ad3f-0bbb97838600"
      },
      "outputs": [],
      "source": [
        "plt.imshow(color_img)\n",
        "plt.show()"
      ],
      "execution_count": null
    },
    {
      "cell_type": "markdown",
      "metadata": {
        "id": "e97cdc62-fec0-4b41-bef9-6c331ddabe75"
      },
      "source": [
        "#### Converting an image\n"
      ]
    },
    {
      "cell_type": "markdown",
      "metadata": {
        "id": "9e37c466-50bb-4542-91ca-5eb831a00841"
      },
      "source": [
        "We can convert the PIL image to a 3D numpy array of pixel data, and a single image to a batch using the following code:\n"
      ]
    },
    {
      "cell_type": "code",
      "metadata": {
        "id": "d6c79f8f-d869-46ec-a11d-c84feb24a119"
      },
      "outputs": [],
      "source": [
        "input_arr = tf.keras.preprocessing.image.img_to_array(color_img)\n",
        "\n",
        "\n",
        "print(\"image shape\",input_arr.shape)\n"
      ],
      "execution_count": null
    },
    {
      "cell_type": "markdown",
      "metadata": {
        "id": "31f834b7-0082-4fec-a043-2f34f8221709"
      },
      "source": [
        "We need to add the batch dimension before the using  Keras, we can add the batch dimension as follows:\n"
      ]
    },
    {
      "cell_type": "code",
      "metadata": {
        "id": "68d1ff01-c66f-4a94-ae67-e608a0ff655d"
      },
      "outputs": [],
      "source": [
        "# Convert single image to a batch\n",
        "input_arr_batch = np.array([input_arr])\n",
        "#or\n",
        "input_arr_batch=input_arr.reshape(-1,input_arr.shape[0],input_arr.shape[1],input_arr.shape[2])"
      ],
      "execution_count": null
    },
    {
      "cell_type": "code",
      "metadata": {
        "id": "d10e689c-b039-4529-91b9-3826825d5352"
      },
      "outputs": [],
      "source": [
        "print(\"image shape plus batch dimension\",input_arr_batch.shape)"
      ],
      "execution_count": null
    },
    {
      "cell_type": "markdown",
      "metadata": {
        "id": "9ee4f2ed-912b-42c1-ae31-3781ee666adc"
      },
      "source": [
        "Similarly, we can convert a numpy array of pixel data back to an image.\n"
      ]
    },
    {
      "cell_type": "code",
      "metadata": {
        "id": "4603ec24-5d93-4dc3-a354-0696368b9779"
      },
      "outputs": [],
      "source": [
        "# Write your solution here\n",
        "# Convert the numpy array back to an image\n",
        "color_img = tf.keras.preprocessing.image.array_to_img(input_arr)\n",
        "plt.imshow(color_img)\n",
        "plt.show()"
      ],
      "execution_count": null
    },
    {
      "cell_type": "markdown",
      "metadata": {
        "id": "e9e0c6d8-66c5-444e-8f03-e741903dcd97"
      },
      "source": [
        "#### Saving an image\n"
      ]
    },
    {
      "cell_type": "code",
      "metadata": {
        "id": "5b308285-df31-415c-94b6-4ed7da98e770"
      },
      "outputs": [],
      "source": [
        "tf.keras.preprocessing.image.save_img('dog_color_img.jpg', color_img)"
      ],
      "execution_count": null
    },
    {
      "cell_type": "markdown",
      "metadata": {
        "id": "29f8bff4-6c3d-40ae-9748-4fe83a44d5ae"
      },
      "source": [
        "### C. Load from directory of images\n"
      ]
    },
    {
      "cell_type": "markdown",
      "metadata": {
        "id": "4a149210-4078-4546-b1fc-cf51e9a6c134"
      },
      "source": [
        "We can use the `ImageDataGenerator` class in Keras to load train, test, and validation datasets. This is especially useful when working with datasets containing several thousand or millions of images. More details on content provided in this sub-section can be found in the Tensorflow [documentation](https://www.tensorflow.org/tutorials/load_data/images?utm_medium=Exinfluencer&utm_source=Exinfluencer&utm_content=000026UJ&utm_term=10006555&utm_id=NA-SkillsNetwork-Channel-SkillsNetworkCoursesIBMDeveloperSkillsNetworkML311Coursera35714171-2022-01-01).\n"
      ]
    },
    {
      "cell_type": "markdown",
      "metadata": {
        "id": "1c2c43ba-9634-49b4-85fd-294f65dd6873"
      },
      "source": [
        "We will first load in our dataset of flowers, and then look at what we have.\n",
        "\n",
        "The dataset has five types of flowers.\n",
        "\n",
        "| Category | Flower       |\n",
        "| -------- | ------------ |\n",
        "| 0        | `Daisies`    |\n",
        "| 1        | `Dandelions` |\n",
        "| 2        | `Roses`      |\n",
        "| 3        | `Sunflowers` |\n",
        "| 4        | `Tulips`     |\n",
        "\n",
        "Let's load the data and take a look.\n",
        "\n",
        "Because the flower dataset is not one of the default small toy datasets available, we'll need to download it using the `keras.utils.get_file()` function.  \n",
        "Note that you will only need to specify the first three arguments.\n",
        "\n",
        "```python\n",
        "keras.utils.get_file(\n",
        "    fname=None,\n",
        "    origin=None,\n",
        "    untar=False,\n",
        "    md5_hash=None,\n",
        "    file_hash=None,\n",
        "    cache_subdir='datasets',\n",
        "    hash_algorithm='auto',\n",
        "    extract=False,\n",
        "    archive_format='auto',\n",
        "    cache_dir=None\n",
        ")\n",
        "```\n"
      ]
    },
    {
      "cell_type": "code",
      "metadata": {
        "id": "ba48256b-ef27-4ab0-a06e-bffb5f02fadd"
      },
      "outputs": [],
      "source": [
        "import pathlib\n",
        "dataset_url = \"https://cf-courses-data.s3.us.cloud-object-storage.appdomain.cloud/IBMDeveloperSkillsNetwork-ML311-Coursera/datasets/flower_photos.tgz\"\n",
        "\n",
        "# Download the data and track where it's saved using tf.keras.utils.get_file in a variable called data_dir\n",
        "data_dir = keras.utils.get_file(origin=dataset_url,\n",
        "                                   fname='flower_photos',\n",
        "                                   untar=True)\n",
        "data_dir = pathlib.Path(data_dir)\n",
        "\n",
        "for folder in data_dir.glob('[!LICENSE]*'):\n",
        "    print('The', folder.name, 'folder has', len(list(folder.glob('*.jpg'))), 'pictures')\n",
        "image_count = len(list(data_dir.glob('*/*.jpg')))\n",
        "print(image_count, 'total images')"
      ],
      "execution_count": null
    },
    {
      "cell_type": "markdown",
      "metadata": {
        "id": "8cb09920-a0a1-4e76-a5b1-0094831e48ba"
      },
      "source": [
        "The files are stored in the following directory.\n",
        "\n",
        "```python\n",
        "flower_photos\n",
        "    └── daisy\n",
        "    └── dandelion\n",
        "    └── roses\n",
        "    └── sunflowers\n",
        "    └── tulips\n",
        "\n",
        "```\n"
      ]
    },
    {
      "cell_type": "markdown",
      "metadata": {
        "id": "6022a38a-3d60-4c52-9606-506e36554d23"
      },
      "source": [
        "It seems there are a substantial amount of photos for each type of photo.\n",
        "\n",
        "We can checkout some of the images below.\n"
      ]
    },
    {
      "cell_type": "markdown",
      "metadata": {
        "id": "fba242f7-70cd-4903-9f4c-49eb4316172c"
      },
      "source": [
        "#### Visualizing images\n"
      ]
    },
    {
      "cell_type": "code",
      "metadata": {
        "id": "705e608d-33dc-4056-9bb8-7cbefb359771"
      },
      "outputs": [],
      "source": [
        "dandelion = list(data_dir.glob('dandelion/*'))\n",
        "PIL.Image.open(str(dandelion[1]))"
      ],
      "execution_count": null
    },
    {
      "cell_type": "code",
      "metadata": {
        "id": "7f23d0db-ddcb-4dbf-b0a0-27e13a6cc9c0"
      },
      "outputs": [],
      "source": [
        "roses = list(data_dir.glob('roses/*'))\n",
        "PIL.Image.open(str(roses[1]))"
      ],
      "execution_count": null
    },
    {
      "cell_type": "code",
      "metadata": {
        "id": "377b82af-7419-4055-86c9-c1bba3b1c33e"
      },
      "outputs": [],
      "source": [
        "sunflowers = list(data_dir.glob('sunflowers/*'))\n",
        "PIL.Image.open(str(sunflowers[1]))"
      ],
      "execution_count": null
    },
    {
      "cell_type": "code",
      "metadata": {
        "id": "fa37f369-5cf5-4705-a653-04824c4e465e"
      },
      "outputs": [],
      "source": [
        "daisy = list(data_dir.glob('daisy/*'))\n",
        "\n",
        "PIL.Image.open(str(daisy[1]))"
      ],
      "execution_count": null
    },
    {
      "cell_type": "markdown",
      "metadata": {
        "id": "2b6f941e-840e-41a6-8671-0e7f07f9146d"
      },
      "source": [
        "We can see that these photos are in various lighting conditions, framing, sizes, and zoom.\n"
      ]
    },
    {
      "cell_type": "code",
      "metadata": {
        "id": "cb5ab9f9-aa97-4c4c-98f3-302802128a52"
      },
      "outputs": [],
      "source": [
        "# The batch size simply specifies the number of images to pass through our neural network at a time, until the entire training set is passed through. 32 is the default\n",
        "batch_size = 32\n",
        "\n",
        "# Here we set the size of all the images to be 200x200\n",
        "img_height = 200\n",
        "img_width = 200"
      ],
      "execution_count": null
    },
    {
      "cell_type": "markdown",
      "metadata": {
        "id": "11aeda6b-941d-46ec-be41-5eec87d070e6"
      },
      "source": [
        "Here we split our images into training and validation sets using the `keras.utils.image_dataset_from_directory()` function.\n",
        "\n",
        "*   Because our flower images are sorted into subfolders named after the type of flower, this method can automatically load in images and label them with the correct classes.\n",
        "*   In order to plug these photos into our neural network as an input, we'll have to standardize the image sizes. We can do that with the `image_size` argument.\n"
      ]
    },
    {
      "cell_type": "markdown",
      "metadata": {
        "id": "6466df6f-f061-42ba-bf37-6afb79d92fe1"
      },
      "source": [
        "Let us use `image_dataset_from_directory` to load images off disk:\n"
      ]
    },
    {
      "cell_type": "code",
      "metadata": {
        "id": "c00e1a36-f810-47d2-bd05-5bb4f31ad4f8"
      },
      "outputs": [],
      "source": [
        "train_ds = tf.keras.utils.image_dataset_from_directory(\n",
        "  data_dir,\n",
        "  validation_split=0.2,\n",
        "  subset=\"training\",\n",
        "  seed=123,\n",
        "  image_size=(img_height, img_width),\n",
        "  batch_size=batch_size)"
      ],
      "execution_count": null
    },
    {
      "cell_type": "markdown",
      "metadata": {
        "id": "af69ec7c-efe6-43ab-8559-9035ef56c9f1"
      },
      "source": [
        "### Exercise 3 - Load validation set from the directory\n"
      ]
    },
    {
      "cell_type": "markdown",
      "metadata": {
        "id": "7300bd62-97f6-487e-a03f-c48e9ccab297"
      },
      "source": [
        "Use the `image_dataset_from_directory` to load the validation set from the directory\n"
      ]
    },
    {
      "cell_type": "code",
      "metadata": {
        "id": "7e3e2ffa-020e-40dd-af76-f54c646bc1f5"
      },
      "outputs": [],
      "source": [
        "# Write your code here\n",
        "\n"
      ],
      "execution_count": null
    },
    {
      "cell_type": "markdown",
      "metadata": {
        "id": "6b5e1d07-b9c4-4df1-a8f6-e17f42720734"
      },
      "source": [
        "<details><summary>Solution</summary>\n",
        "\n",
        "```python\n",
        "  validation_ds = tf.keras.utils.image_dataset_from_directory(\n",
        "  data_dir,\n",
        "  validation_split=0.2,\n",
        "  subset=\"validation\",\n",
        "  seed=123,\n",
        "  image_size=(img_height, img_width),\n",
        "  batch_size=batch_size)\n",
        "\n",
        "```\n",
        "\n",
        "</details>\n"
      ]
    },
    {
      "cell_type": "markdown",
      "metadata": {
        "id": "ea5bb449-4944-4dd7-8d72-9bd0df01c9f3"
      },
      "source": [
        "We can show the class names\n"
      ]
    },
    {
      "cell_type": "code",
      "metadata": {
        "id": "694b347e-fa53-45d2-8fd5-c4b20f01284c"
      },
      "outputs": [],
      "source": [
        "class_names = train_ds.class_names\n",
        "class_names"
      ],
      "execution_count": null
    },
    {
      "cell_type": "markdown",
      "metadata": {
        "id": "1f2bd9c5-dba9-4429-83fc-d688c2557c77"
      },
      "source": [
        "Let's look at some sample rows from the dataset we loaded:\n"
      ]
    },
    {
      "cell_type": "code",
      "metadata": {
        "id": "53837bf7-1ab8-489f-b983-7c72de513695"
      },
      "outputs": [],
      "source": [
        "# .take() will take the first batch from a tensorflow dataset.\n",
        "# In our case it has taken the first 32 images.\n",
        "first_batch = train_ds.take(1)\n",
        "\n",
        "plt.figure(figsize = (25,10))\n",
        "for img, lbl in first_batch:\n",
        "    # lets look at the first 10 images\n",
        "    for i in np.arange(10):\n",
        "        plt.subplot(2,5,i+1)\n",
        "        plt.imshow(img[i].numpy().astype('uint8'))\n",
        "        plt.title(class_names[lbl[i]])\n",
        "        plt.axis(\"off\")"
      ],
      "execution_count": null
    },
    {
      "cell_type": "markdown",
      "metadata": {
        "id": "52957df7-1688-4a7f-a7ee-97d3bb957cbc"
      },
      "source": [
        "We can see that after importing our images, they're all exactly square with `200 x 200` pixels.\n"
      ]
    },
    {
      "cell_type": "markdown",
      "metadata": {
        "id": "93823a5a-d84f-486d-8d78-77da95e04b01"
      },
      "source": [
        "#### Augmenting Images\n"
      ]
    },
    {
      "cell_type": "markdown",
      "metadata": {
        "id": "9c58ca7c-e1aa-4594-abf1-3e7f83a4e5d5"
      },
      "source": [
        "Next, we will see how we can use `ImageDataGenerator` class to create tensor image data batches that have been augmented to have certain characteristics. Image data augmentation is useful in expanding the training dataset in order to improve the performance and ability of the model to generalize. Here are some ways in which we can augment images in our dataset:\n"
      ]
    },
    {
      "cell_type": "markdown",
      "metadata": {
        "id": "eac31bd0-9bd6-4cc6-98c2-a2b08dbadceb"
      },
      "source": [
        "*   **rescale**: rescaling factor\n",
        "*   **rotation_range**: degree of random rotations of the images\n",
        "*   **width_shift_range**: upper bound for random shift, either left or right\n",
        "*   **height_shift_range**: upper bound for random shift, either up or down\n",
        "*   **vertical_flip**: flip the image vertically\n"
      ]
    },
    {
      "cell_type": "markdown",
      "metadata": {
        "id": "90f128c5-af47-4385-b118-44c47217517b"
      },
      "source": [
        "Further details on these options can be found in the Tensorflow [documentation](https://www.tensorflow.org/api_docs/python/tf/keras/preprocessing/image/ImageDataGenerator?utm_medium=Exinfluencer&utm_source=Exinfluencer&utm_content=000026UJ&utm_term=10006555&utm_id=NA-SkillsNetwork-Channel-SkillsNetworkCoursesIBMDeveloperSkillsNetworkML311Coursera35714171-2022-01-01).\n"
      ]
    },
    {
      "cell_type": "code",
      "metadata": {
        "id": "e8448ce3-59f7-494e-9e05-0e2dec4add36"
      },
      "outputs": [],
      "source": [
        "import tensorflow as tf\n",
        "\n",
        "img_gen = tf.keras.preprocessing.image.ImageDataGenerator(\n",
        "    rescale=1.0 / 255,\n",
        "    rotation_range=20,\n",
        "    width_shift_range=0.2,\n",
        "    height_shift_range=0.2,\n",
        "    vertical_flip=True,\n",
        ")\n",
        "\n",
        "flowers_data = img_gen.flow_from_directory(data_dir)\n",
        "images, labels = next(flowers_data)\n",
        "\n",
        "print(images.shape)\n",
        "print(labels.shape)"
      ],
      "execution_count": null
    },
    {
      "cell_type": "markdown",
      "metadata": {
        "id": "6412ae52-6b86-448e-bd6d-9e5ebab1a895"
      },
      "source": [
        "### Exercise 4 - Visualizing augmented images\n"
      ]
    },
    {
      "cell_type": "markdown",
      "metadata": {
        "id": "60512154-7515-4786-ab29-671388292251"
      },
      "source": [
        "Visualize 10 images from the augmented tensor image data batch.\n"
      ]
    },
    {
      "cell_type": "code",
      "metadata": {
        "id": "3a7dd41a-9625-4ace-81d9-2bed509f362d"
      },
      "outputs": [],
      "source": [
        "# Write your code here\n",
        "\n",
        "\n",
        ""
      ],
      "execution_count": null
    },
    {
      "cell_type": "markdown",
      "metadata": {
        "id": "434b6219-3bda-4df2-9606-554fd05cd6b0"
      },
      "source": [
        "<details><summary>Solution</summary>\n",
        "\n",
        "```python\n",
        "plt.figure(figsize=(25, 10))\n",
        "for i in range(10):\n",
        "    plt.subplot(2,5,i+1)\n",
        "    plt.imshow(images[i])\n",
        "    index = [index for index, each_item in enumerate(labels[i]) if each_item]\n",
        "    plt.title(list(flowers_data.class_indices.keys())[index[0]])\n",
        "    plt.axis(\"off\")\n",
        "    \n",
        "```\n",
        "\n",
        "</details>\n"
      ]
    },
    {
      "cell_type": "markdown",
      "metadata": {
        "id": "26ffb512-dab6-4001-9f7e-641dc966ffca"
      },
      "source": [
        "### D. Load image from URL\n"
      ]
    },
    {
      "cell_type": "markdown",
      "metadata": {
        "id": "891d144c-6633-4890-9a0f-e3bb3e5c17f5"
      },
      "source": [
        "In the _Load individual images as PIL objects section_, we saw how we can download images to our working directory and, using the path of the image we saved, use the `load_img` function to return a PIL Image instance.\n"
      ]
    },
    {
      "cell_type": "markdown",
      "metadata": {
        "id": "0e62c612-cb10-4ab6-aa26-c29acae3b33d"
      },
      "source": [
        "We can use custom functions like the one below to load images from a URL. This function was  borrowed from [statsmaths](https://statsmaths.github.io/stat289-f18/solutions/tutorial28-keras-images.html?utm_medium=Exinfluencer&utm_source=Exinfluencer&utm_content=000026UJ&utm_term=10006555&utm_id=NA-SkillsNetwork-Channel-SkillsNetworkCoursesIBMDeveloperSkillsNetworkML311Coursera35714171-2022-01-01).\n"
      ]
    },
    {
      "cell_type": "code",
      "metadata": {
        "id": "4d456e86-c279-4b7f-9702-3869c3229354"
      },
      "outputs": [],
      "source": [
        "def load_image(link, target_size=None):\n",
        "    import requests\n",
        "    import shutil\n",
        "    import os\n",
        "    _, ext = os.path.splitext(link)\n",
        "    r = requests.get(link, stream=True)\n",
        "    with open('temp.' + ext, 'wb') as f:\n",
        "        r.raw.decode_content = True\n",
        "        shutil.copyfileobj(r.raw, f)\n",
        "    img = tf.keras.preprocessing.image.load_img('temp.' + ext, target_size=target_size)\n",
        "    return tf.keras.preprocessing.image.img_to_array(img)"
      ],
      "execution_count": null
    },
    {
      "cell_type": "code",
      "metadata": {
        "id": "d2946533-5b33-41db-878f-76ffdcec61bf"
      },
      "outputs": [],
      "source": [
        "URL = 'https://cf-courses-data.s3.us.cloud-object-storage.appdomain.cloud/IBMDeveloperSkillsNetwork-ML311-Coursera/labs/Module3/L1/Dog_Breeds.jpg'\n",
        "\n",
        "img = load_image(URL, target_size=(100, 100))\n",
        "plt.imshow(img/255)"
      ],
      "execution_count": null
    },
    {
      "cell_type": "markdown",
      "metadata": {
        "id": "8840f437-e46e-48c9-b949-76c50b25b18f"
      },
      "source": [
        "## Authors\n"
      ]
    },
    {
      "cell_type": "markdown",
      "metadata": {
        "id": "638e89ea-d8f5-4c24-89c8-4ee2e4714733"
      },
      "source": [
        "[Kopal Garg](https://www.linkedin.com/in/gargkopal/?utm_medium=Exinfluencer&utm_source=Exinfluencer&utm_content=000026UJ&utm_term=10006555&utm_id=NA-SkillsNetwork-Channel-SkillsNetworkCoursesIBMDeveloperSkillsNetworkML311Coursera35714171-2022-01-01)\n"
      ]
    },
    {
      "cell_type": "markdown",
      "metadata": {
        "id": "9cfec500-4716-407f-a0e9-64833d4c17fb"
      },
      "source": [
        "Kopal Garg is a Masters student in Computer Science at the University of Toronto.\n"
      ]
    },
    {
      "cell_type": "markdown",
      "metadata": {
        "id": "32415463-01d4-4de1-a717-f0d5a3e03f0d"
      },
      "source": [
        "### Other Contributors\n"
      ]
    },
    {
      "cell_type": "markdown",
      "metadata": {
        "id": "4721eb8b-ad37-4c29-85e7-f7c647fcf262"
      },
      "source": [
        "[Richard Ye](https://linkedin.com/in/richard-ye?utm_medium=Exinfluencer&utm_source=Exinfluencer&utm_content=000026UJ&utm_term=10006555&utm_id=NA-SkillsNetwork-Channel-SkillsNetworkCoursesIBMDeveloperSkillsNetworkML311Coursera35714171-2022-01-01), [Roxanne Li](https://www.linkedin.com/in/roxanne-li/?utm_medium=Exinfluencer&utm_source=Exinfluencer&utm_content=000026UJ&utm_term=10006555&utm_id=NA-SkillsNetwork-Channel-SkillsNetworkCoursesIBMDeveloperSkillsNetworkML311Coursera35714171-2022-01-01)\n"
      ]
    },
    {
      "cell_type": "markdown",
      "metadata": {
        "id": "94ffb0f4-4f13-4a72-8025-34abe17632fb"
      },
      "source": [
        "## Change Log\n"
      ]
    },
    {
      "cell_type": "markdown",
      "metadata": {
        "id": "552823fc-5e54-4576-a463-0a601571d4fb"
      },
      "source": [
        "| Date (YYYY-MM-DD) | Version | Changed By  | Change Description |\n",
        "| ----------------- | ------- | ----------- | ------------------ |\n",
        "| 2022-05-23        | 0.1     | Kopal Garg  | Created Lab        |\n",
        "| 2022-05-23        | 0.1     | Richard Ye  | Load from directory of images        |\n",
        "| 2022-05-30        | 0.1     | Roxanne Li  | Review and edit content|\n",
        "| 2022-07-19        | 0.1     | Steve Hord  | QA pass |\n"
      ]
    },
    {
      "cell_type": "markdown",
      "metadata": {
        "id": "3522da21-6c08-4f4a-b819-fd56d819ad94"
      },
      "source": [
        "Copyright © 2022 IBM Corporation. All rights reserved.\n"
      ]
    }
  ],
  "metadata": {
    "kernelspec": {
      "display_name": "Python",
      "language": "python",
      "name": "conda-env-python-py"
    },
    "language_info": {
      "name": "python",
      "version": "3.7.12",
      "mimetype": "text/x-python",
      "codemirror_mode": {
        "name": "ipython",
        "version": 3
      },
      "pygments_lexer": "ipython3",
      "nbconvert_exporter": "python",
      "file_extension": ".py"
    },
    "prev_pub_hash": "f883a44d4354b7f6d605286efd229cf3c45bdc0c48451e1eb874db81463376f3",
    "colab": {
      "provenance": [],
      "include_colab_link": true
    }
  },
  "nbformat": 4,
  "nbformat_minor": 0
}