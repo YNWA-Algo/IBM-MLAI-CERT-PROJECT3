{
  "cells": [
    {
      "cell_type": "markdown",
      "metadata": {
        "id": "view-in-github",
        "colab_type": "text"
      },
      "source": [
        "<a href=\"https://colab.research.google.com/github/YNWA-Algo/IBM-MLAI-CERT-PROJECT3/blob/main/5_M5_4_Regularization_techniques.ipynb\" target=\"_parent\"><img src=\"https://colab.research.google.com/assets/colab-badge.svg\" alt=\"Open In Colab\"/></a>"
      ]
    },
    {
      "cell_type": "markdown",
      "metadata": {
        "id": "08fbc364-b563-4abd-9b54-878424c862b0"
      },
      "source": [
        "<p style=\"text-align:center\">\n",
        "    <a href=\"https://skills.network\" target=\"_blank\">\n",
        "    <img src=\"https://cf-courses-data.s3.us.cloud-object-storage.appdomain.cloud/assets/logos/SN_web_lightmode.png\" width=\"200\" alt=\"Skills Network Logo\">\n",
        "    </a>\n",
        "</p>\n"
      ]
    },
    {
      "cell_type": "markdown",
      "metadata": {
        "id": "3680d26d-6403-4483-ac40-6fadba5316f9"
      },
      "source": [
        "# **Regularization Techniques**\n"
      ]
    },
    {
      "cell_type": "markdown",
      "metadata": {
        "id": "ba954de6-113a-4be2-98ef-b2989c3f902f"
      },
      "source": [
        "Estimated time needed: **30** minutes\n"
      ]
    },
    {
      "cell_type": "markdown",
      "metadata": {
        "id": "3b945596-eac0-4099-b157-ca08b0052b11"
      },
      "source": [
        "In this lab, you will learn five regularization techniques that are commonly used in training neural networks. You will see how they are implemented using Keras and the result of applying each of them on a real world dataset.\n"
      ]
    },
    {
      "cell_type": "markdown",
      "metadata": {
        "id": "2c1e2d69-1788-4be7-9e50-486cae3c8856"
      },
      "source": [
        "## Table of Contents\n",
        "\n",
        "<ol>\n",
        "    <li><a href=\"https://#Objectives\">Objectives</a></li>\n",
        "    <li>\n",
        "        <a href=\"https://#Setup\">Setup</a>\n",
        "        <ol>\n",
        "            <li><a href=\"#Installing-Required-Libraries\">Installing Required Libraries</a></li>\n",
        "            <li><a href=\"#Importing-Required-Libraries\">Importing Required Libraries</a></li>\n",
        "            <li><a href=\"#Defining-Helper-Functions\">Defining Helper Functions</a></li>\n",
        "        </ol>     \n",
        "    </li>\n",
        "    <li><a href=\"https://#Overfitting\">Overfitting</a></li>\n",
        "    <li><a href=\"https://#L2-Regularization\">L2 Regularization</a></li>\n",
        "    <li><a href=\"https://#L1-Regularization\">L1 Regularization</a></li>\n",
        "    <li><a href=\"https://#Dropout\">Dropout</a></li>\n",
        "    <li><a href=\"https://#Batch-Normalization\">Batch Normalization</a></li>\n",
        "    <li><a href=\"#Example 1: Apply regularization techniques on simulated data\">Example 1: Apply regularization techniques on simulated data</a></li>\n",
        "    <li><a href=\"#Example 2: Spam Classification\">Example 2: Spam Classification</a></li>\n",
        "</ol>\n"
      ]
    },
    {
      "cell_type": "markdown",
      "metadata": {
        "id": "7c7013a3-6244-4d4d-8d0d-63ff7cb10324"
      },
      "source": [
        "## Objectives\n",
        "\n",
        "After completing this lab you will be able to:\n",
        "\n",
        "*   Understand how the regularization techniques (L1, L2, Dropout, BatchNorm) work for neural networks.\n",
        "*   Describe the difference between L1 and L2 regularization.\n",
        "*   Apply the four types of regularization when training neural networks.\n"
      ]
    },
    {
      "cell_type": "markdown",
      "metadata": {
        "id": "a8964727-92b5-4137-bec3-4035e142574d"
      },
      "source": [
        "***\n"
      ]
    },
    {
      "cell_type": "markdown",
      "metadata": {
        "id": "ccb84580-5dfb-4c08-af47-973139aa195e"
      },
      "source": [
        "## Setup\n"
      ]
    },
    {
      "cell_type": "markdown",
      "metadata": {
        "id": "c9febd70-3158-4aa3-b375-d92992b0e0fc"
      },
      "source": [
        "For this lab, we will be using the following libraries:\n",
        "\n",
        "*   [`numpy`](https://numpy.org/?utm_medium=Exinfluencer&utm_source=Exinfluencer&utm_content=000026UJ&utm_term=10006555&utm_id=NA-SkillsNetwork-Channel-SkillsNetworkCoursesIBMML0187ENSkillsNetwork31430127-2021-01-01) for mathematical operations.\n",
        "*   [`Pillow`](https://pillow.readthedocs.io/en/stable/?utm_medium=Exinfluencer&utm_source=Exinfluencer&utm_content=000026UJ&utm_term=10006555&utm_id=NA-SkillsNetwork-Channel-SkillsNetworkCoursesIBMML0187ENSkillsNetwork31430127-2021-01-01) for image processing functions.\n",
        "*   [`OpenCV`](https://docs.opencv.org/4.x/index.html?utm_medium=Exinfluencer&utm_source=Exinfluencer&utm_content=000026UJ&utm_term=10006555&utm_id=NA-SkillsNetwork-Channel-SkillsNetworkCoursesIBMML0187ENSkillsNetwork31430127-2021-01-01) for other image processing functions.\n",
        "*   [`tensorflow`](https://www.tensorflow.org/?utm_medium=Exinfluencer&utm_source=Exinfluencer&utm_content=000026UJ&utm_term=10006555&utm_id=NA-SkillsNetwork-Channel-SkillsNetworkCoursesIBMML0187ENSkillsNetwork31430127-2021-01-01) for machine learning and neural network related functions.\n",
        "*   [`matplotlib`](https://matplotlib.org/?utm_medium=Exinfluencer&utm_source=Exinfluencer&utm_content=000026UJ&utm_term=10006555&utm_id=NA-SkillsNetwork-Channel-SkillsNetworkCoursesIBMML0187ENSkillsNetwork31430127-2021-01-01) for additional plotting tools.\n"
      ]
    },
    {
      "cell_type": "markdown",
      "metadata": {
        "id": "75f71ecb-64fb-4af4-9201-de198062c1ef"
      },
      "source": [
        "### Installing Required Libraries\n",
        "\n",
        "The following required libraries are pre-installed in the Skills Network Labs environment. However, if you run these notebook commands in a different Jupyter environment (like Watson Studio or Anaconda), you will need to install these libraries by removing the `#` sign before `!mamba` in the following code cell.\n"
      ]
    },
    {
      "cell_type": "code",
      "metadata": {
        "colab": {
          "base_uri": "https://localhost:8080/"
        },
        "id": "386c2f5e-e9bc-466a-8cb1-ca042ecdd071",
        "outputId": "679a836d-2e9b-4152-ffc9-70a3e228546d"
      },
      "outputs": [
        {
          "output_type": "stream",
          "name": "stdout",
          "text": [
            "\u001b[33mWARNING: The candidate selected for download or install is a yanked version: 'opencv-python' candidate (version 4.5.5.62 at https://files.pythonhosted.org/packages/9d/98/36bfcbff30da27dd6922ed73ca7802c37d87f77daf4c569da3dcb87b4296/opencv_python-4.5.5.62-cp36-abi3-manylinux_2_17_x86_64.manylinux2014_x86_64.whl (from https://pypi.org/simple/opencv-python/) (requires-python:>=3.6))\n",
            "Reason for being yanked: deprecated, use 4.5.5.64\u001b[0m\u001b[33m\n",
            "\u001b[2K   \u001b[90m━━━━━━━━━━━━━━━━━━━━━━━━━━━━━━━━━━━━━━━━\u001b[0m \u001b[32m16.8/16.8 MB\u001b[0m \u001b[31m48.8 MB/s\u001b[0m eta \u001b[36m0:00:00\u001b[0m\n",
            "\u001b[2K   \u001b[90m━━━━━━━━━━━━━━━━━━━━━━━━━━━━━━━━━━━━━━━━\u001b[0m \u001b[32m11.9/11.9 MB\u001b[0m \u001b[31m33.8 MB/s\u001b[0m eta \u001b[36m0:00:00\u001b[0m\n",
            "\u001b[2K   \u001b[90m━━━━━━━━━━━━━━━━━━━━━━━━━━━━━━━━━━━━━━━━\u001b[0m \u001b[32m511.7/511.7 MB\u001b[0m \u001b[31m3.3 MB/s\u001b[0m eta \u001b[36m0:00:00\u001b[0m\n",
            "\u001b[2K   \u001b[90m━━━━━━━━━━━━━━━━━━━━━━━━━━━━━━━━━━━━━━━━\u001b[0m \u001b[32m60.4/60.4 MB\u001b[0m \u001b[31m10.3 MB/s\u001b[0m eta \u001b[36m0:00:00\u001b[0m\n",
            "\u001b[2K   \u001b[90m━━━━━━━━━━━━━━━━━━━━━━━━━━━━━━━━━━━━━━━━\u001b[0m \u001b[32m1.6/1.6 MB\u001b[0m \u001b[31m14.8 MB/s\u001b[0m eta \u001b[36m0:00:00\u001b[0m\n",
            "\u001b[2K   \u001b[90m━━━━━━━━━━━━━━━━━━━━━━━━━━━━━━━━━━━━━━━━\u001b[0m \u001b[32m42.6/42.6 kB\u001b[0m \u001b[31m749.3 kB/s\u001b[0m eta \u001b[36m0:00:00\u001b[0m\n",
            "\u001b[2K   \u001b[90m━━━━━━━━━━━━━━━━━━━━━━━━━━━━━━━━━━━━━━━━\u001b[0m \u001b[32m5.8/5.8 MB\u001b[0m \u001b[31m43.7 MB/s\u001b[0m eta \u001b[36m0:00:00\u001b[0m\n",
            "\u001b[2K   \u001b[90m━━━━━━━━━━━━━━━━━━━━━━━━━━━━━━━━━━━━━━━━\u001b[0m \u001b[32m1.1/1.1 MB\u001b[0m \u001b[31m28.3 MB/s\u001b[0m eta \u001b[36m0:00:00\u001b[0m\n",
            "\u001b[2K   \u001b[90m━━━━━━━━━━━━━━━━━━━━━━━━━━━━━━━━━━━━━━━━\u001b[0m \u001b[32m438.7/438.7 kB\u001b[0m \u001b[31m22.3 MB/s\u001b[0m eta \u001b[36m0:00:00\u001b[0m\n",
            "\u001b[2K   \u001b[90m━━━━━━━━━━━━━━━━━━━━━━━━━━━━━━━━━━━━━━━━\u001b[0m \u001b[32m4.9/4.9 MB\u001b[0m \u001b[31m36.3 MB/s\u001b[0m eta \u001b[36m0:00:00\u001b[0m\n",
            "\u001b[2K   \u001b[90m━━━━━━━━━━━━━━━━━━━━━━━━━━━━━━━━━━━━━━━━\u001b[0m \u001b[32m781.3/781.3 kB\u001b[0m \u001b[31m31.0 MB/s\u001b[0m eta \u001b[36m0:00:00\u001b[0m\n",
            "\u001b[?25h\u001b[31mERROR: pip's dependency resolver does not currently take into account all the packages that are installed. This behaviour is the source of the following dependency conflicts.\n",
            "albucore 0.0.19 requires numpy>=1.24.4, but you have numpy 1.22.3 which is incompatible.\n",
            "albumentations 1.4.20 requires numpy>=1.24.4, but you have numpy 1.22.3 which is incompatible.\n",
            "arviz 0.20.0 requires numpy>=1.23.0, but you have numpy 1.22.3 which is incompatible.\n",
            "astropy 6.1.7 requires numpy>=1.23, but you have numpy 1.22.3 which is incompatible.\n",
            "bigframes 1.29.0 requires matplotlib>=3.7.1, but you have matplotlib 3.5.1 which is incompatible.\n",
            "bigframes 1.29.0 requires numpy>=1.24.0, but you have numpy 1.22.3 which is incompatible.\n",
            "chex 0.1.88 requires numpy>=1.24.1, but you have numpy 1.22.3 which is incompatible.\n",
            "contourpy 1.3.1 requires numpy>=1.23, but you have numpy 1.22.3 which is incompatible.\n",
            "cudf-cu12 24.10.1 requires numpy<3.0a0,>=1.23, but you have numpy 1.22.3 which is incompatible.\n",
            "google-ai-generativelanguage 0.6.10 requires protobuf!=4.21.0,!=4.21.1,!=4.21.2,!=4.21.3,!=4.21.4,!=4.21.5,<6.0.0dev,>=3.20.2, but you have protobuf 3.19.6 which is incompatible.\n",
            "google-cloud-aiplatform 1.74.0 requires protobuf!=4.21.0,!=4.21.1,!=4.21.2,!=4.21.3,!=4.21.4,!=4.21.5,<6.0.0dev,>=3.20.2, but you have protobuf 3.19.6 which is incompatible.\n",
            "google-cloud-bigquery-connection 1.17.0 requires protobuf!=4.21.0,!=4.21.1,!=4.21.2,!=4.21.3,!=4.21.4,!=4.21.5,<6.0.0dev,>=3.20.2, but you have protobuf 3.19.6 which is incompatible.\n",
            "google-cloud-bigquery-storage 2.27.0 requires protobuf!=3.20.0,!=3.20.1,!=4.21.0,!=4.21.1,!=4.21.2,!=4.21.3,!=4.21.4,!=4.21.5,<6.0.0dev,>=3.20.2, but you have protobuf 3.19.6 which is incompatible.\n",
            "google-cloud-bigtable 2.27.0 requires protobuf!=4.21.0,!=4.21.1,!=4.21.2,!=4.21.3,!=4.21.4,!=4.21.5,<6.0.0dev,>=3.20.2, but you have protobuf 3.19.6 which is incompatible.\n",
            "google-cloud-datastore 2.20.2 requires protobuf!=3.20.0,!=3.20.1,!=4.21.0,!=4.21.1,!=4.21.2,!=4.21.3,!=4.21.4,!=4.21.5,<6.0.0dev,>=3.20.2, but you have protobuf 3.19.6 which is incompatible.\n",
            "google-cloud-firestore 2.19.0 requires protobuf!=3.20.0,!=3.20.1,!=4.21.0,!=4.21.1,!=4.21.2,!=4.21.3,!=4.21.4,!=4.21.5,<6.0.0dev,>=3.20.2, but you have protobuf 3.19.6 which is incompatible.\n",
            "google-cloud-functions 1.19.0 requires protobuf!=4.21.0,!=4.21.1,!=4.21.2,!=4.21.3,!=4.21.4,!=4.21.5,<6.0.0dev,>=3.20.2, but you have protobuf 3.19.6 which is incompatible.\n",
            "google-cloud-iam 2.17.0 requires protobuf!=4.21.0,!=4.21.1,!=4.21.2,!=4.21.3,!=4.21.4,!=4.21.5,<6.0.0dev,>=3.20.2, but you have protobuf 3.19.6 which is incompatible.\n",
            "google-cloud-language 2.16.0 requires protobuf!=4.21.0,!=4.21.1,!=4.21.2,!=4.21.3,!=4.21.4,!=4.21.5,<6.0.0dev,>=3.20.2, but you have protobuf 3.19.6 which is incompatible.\n",
            "google-cloud-pubsub 2.27.1 requires protobuf!=4.21.0,!=4.21.1,!=4.21.2,!=4.21.3,!=4.21.4,!=4.21.5,<6.0.0dev,>=3.20.2, but you have protobuf 3.19.6 which is incompatible.\n",
            "google-cloud-resource-manager 1.14.0 requires protobuf!=4.21.0,!=4.21.1,!=4.21.2,!=4.21.3,!=4.21.4,!=4.21.5,<6.0.0dev,>=3.20.2, but you have protobuf 3.19.6 which is incompatible.\n",
            "google-cloud-translate 3.19.0 requires protobuf!=4.21.0,!=4.21.1,!=4.21.2,!=4.21.3,!=4.21.4,!=4.21.5,<6.0.0dev,>=3.20.2, but you have protobuf 3.19.6 which is incompatible.\n",
            "googleapis-common-protos 1.66.0 requires protobuf!=3.20.0,!=3.20.1,!=4.21.1,!=4.21.2,!=4.21.3,!=4.21.4,!=4.21.5,<6.0.0.dev0,>=3.20.2, but you have protobuf 3.19.6 which is incompatible.\n",
            "grpc-google-iam-v1 0.13.1 requires protobuf!=4.21.1,!=4.21.2,!=4.21.3,!=4.21.4,!=4.21.5,<6.0.0dev,>=3.20.2, but you have protobuf 3.19.6 which is incompatible.\n",
            "grpcio-status 1.62.3 requires protobuf>=4.21.6, but you have protobuf 3.19.6 which is incompatible.\n",
            "ibis-framework 9.2.0 requires numpy<3,>=1.23.2, but you have numpy 1.22.3 which is incompatible.\n",
            "jax 0.4.33 requires numpy>=1.24, but you have numpy 1.22.3 which is incompatible.\n",
            "jaxlib 0.4.33 requires numpy>=1.24, but you have numpy 1.22.3 which is incompatible.\n",
            "langchain 0.3.12 requires numpy<2,>=1.22.4; python_version < \"3.12\", but you have numpy 1.22.3 which is incompatible.\n",
            "mizani 0.13.1 requires numpy>=1.23.5, but you have numpy 1.22.3 which is incompatible.\n",
            "numexpr 2.10.2 requires numpy>=1.23.0, but you have numpy 1.22.3 which is incompatible.\n",
            "nx-cugraph-cu12 24.10.0 requires numpy<3.0a0,>=1.23, but you have numpy 1.22.3 which is incompatible.\n",
            "pandas 2.2.2 requires numpy>=1.22.4; python_version < \"3.11\", but you have numpy 1.22.3 which is incompatible.\n",
            "pandas-gbq 0.25.0 requires google-auth-oauthlib>=0.7.0, but you have google-auth-oauthlib 0.4.6 which is incompatible.\n",
            "pandas-stubs 2.2.2.240909 requires numpy>=1.23.5, but you have numpy 1.22.3 which is incompatible.\n",
            "plotnine 0.14.4 requires matplotlib>=3.8.0, but you have matplotlib 3.5.1 which is incompatible.\n",
            "plotnine 0.14.4 requires numpy>=1.23.5, but you have numpy 1.22.3 which is incompatible.\n",
            "pylibraft-cu12 24.10.0 requires numpy<3.0a0,>=1.23, but you have numpy 1.22.3 which is incompatible.\n",
            "pymc 5.19.1 requires numpy>=1.25.0, but you have numpy 1.22.3 which is incompatible.\n",
            "rmm-cu12 24.10.0 requires numpy<3.0a0,>=1.23, but you have numpy 1.22.3 which is incompatible.\n",
            "scikit-image 0.25.0 requires numpy>=1.24, but you have numpy 1.22.3 which is incompatible.\n",
            "scipy 1.13.1 requires numpy<2.3,>=1.22.4, but you have numpy 1.22.3 which is incompatible.\n",
            "tensorflow-datasets 4.9.7 requires protobuf>=3.20, but you have protobuf 3.19.6 which is incompatible.\n",
            "tensorflow-metadata 1.13.1 requires protobuf<5,>=3.20.3, but you have protobuf 3.19.6 which is incompatible.\n",
            "tf-keras 2.17.0 requires tensorflow<2.18,>=2.17, but you have tensorflow 2.9.0 which is incompatible.\n",
            "xarray 2024.11.0 requires numpy>=1.24, but you have numpy 1.22.3 which is incompatible.\n",
            "xarray-einstats 0.8.0 requires numpy>=1.23, but you have numpy 1.22.3 which is incompatible.\u001b[0m\u001b[31m\n",
            "\u001b[0mRequirement already satisfied: tensorflow in /usr/local/lib/python3.10/dist-packages (2.9.0)\n",
            "Collecting tensorflow\n",
            "  Downloading tensorflow-2.18.0-cp310-cp310-manylinux_2_17_x86_64.manylinux2014_x86_64.whl.metadata (4.1 kB)\n",
            "Requirement already satisfied: absl-py>=1.0.0 in /usr/local/lib/python3.10/dist-packages (from tensorflow) (1.4.0)\n",
            "Requirement already satisfied: astunparse>=1.6.0 in /usr/local/lib/python3.10/dist-packages (from tensorflow) (1.6.3)\n",
            "Collecting flatbuffers>=24.3.25 (from tensorflow)\n",
            "  Downloading flatbuffers-24.12.23-py2.py3-none-any.whl.metadata (876 bytes)\n",
            "Requirement already satisfied: gast!=0.5.0,!=0.5.1,!=0.5.2,>=0.2.1 in /usr/local/lib/python3.10/dist-packages (from tensorflow) (0.4.0)\n",
            "Requirement already satisfied: google-pasta>=0.1.1 in /usr/local/lib/python3.10/dist-packages (from tensorflow) (0.2.0)\n",
            "Requirement already satisfied: libclang>=13.0.0 in /usr/local/lib/python3.10/dist-packages (from tensorflow) (18.1.1)\n",
            "Requirement already satisfied: opt-einsum>=2.3.2 in /usr/local/lib/python3.10/dist-packages (from tensorflow) (3.4.0)\n",
            "Requirement already satisfied: packaging in /usr/local/lib/python3.10/dist-packages (from tensorflow) (24.2)\n",
            "Collecting protobuf!=4.21.0,!=4.21.1,!=4.21.2,!=4.21.3,!=4.21.4,!=4.21.5,<6.0.0dev,>=3.20.3 (from tensorflow)\n",
            "  Downloading protobuf-5.29.2-cp38-abi3-manylinux2014_x86_64.whl.metadata (592 bytes)\n",
            "Requirement already satisfied: requests<3,>=2.21.0 in /usr/local/lib/python3.10/dist-packages (from tensorflow) (2.32.3)\n",
            "Requirement already satisfied: setuptools in /usr/local/lib/python3.10/dist-packages (from tensorflow) (75.1.0)\n",
            "Requirement already satisfied: six>=1.12.0 in /usr/local/lib/python3.10/dist-packages (from tensorflow) (1.17.0)\n",
            "Requirement already satisfied: termcolor>=1.1.0 in /usr/local/lib/python3.10/dist-packages (from tensorflow) (2.5.0)\n",
            "Requirement already satisfied: typing-extensions>=3.6.6 in /usr/local/lib/python3.10/dist-packages (from tensorflow) (4.12.2)\n",
            "Requirement already satisfied: wrapt>=1.11.0 in /usr/local/lib/python3.10/dist-packages (from tensorflow) (1.17.0)\n",
            "Requirement already satisfied: grpcio<2.0,>=1.24.3 in /usr/local/lib/python3.10/dist-packages (from tensorflow) (1.68.1)\n",
            "Collecting tensorboard<2.19,>=2.18 (from tensorflow)\n",
            "  Downloading tensorboard-2.18.0-py3-none-any.whl.metadata (1.6 kB)\n",
            "Collecting keras>=3.5.0 (from tensorflow)\n",
            "  Downloading keras-3.7.0-py3-none-any.whl.metadata (5.8 kB)\n",
            "Collecting numpy<2.1.0,>=1.26.0 (from tensorflow)\n",
            "  Downloading numpy-2.0.2-cp310-cp310-manylinux_2_17_x86_64.manylinux2014_x86_64.whl.metadata (60 kB)\n",
            "\u001b[2K     \u001b[90m━━━━━━━━━━━━━━━━━━━━━━━━━━━━━━━━━━━━━━━━\u001b[0m \u001b[32m60.9/60.9 kB\u001b[0m \u001b[31m4.6 MB/s\u001b[0m eta \u001b[36m0:00:00\u001b[0m\n",
            "\u001b[?25hRequirement already satisfied: h5py>=3.11.0 in /usr/local/lib/python3.10/dist-packages (from tensorflow) (3.12.1)\n",
            "Requirement already satisfied: ml-dtypes<0.5.0,>=0.4.0 in /usr/local/lib/python3.10/dist-packages (from tensorflow) (0.4.1)\n",
            "Requirement already satisfied: tensorflow-io-gcs-filesystem>=0.23.1 in /usr/local/lib/python3.10/dist-packages (from tensorflow) (0.37.1)\n",
            "Requirement already satisfied: wheel<1.0,>=0.23.0 in /usr/local/lib/python3.10/dist-packages (from astunparse>=1.6.0->tensorflow) (0.45.1)\n",
            "Requirement already satisfied: rich in /usr/local/lib/python3.10/dist-packages (from keras>=3.5.0->tensorflow) (13.9.4)\n",
            "Requirement already satisfied: namex in /usr/local/lib/python3.10/dist-packages (from keras>=3.5.0->tensorflow) (0.0.8)\n",
            "Requirement already satisfied: optree in /usr/local/lib/python3.10/dist-packages (from keras>=3.5.0->tensorflow) (0.13.1)\n",
            "Requirement already satisfied: charset-normalizer<4,>=2 in /usr/local/lib/python3.10/dist-packages (from requests<3,>=2.21.0->tensorflow) (3.4.0)\n",
            "Requirement already satisfied: idna<4,>=2.5 in /usr/local/lib/python3.10/dist-packages (from requests<3,>=2.21.0->tensorflow) (3.10)\n",
            "Requirement already satisfied: urllib3<3,>=1.21.1 in /usr/local/lib/python3.10/dist-packages (from requests<3,>=2.21.0->tensorflow) (2.2.3)\n",
            "Requirement already satisfied: certifi>=2017.4.17 in /usr/local/lib/python3.10/dist-packages (from requests<3,>=2.21.0->tensorflow) (2024.12.14)\n",
            "Requirement already satisfied: markdown>=2.6.8 in /usr/local/lib/python3.10/dist-packages (from tensorboard<2.19,>=2.18->tensorflow) (3.7)\n",
            "Collecting tensorboard-data-server<0.8.0,>=0.7.0 (from tensorboard<2.19,>=2.18->tensorflow)\n",
            "  Downloading tensorboard_data_server-0.7.2-py3-none-manylinux_2_31_x86_64.whl.metadata (1.1 kB)\n",
            "Requirement already satisfied: werkzeug>=1.0.1 in /usr/local/lib/python3.10/dist-packages (from tensorboard<2.19,>=2.18->tensorflow) (3.1.3)\n",
            "Requirement already satisfied: MarkupSafe>=2.1.1 in /usr/local/lib/python3.10/dist-packages (from werkzeug>=1.0.1->tensorboard<2.19,>=2.18->tensorflow) (3.0.2)\n",
            "Requirement already satisfied: markdown-it-py>=2.2.0 in /usr/local/lib/python3.10/dist-packages (from rich->keras>=3.5.0->tensorflow) (3.0.0)\n",
            "Requirement already satisfied: pygments<3.0.0,>=2.13.0 in /usr/local/lib/python3.10/dist-packages (from rich->keras>=3.5.0->tensorflow) (2.18.0)\n",
            "Requirement already satisfied: mdurl~=0.1 in /usr/local/lib/python3.10/dist-packages (from markdown-it-py>=2.2.0->rich->keras>=3.5.0->tensorflow) (0.1.2)\n",
            "Downloading tensorflow-2.18.0-cp310-cp310-manylinux_2_17_x86_64.manylinux2014_x86_64.whl (615.3 MB)\n",
            "\u001b[2K   \u001b[90m━━━━━━━━━━━━━━━━━━━━━━━━━━━━━━━━━━━━━━━━\u001b[0m \u001b[32m615.3/615.3 MB\u001b[0m \u001b[31m2.5 MB/s\u001b[0m eta \u001b[36m0:00:00\u001b[0m\n",
            "\u001b[?25hDownloading flatbuffers-24.12.23-py2.py3-none-any.whl (30 kB)\n",
            "Downloading keras-3.7.0-py3-none-any.whl (1.2 MB)\n",
            "\u001b[2K   \u001b[90m━━━━━━━━━━━━━━━━━━━━━━━━━━━━━━━━━━━━━━━━\u001b[0m \u001b[32m1.2/1.2 MB\u001b[0m \u001b[31m43.3 MB/s\u001b[0m eta \u001b[36m0:00:00\u001b[0m\n",
            "\u001b[?25hDownloading numpy-2.0.2-cp310-cp310-manylinux_2_17_x86_64.manylinux2014_x86_64.whl (19.5 MB)\n",
            "\u001b[2K   \u001b[90m━━━━━━━━━━━━━━━━━━━━━━━━━━━━━━━━━━━━━━━━\u001b[0m \u001b[32m19.5/19.5 MB\u001b[0m \u001b[31m57.5 MB/s\u001b[0m eta \u001b[36m0:00:00\u001b[0m\n",
            "\u001b[?25hDownloading protobuf-5.29.2-cp38-abi3-manylinux2014_x86_64.whl (319 kB)\n",
            "\u001b[2K   \u001b[90m━━━━━━━━━━━━━━━━━━━━━━━━━━━━━━━━━━━━━━━━\u001b[0m \u001b[32m319.7/319.7 kB\u001b[0m \u001b[31m21.4 MB/s\u001b[0m eta \u001b[36m0:00:00\u001b[0m\n",
            "\u001b[?25hDownloading tensorboard-2.18.0-py3-none-any.whl (5.5 MB)\n",
            "\u001b[2K   \u001b[90m━━━━━━━━━━━━━━━━━━━━━━━━━━━━━━━━━━━━━━━━\u001b[0m \u001b[32m5.5/5.5 MB\u001b[0m \u001b[31m65.7 MB/s\u001b[0m eta \u001b[36m0:00:00\u001b[0m\n",
            "\u001b[?25hDownloading tensorboard_data_server-0.7.2-py3-none-manylinux_2_31_x86_64.whl (6.6 MB)\n",
            "\u001b[2K   \u001b[90m━━━━━━━━━━━━━━━━━━━━━━━━━━━━━━━━━━━━━━━━\u001b[0m \u001b[32m6.6/6.6 MB\u001b[0m \u001b[31m61.6 MB/s\u001b[0m eta \u001b[36m0:00:00\u001b[0m\n",
            "\u001b[?25hInstalling collected packages: flatbuffers, tensorboard-data-server, protobuf, numpy, tensorboard, keras, tensorflow\n",
            "  Attempting uninstall: flatbuffers\n",
            "    Found existing installation: flatbuffers 1.12\n",
            "    Uninstalling flatbuffers-1.12:\n",
            "      Successfully uninstalled flatbuffers-1.12\n",
            "  Attempting uninstall: tensorboard-data-server\n",
            "    Found existing installation: tensorboard-data-server 0.6.1\n",
            "    Uninstalling tensorboard-data-server-0.6.1:\n",
            "      Successfully uninstalled tensorboard-data-server-0.6.1\n",
            "  Attempting uninstall: protobuf\n",
            "    Found existing installation: protobuf 3.19.6\n",
            "    Uninstalling protobuf-3.19.6:\n",
            "      Successfully uninstalled protobuf-3.19.6\n",
            "  Attempting uninstall: numpy\n",
            "    Found existing installation: numpy 1.22.3\n",
            "    Uninstalling numpy-1.22.3:\n",
            "      Successfully uninstalled numpy-1.22.3\n",
            "  Attempting uninstall: tensorboard\n",
            "    Found existing installation: tensorboard 2.9.1\n",
            "    Uninstalling tensorboard-2.9.1:\n",
            "      Successfully uninstalled tensorboard-2.9.1\n",
            "  Attempting uninstall: keras\n",
            "    Found existing installation: keras 2.9.0\n",
            "    Uninstalling keras-2.9.0:\n",
            "      Successfully uninstalled keras-2.9.0\n",
            "  Attempting uninstall: tensorflow\n",
            "    Found existing installation: tensorflow 2.9.0\n",
            "    Uninstalling tensorflow-2.9.0:\n",
            "      Successfully uninstalled tensorflow-2.9.0\n",
            "\u001b[31mERROR: pip's dependency resolver does not currently take into account all the packages that are installed. This behaviour is the source of the following dependency conflicts.\n",
            "bigframes 1.29.0 requires matplotlib>=3.7.1, but you have matplotlib 3.5.1 which is incompatible.\n",
            "cupy-cuda12x 12.2.0 requires numpy<1.27,>=1.20, but you have numpy 2.0.2 which is incompatible.\n",
            "gensim 4.3.3 requires numpy<2.0,>=1.18.5, but you have numpy 2.0.2 which is incompatible.\n",
            "langchain 0.3.12 requires numpy<2,>=1.22.4; python_version < \"3.12\", but you have numpy 2.0.2 which is incompatible.\n",
            "pandas-gbq 0.25.0 requires google-auth-oauthlib>=0.7.0, but you have google-auth-oauthlib 0.4.6 which is incompatible.\n",
            "plotnine 0.14.4 requires matplotlib>=3.8.0, but you have matplotlib 3.5.1 which is incompatible.\n",
            "pytensor 2.26.4 requires numpy<2,>=1.17.0, but you have numpy 2.0.2 which is incompatible.\n",
            "tensorflow-metadata 1.13.1 requires protobuf<5,>=3.20.3, but you have protobuf 5.29.2 which is incompatible.\n",
            "tf-keras 2.17.0 requires tensorflow<2.18,>=2.17, but you have tensorflow 2.18.0 which is incompatible.\n",
            "thinc 8.2.5 requires numpy<2.0.0,>=1.19.0; python_version >= \"3.9\", but you have numpy 2.0.2 which is incompatible.\u001b[0m\u001b[31m\n",
            "\u001b[0mSuccessfully installed flatbuffers-24.12.23 keras-3.7.0 numpy-2.0.2 protobuf-5.29.2 tensorboard-2.18.0 tensorboard-data-server-0.7.2 tensorflow-2.18.0\n"
          ]
        }
      ],
      "source": [
        "# All Libraries required for this lab are listed, as follows. The libraries pre-installed on Skills Network Labs are commented.\n",
        "!pip install -q numpy==1.22.3 matplotlib==3.5.1 tensorflow==2.9.0 opencv-python==4.5.5.62\n",
        "\n",
        "# Note: If your environment doesn't support \"!mamba install\", use \"!pip install --user\"\n",
        "!pip install --upgrade tensorflow\n",
        "# RESTART YOUR KERNEL AFTERWARD AS WELL"
      ],
      "execution_count": 1
    },
    {
      "cell_type": "markdown",
      "metadata": {
        "id": "41a1b51b-7e00-4d6f-ac05-e1eb899d32ae"
      },
      "source": [
        "You will need the nltk library for this lab, make sure to install it.\n"
      ]
    },
    {
      "cell_type": "code",
      "metadata": {
        "id": "66a79935-ab3c-4ad3-94b0-7d44d803fcec"
      },
      "outputs": [],
      "source": [
        "%%capture\n",
        "!pip install nltk"
      ],
      "execution_count": 2
    },
    {
      "cell_type": "markdown",
      "metadata": {
        "id": "84655757-d7f3-4fda-a3c8-42ab81e097cd"
      },
      "source": [
        "### Importing Required Libraries\n",
        "\n",
        "*We recommend you import all required libraries in one place, as follows:*\n"
      ]
    },
    {
      "cell_type": "code",
      "source": [
        "!pip install --upgrade scipy"
      ],
      "metadata": {
        "colab": {
          "base_uri": "https://localhost:8080/"
        },
        "id": "BzmRBK81Q9dt",
        "outputId": "1de60269-4a11-487b-9bb5-358e83bd45a6"
      },
      "execution_count": 4,
      "outputs": [
        {
          "output_type": "stream",
          "name": "stdout",
          "text": [
            "Requirement already satisfied: scipy in /usr/local/lib/python3.10/dist-packages (1.13.1)\n",
            "Collecting scipy\n",
            "  Downloading scipy-1.14.1-cp310-cp310-manylinux_2_17_x86_64.manylinux2014_x86_64.whl.metadata (60 kB)\n",
            "\u001b[2K     \u001b[90m━━━━━━━━━━━━━━━━━━━━━━━━━━━━━━━━━━━━━━━━\u001b[0m \u001b[32m60.8/60.8 kB\u001b[0m \u001b[31m4.4 MB/s\u001b[0m eta \u001b[36m0:00:00\u001b[0m\n",
            "\u001b[?25hRequirement already satisfied: numpy<2.3,>=1.23.5 in /usr/local/lib/python3.10/dist-packages (from scipy) (2.0.2)\n",
            "Downloading scipy-1.14.1-cp310-cp310-manylinux_2_17_x86_64.manylinux2014_x86_64.whl (41.2 MB)\n",
            "\u001b[2K   \u001b[90m━━━━━━━━━━━━━━━━━━━━━━━━━━━━━━━━━━━━━━━━\u001b[0m \u001b[32m41.2/41.2 MB\u001b[0m \u001b[31m18.1 MB/s\u001b[0m eta \u001b[36m0:00:00\u001b[0m\n",
            "\u001b[?25hInstalling collected packages: scipy\n",
            "  Attempting uninstall: scipy\n",
            "    Found existing installation: scipy 1.13.1\n",
            "    Uninstalling scipy-1.13.1:\n",
            "      Successfully uninstalled scipy-1.13.1\n",
            "\u001b[31mERROR: pip's dependency resolver does not currently take into account all the packages that are installed. This behaviour is the source of the following dependency conflicts.\n",
            "gensim 4.3.3 requires numpy<2.0,>=1.18.5, but you have numpy 2.0.2 which is incompatible.\n",
            "gensim 4.3.3 requires scipy<1.14.0,>=1.7.0, but you have scipy 1.14.1 which is incompatible.\n",
            "plotnine 0.14.4 requires matplotlib>=3.8.0, but you have matplotlib 3.5.1 which is incompatible.\n",
            "pytensor 2.26.4 requires numpy<2,>=1.17.0, but you have numpy 2.0.2 which is incompatible.\u001b[0m\u001b[31m\n",
            "\u001b[0mSuccessfully installed scipy-1.14.1\n"
          ]
        }
      ]
    },
    {
      "cell_type": "code",
      "metadata": {
        "colab": {
          "base_uri": "https://localhost:8080/",
          "height": 375
        },
        "id": "4020a430-d29c-484a-8491-c78ddb67df49",
        "outputId": "0af76edb-d9ff-479f-cf25-871fcea7129a"
      },
      "outputs": [
        {
          "output_type": "error",
          "ename": "TypeError",
          "evalue": "",
          "traceback": [
            "\u001b[0;31m---------------------------------------------------------------------------\u001b[0m",
            "\u001b[0;31mTypeError\u001b[0m                                 Traceback (most recent call last)",
            "\u001b[0;32m<ipython-input-5-bbb7a5ca13a0>\u001b[0m in \u001b[0;36m<cell line: 12>\u001b[0;34m()\u001b[0m\n\u001b[1;32m     10\u001b[0m \u001b[0mget_ipython\u001b[0m\u001b[0;34m(\u001b[0m\u001b[0;34m)\u001b[0m\u001b[0;34m.\u001b[0m\u001b[0mrun_line_magic\u001b[0m\u001b[0;34m(\u001b[0m\u001b[0;34m'matplotlib'\u001b[0m\u001b[0;34m,\u001b[0m \u001b[0;34m'inline'\u001b[0m\u001b[0;34m)\u001b[0m\u001b[0;34m\u001b[0m\u001b[0;34m\u001b[0m\u001b[0m\n\u001b[1;32m     11\u001b[0m \u001b[0;34m\u001b[0m\u001b[0m\n\u001b[0;32m---> 12\u001b[0;31m \u001b[0;32mimport\u001b[0m \u001b[0mnltk\u001b[0m\u001b[0;34m\u001b[0m\u001b[0;34m\u001b[0m\u001b[0m\n\u001b[0m\u001b[1;32m     13\u001b[0m \u001b[0mnltk\u001b[0m\u001b[0;34m.\u001b[0m\u001b[0mdownload\u001b[0m\u001b[0;34m(\u001b[0m\u001b[0;34m'stopwords'\u001b[0m\u001b[0;34m)\u001b[0m\u001b[0;34m\u001b[0m\u001b[0;34m\u001b[0m\u001b[0m\n\u001b[1;32m     14\u001b[0m \u001b[0;32mfrom\u001b[0m \u001b[0mnltk\u001b[0m\u001b[0;34m.\u001b[0m\u001b[0mcorpus\u001b[0m \u001b[0;32mimport\u001b[0m \u001b[0mstopwords\u001b[0m\u001b[0;34m\u001b[0m\u001b[0;34m\u001b[0m\u001b[0m\n",
            "\u001b[0;32m/usr/local/lib/python3.10/dist-packages/nltk/__init__.py\u001b[0m in \u001b[0;36m<module>\u001b[0;34m\u001b[0m\n\u001b[1;32m    131\u001b[0m \u001b[0;31m# Import top-level functionality into top-level namespace\u001b[0m\u001b[0;34m\u001b[0m\u001b[0;34m\u001b[0m\u001b[0m\n\u001b[1;32m    132\u001b[0m \u001b[0;34m\u001b[0m\u001b[0m\n\u001b[0;32m--> 133\u001b[0;31m \u001b[0;32mfrom\u001b[0m \u001b[0mnltk\u001b[0m\u001b[0;34m.\u001b[0m\u001b[0mcollocations\u001b[0m \u001b[0;32mimport\u001b[0m \u001b[0;34m*\u001b[0m\u001b[0;34m\u001b[0m\u001b[0;34m\u001b[0m\u001b[0m\n\u001b[0m\u001b[1;32m    134\u001b[0m \u001b[0;32mfrom\u001b[0m \u001b[0mnltk\u001b[0m\u001b[0;34m.\u001b[0m\u001b[0mdecorators\u001b[0m \u001b[0;32mimport\u001b[0m \u001b[0mdecorator\u001b[0m\u001b[0;34m,\u001b[0m \u001b[0mmemoize\u001b[0m\u001b[0;34m\u001b[0m\u001b[0;34m\u001b[0m\u001b[0m\n\u001b[1;32m    135\u001b[0m \u001b[0;32mfrom\u001b[0m \u001b[0mnltk\u001b[0m\u001b[0;34m.\u001b[0m\u001b[0mfeatstruct\u001b[0m \u001b[0;32mimport\u001b[0m \u001b[0;34m*\u001b[0m\u001b[0;34m\u001b[0m\u001b[0;34m\u001b[0m\u001b[0m\n",
            "\u001b[0;32m/usr/local/lib/python3.10/dist-packages/nltk/collocations.py\u001b[0m in \u001b[0;36m<module>\u001b[0;34m\u001b[0m\n\u001b[1;32m     34\u001b[0m \u001b[0;34m\u001b[0m\u001b[0m\n\u001b[1;32m     35\u001b[0m \u001b[0;31m# these two unused imports are referenced in collocations.doctest\u001b[0m\u001b[0;34m\u001b[0m\u001b[0;34m\u001b[0m\u001b[0m\n\u001b[0;32m---> 36\u001b[0;31m from nltk.metrics import (\n\u001b[0m\u001b[1;32m     37\u001b[0m     \u001b[0mBigramAssocMeasures\u001b[0m\u001b[0;34m,\u001b[0m\u001b[0;34m\u001b[0m\u001b[0;34m\u001b[0m\u001b[0m\n\u001b[1;32m     38\u001b[0m     \u001b[0mContingencyMeasures\u001b[0m\u001b[0;34m,\u001b[0m\u001b[0;34m\u001b[0m\u001b[0;34m\u001b[0m\u001b[0m\n",
            "\u001b[0;32m/usr/local/lib/python3.10/dist-packages/nltk/metrics/__init__.py\u001b[0m in \u001b[0;36m<module>\u001b[0;34m\u001b[0m\n\u001b[1;32m     16\u001b[0m \u001b[0;32mfrom\u001b[0m \u001b[0mnltk\u001b[0m\u001b[0;34m.\u001b[0m\u001b[0mmetrics\u001b[0m\u001b[0;34m.\u001b[0m\u001b[0magreement\u001b[0m \u001b[0;32mimport\u001b[0m \u001b[0mAnnotationTask\u001b[0m\u001b[0;34m\u001b[0m\u001b[0;34m\u001b[0m\u001b[0m\n\u001b[1;32m     17\u001b[0m \u001b[0;32mfrom\u001b[0m \u001b[0mnltk\u001b[0m\u001b[0;34m.\u001b[0m\u001b[0mmetrics\u001b[0m\u001b[0;34m.\u001b[0m\u001b[0maline\u001b[0m \u001b[0;32mimport\u001b[0m \u001b[0malign\u001b[0m\u001b[0;34m\u001b[0m\u001b[0;34m\u001b[0m\u001b[0m\n\u001b[0;32m---> 18\u001b[0;31m from nltk.metrics.association import (\n\u001b[0m\u001b[1;32m     19\u001b[0m     \u001b[0mBigramAssocMeasures\u001b[0m\u001b[0;34m,\u001b[0m\u001b[0;34m\u001b[0m\u001b[0;34m\u001b[0m\u001b[0m\n\u001b[1;32m     20\u001b[0m     \u001b[0mContingencyMeasures\u001b[0m\u001b[0;34m,\u001b[0m\u001b[0;34m\u001b[0m\u001b[0;34m\u001b[0m\u001b[0m\n",
            "\u001b[0;32m/usr/local/lib/python3.10/dist-packages/nltk/metrics/association.py\u001b[0m in \u001b[0;36m<module>\u001b[0;34m\u001b[0m\n\u001b[1;32m     24\u001b[0m \u001b[0;34m\u001b[0m\u001b[0m\n\u001b[1;32m     25\u001b[0m \u001b[0;32mtry\u001b[0m\u001b[0;34m:\u001b[0m\u001b[0;34m\u001b[0m\u001b[0;34m\u001b[0m\u001b[0m\n\u001b[0;32m---> 26\u001b[0;31m     \u001b[0;32mfrom\u001b[0m \u001b[0mscipy\u001b[0m\u001b[0;34m.\u001b[0m\u001b[0mstats\u001b[0m \u001b[0;32mimport\u001b[0m \u001b[0mfisher_exact\u001b[0m\u001b[0;34m\u001b[0m\u001b[0;34m\u001b[0m\u001b[0m\n\u001b[0m\u001b[1;32m     27\u001b[0m \u001b[0;32mexcept\u001b[0m \u001b[0mImportError\u001b[0m\u001b[0;34m:\u001b[0m\u001b[0;34m\u001b[0m\u001b[0;34m\u001b[0m\u001b[0m\n\u001b[1;32m     28\u001b[0m \u001b[0;34m\u001b[0m\u001b[0m\n",
            "\u001b[0;32m/usr/local/lib/python3.10/dist-packages/scipy/stats/__init__.py\u001b[0m in \u001b[0;36m<module>\u001b[0;34m\u001b[0m\n\u001b[1;32m    608\u001b[0m from ._warnings_errors import (ConstantInputWarning, NearConstantInputWarning,\n\u001b[1;32m    609\u001b[0m                                DegenerateDataWarning, FitError)\n\u001b[0;32m--> 610\u001b[0;31m \u001b[0;32mfrom\u001b[0m \u001b[0;34m.\u001b[0m\u001b[0m_stats_py\u001b[0m \u001b[0;32mimport\u001b[0m \u001b[0;34m*\u001b[0m\u001b[0;34m\u001b[0m\u001b[0;34m\u001b[0m\u001b[0m\n\u001b[0m\u001b[1;32m    611\u001b[0m \u001b[0;32mfrom\u001b[0m \u001b[0;34m.\u001b[0m\u001b[0m_variation\u001b[0m \u001b[0;32mimport\u001b[0m \u001b[0mvariation\u001b[0m\u001b[0;34m\u001b[0m\u001b[0;34m\u001b[0m\u001b[0m\n\u001b[1;32m    612\u001b[0m \u001b[0;32mfrom\u001b[0m \u001b[0;34m.\u001b[0m\u001b[0mdistributions\u001b[0m \u001b[0;32mimport\u001b[0m \u001b[0;34m*\u001b[0m\u001b[0;34m\u001b[0m\u001b[0;34m\u001b[0m\u001b[0m\n",
            "\u001b[0;32m/usr/local/lib/python3.10/dist-packages/scipy/stats/_stats_py.py\u001b[0m in \u001b[0;36m<module>\u001b[0;34m\u001b[0m\n\u001b[1;32m     47\u001b[0m \u001b[0;31m# See https://github.com/scipy/scipy/issues/15765#issuecomment-1875564522\u001b[0m\u001b[0;34m\u001b[0m\u001b[0;34m\u001b[0m\u001b[0m\n\u001b[1;32m     48\u001b[0m \u001b[0;32mfrom\u001b[0m \u001b[0mscipy\u001b[0m \u001b[0;32mimport\u001b[0m \u001b[0mlinalg\u001b[0m  \u001b[0;31m# noqa: F401\u001b[0m\u001b[0;34m\u001b[0m\u001b[0;34m\u001b[0m\u001b[0m\n\u001b[0;32m---> 49\u001b[0;31m \u001b[0;32mfrom\u001b[0m \u001b[0;34m.\u001b[0m \u001b[0;32mimport\u001b[0m \u001b[0mdistributions\u001b[0m\u001b[0;34m\u001b[0m\u001b[0;34m\u001b[0m\u001b[0m\n\u001b[0m\u001b[1;32m     50\u001b[0m \u001b[0;32mfrom\u001b[0m \u001b[0;34m.\u001b[0m \u001b[0;32mimport\u001b[0m \u001b[0m_mstats_basic\u001b[0m \u001b[0;32mas\u001b[0m \u001b[0mmstats_basic\u001b[0m\u001b[0;34m\u001b[0m\u001b[0;34m\u001b[0m\u001b[0m\n\u001b[1;32m     51\u001b[0m \u001b[0;34m\u001b[0m\u001b[0m\n",
            "\u001b[0;32m/usr/local/lib/python3.10/dist-packages/scipy/stats/distributions.py\u001b[0m in \u001b[0;36m<module>\u001b[0;34m\u001b[0m\n\u001b[1;32m      9\u001b[0m \u001b[0;34m\u001b[0m\u001b[0m\n\u001b[1;32m     10\u001b[0m \u001b[0;32mfrom\u001b[0m \u001b[0;34m.\u001b[0m \u001b[0;32mimport\u001b[0m \u001b[0m_continuous_distns\u001b[0m\u001b[0;34m\u001b[0m\u001b[0;34m\u001b[0m\u001b[0m\n\u001b[0;32m---> 11\u001b[0;31m \u001b[0;32mfrom\u001b[0m \u001b[0;34m.\u001b[0m \u001b[0;32mimport\u001b[0m \u001b[0m_discrete_distns\u001b[0m\u001b[0;34m\u001b[0m\u001b[0;34m\u001b[0m\u001b[0m\n\u001b[0m\u001b[1;32m     12\u001b[0m \u001b[0;34m\u001b[0m\u001b[0m\n\u001b[1;32m     13\u001b[0m \u001b[0;32mfrom\u001b[0m \u001b[0;34m.\u001b[0m\u001b[0m_continuous_distns\u001b[0m \u001b[0;32mimport\u001b[0m \u001b[0;34m*\u001b[0m  \u001b[0;31m# noqa: F403\u001b[0m\u001b[0;34m\u001b[0m\u001b[0;34m\u001b[0m\u001b[0m\n",
            "\u001b[0;32m/usr/local/lib/python3.10/dist-packages/scipy/stats/_discrete_distns.py\u001b[0m in \u001b[0;36m<module>\u001b[0;34m\u001b[0m\n\u001b[1;32m      8\u001b[0m \u001b[0;32mfrom\u001b[0m \u001b[0mscipy\u001b[0m\u001b[0;34m.\u001b[0m\u001b[0mspecial\u001b[0m \u001b[0;32mimport\u001b[0m \u001b[0mentr\u001b[0m\u001b[0;34m,\u001b[0m \u001b[0mlogsumexp\u001b[0m\u001b[0;34m,\u001b[0m \u001b[0mbetaln\u001b[0m\u001b[0;34m,\u001b[0m \u001b[0mgammaln\u001b[0m \u001b[0;32mas\u001b[0m \u001b[0mgamln\u001b[0m\u001b[0;34m,\u001b[0m \u001b[0mzeta\u001b[0m\u001b[0;34m\u001b[0m\u001b[0;34m\u001b[0m\u001b[0m\n\u001b[1;32m      9\u001b[0m \u001b[0;32mfrom\u001b[0m \u001b[0mscipy\u001b[0m\u001b[0;34m.\u001b[0m\u001b[0m_lib\u001b[0m\u001b[0;34m.\u001b[0m\u001b[0m_util\u001b[0m \u001b[0;32mimport\u001b[0m \u001b[0m_lazywhere\u001b[0m\u001b[0;34m,\u001b[0m \u001b[0mrng_integers\u001b[0m\u001b[0;34m\u001b[0m\u001b[0;34m\u001b[0m\u001b[0m\n\u001b[0;32m---> 10\u001b[0;31m \u001b[0;32mfrom\u001b[0m \u001b[0mscipy\u001b[0m\u001b[0;34m.\u001b[0m\u001b[0minterpolate\u001b[0m \u001b[0;32mimport\u001b[0m \u001b[0minterp1d\u001b[0m\u001b[0;34m\u001b[0m\u001b[0;34m\u001b[0m\u001b[0m\n\u001b[0m\u001b[1;32m     11\u001b[0m \u001b[0;34m\u001b[0m\u001b[0m\n\u001b[1;32m     12\u001b[0m \u001b[0;32mfrom\u001b[0m \u001b[0mnumpy\u001b[0m \u001b[0;32mimport\u001b[0m \u001b[0mfloor\u001b[0m\u001b[0;34m,\u001b[0m \u001b[0mceil\u001b[0m\u001b[0;34m,\u001b[0m \u001b[0mlog\u001b[0m\u001b[0;34m,\u001b[0m \u001b[0mexp\u001b[0m\u001b[0;34m,\u001b[0m \u001b[0msqrt\u001b[0m\u001b[0;34m,\u001b[0m \u001b[0mlog1p\u001b[0m\u001b[0;34m,\u001b[0m \u001b[0mexpm1\u001b[0m\u001b[0;34m,\u001b[0m \u001b[0mtanh\u001b[0m\u001b[0;34m,\u001b[0m \u001b[0mcosh\u001b[0m\u001b[0;34m,\u001b[0m \u001b[0msinh\u001b[0m\u001b[0;34m\u001b[0m\u001b[0;34m\u001b[0m\u001b[0m\n",
            "\u001b[0;32m/usr/local/lib/python3.10/dist-packages/scipy/interpolate/__init__.py\u001b[0m in \u001b[0;36m<module>\u001b[0;34m\u001b[0m\n\u001b[1;32m    165\u001b[0m \u001b[0;34m(\u001b[0m\u001b[0mshould\u001b[0m \u001b[0;32mnot\u001b[0m \u001b[0mbe\u001b[0m \u001b[0mused\u001b[0m \u001b[0;32min\u001b[0m \u001b[0mnew\u001b[0m \u001b[0mcode\u001b[0m\u001b[0;34m)\u001b[0m\u001b[0;34m.\u001b[0m\u001b[0;34m\u001b[0m\u001b[0;34m\u001b[0m\u001b[0m\n\u001b[1;32m    166\u001b[0m \"\"\"\n\u001b[0;32m--> 167\u001b[0;31m \u001b[0;32mfrom\u001b[0m \u001b[0;34m.\u001b[0m\u001b[0m_interpolate\u001b[0m \u001b[0;32mimport\u001b[0m \u001b[0;34m*\u001b[0m\u001b[0;34m\u001b[0m\u001b[0;34m\u001b[0m\u001b[0m\n\u001b[0m\u001b[1;32m    168\u001b[0m \u001b[0;32mfrom\u001b[0m \u001b[0;34m.\u001b[0m\u001b[0m_fitpack_py\u001b[0m \u001b[0;32mimport\u001b[0m \u001b[0;34m*\u001b[0m\u001b[0;34m\u001b[0m\u001b[0;34m\u001b[0m\u001b[0m\n\u001b[1;32m    169\u001b[0m \u001b[0;34m\u001b[0m\u001b[0m\n",
            "\u001b[0;32m/usr/local/lib/python3.10/dist-packages/scipy/interpolate/_interpolate.py\u001b[0m in \u001b[0;36m<module>\u001b[0;34m\u001b[0m\n\u001b[1;32m     10\u001b[0m \u001b[0;32mfrom\u001b[0m \u001b[0mscipy\u001b[0m\u001b[0;34m.\u001b[0m\u001b[0mspecial\u001b[0m \u001b[0;32mimport\u001b[0m \u001b[0mcomb\u001b[0m\u001b[0;34m\u001b[0m\u001b[0;34m\u001b[0m\u001b[0m\n\u001b[1;32m     11\u001b[0m \u001b[0;34m\u001b[0m\u001b[0m\n\u001b[0;32m---> 12\u001b[0;31m \u001b[0;32mfrom\u001b[0m \u001b[0;34m.\u001b[0m \u001b[0;32mimport\u001b[0m \u001b[0m_fitpack_py\u001b[0m\u001b[0;34m\u001b[0m\u001b[0;34m\u001b[0m\u001b[0m\n\u001b[0m\u001b[1;32m     13\u001b[0m \u001b[0;32mfrom\u001b[0m \u001b[0;34m.\u001b[0m\u001b[0m_polyint\u001b[0m \u001b[0;32mimport\u001b[0m \u001b[0m_Interpolator1D\u001b[0m\u001b[0;34m\u001b[0m\u001b[0;34m\u001b[0m\u001b[0m\n\u001b[1;32m     14\u001b[0m \u001b[0;32mfrom\u001b[0m \u001b[0;34m.\u001b[0m \u001b[0;32mimport\u001b[0m \u001b[0m_ppoly\u001b[0m\u001b[0;34m\u001b[0m\u001b[0;34m\u001b[0m\u001b[0m\n",
            "\u001b[0;32m/usr/local/lib/python3.10/dist-packages/scipy/interpolate/_fitpack_py.py\u001b[0m in \u001b[0;36m<module>\u001b[0;34m\u001b[0m\n\u001b[1;32m      6\u001b[0m \u001b[0;34m\u001b[0m\u001b[0m\n\u001b[1;32m      7\u001b[0m \u001b[0;31m# These are in the API for fitpack even if not used in fitpack.py itself.\u001b[0m\u001b[0;34m\u001b[0m\u001b[0;34m\u001b[0m\u001b[0m\n\u001b[0;32m----> 8\u001b[0;31m \u001b[0;32mfrom\u001b[0m \u001b[0;34m.\u001b[0m\u001b[0m_fitpack_impl\u001b[0m \u001b[0;32mimport\u001b[0m \u001b[0mbisplrep\u001b[0m\u001b[0;34m,\u001b[0m \u001b[0mbisplev\u001b[0m\u001b[0;34m,\u001b[0m \u001b[0mdblint\u001b[0m  \u001b[0;31m# noqa: F401\u001b[0m\u001b[0;34m\u001b[0m\u001b[0;34m\u001b[0m\u001b[0m\n\u001b[0m\u001b[1;32m      9\u001b[0m \u001b[0;32mfrom\u001b[0m \u001b[0;34m.\u001b[0m \u001b[0;32mimport\u001b[0m \u001b[0m_fitpack_impl\u001b[0m \u001b[0;32mas\u001b[0m \u001b[0m_impl\u001b[0m\u001b[0;34m\u001b[0m\u001b[0;34m\u001b[0m\u001b[0m\n\u001b[1;32m     10\u001b[0m \u001b[0;32mfrom\u001b[0m \u001b[0;34m.\u001b[0m\u001b[0m_bsplines\u001b[0m \u001b[0;32mimport\u001b[0m \u001b[0mBSpline\u001b[0m\u001b[0;34m\u001b[0m\u001b[0;34m\u001b[0m\u001b[0m\n",
            "\u001b[0;32m/usr/local/lib/python3.10/dist-packages/scipy/interpolate/_fitpack_impl.py\u001b[0m in \u001b[0;36m<module>\u001b[0;34m\u001b[0m\n\u001b[1;32m    101\u001b[0m \u001b[0;34m\u001b[0m\u001b[0m\n\u001b[1;32m    102\u001b[0m _parcur_cache = {'t': array([], float), 'wrk': array([], float),\n\u001b[0;32m--> 103\u001b[0;31m                  \u001b[0;34m'iwrk'\u001b[0m\u001b[0;34m:\u001b[0m \u001b[0marray\u001b[0m\u001b[0;34m(\u001b[0m\u001b[0;34m[\u001b[0m\u001b[0;34m]\u001b[0m\u001b[0;34m,\u001b[0m \u001b[0mdfitpack_int\u001b[0m\u001b[0;34m)\u001b[0m\u001b[0;34m,\u001b[0m \u001b[0;34m'u'\u001b[0m\u001b[0;34m:\u001b[0m \u001b[0marray\u001b[0m\u001b[0;34m(\u001b[0m\u001b[0;34m[\u001b[0m\u001b[0;34m]\u001b[0m\u001b[0;34m,\u001b[0m \u001b[0mfloat\u001b[0m\u001b[0;34m)\u001b[0m\u001b[0;34m,\u001b[0m\u001b[0;34m\u001b[0m\u001b[0;34m\u001b[0m\u001b[0m\n\u001b[0m\u001b[1;32m    104\u001b[0m                  'ub': 0, 'ue': 1}\n\u001b[1;32m    105\u001b[0m \u001b[0;34m\u001b[0m\u001b[0m\n",
            "\u001b[0;31mTypeError\u001b[0m: "
          ]
        }
      ],
      "source": [
        "import warnings\n",
        "warnings.filterwarnings('ignore')\n",
        "\n",
        "import os\n",
        "os.environ['TF_CPP_MIN_LOG_LEVEL'] = '2'\n",
        "\n",
        "import numpy as np\n",
        "import pandas as pd\n",
        "import matplotlib.pyplot as plt\n",
        "%matplotlib inline\n",
        "\n",
        "import nltk\n",
        "nltk.download('stopwords')\n",
        "from nltk.corpus import stopwords\n",
        "from sklearn.feature_extraction.text import TfidfVectorizer\n",
        "\n",
        "import tensorflow as tf\n",
        "from tensorflow import keras\n",
        "from tensorflow.keras import layers\n",
        "from tensorflow.keras.models import Sequential, Model\n",
        "from tensorflow.keras.layers import Dense"
      ],
      "execution_count": 5
    },
    {
      "cell_type": "markdown",
      "metadata": {
        "id": "22012c87-4a49-42ec-b579-e2a4c5a639a4"
      },
      "source": [
        "### Defining Helper Functions\n"
      ]
    },
    {
      "cell_type": "markdown",
      "metadata": {
        "id": "45b6c2fc-8837-4897-9f17-b4f8e5593e3f"
      },
      "source": [
        "This function helps prepare the SMS Spam dataset.\n"
      ]
    },
    {
      "cell_type": "code",
      "metadata": {
        "id": "6912c6e5-dcf6-464a-806d-807032fff2aa"
      },
      "outputs": [],
      "source": [
        "def prepare_data():\n",
        "    try:\n",
        "        data = pd.read_csv(\"spam.csv\", encoding='latin-1')\n",
        "    except FileNotFoundError:\n",
        "        print(\"Data file not found, make sure it's downloaded.\")\n",
        "\n",
        "    data.drop(['Unnamed: 2','Unnamed: 3','Unnamed: 4'], axis=1, inplace=True)\n",
        "    data.rename(columns={\"v1\": \"label\", \"v2\": \"text\"}, inplace=True)\n",
        "    data.label = data['label'].map({'ham':0, 'spam':1})\n",
        "    data['Count'] = data['text'].apply(lambda x: len(x))\n",
        "\n",
        "    sw=stopwords.words(\"english\")\n",
        "    vectorizer = TfidfVectorizer(stop_words=sw, binary=True)\n",
        "\n",
        "    X = vectorizer.fit_transform(data.text).toarray()\n",
        "    y = data.label\n",
        "\n",
        "    return X, y"
      ],
      "execution_count": null
    },
    {
      "cell_type": "markdown",
      "metadata": {
        "id": "5d4de98b-21a6-41da-b891-8583229d943a"
      },
      "source": [
        "This function plots the loss and accuracy curve from the training history of a neural network.\n"
      ]
    },
    {
      "cell_type": "code",
      "metadata": {
        "id": "d86a7252-db17-4eaf-b79d-ace44bdc9a04"
      },
      "outputs": [],
      "source": [
        "def plot_metrics(history):\n",
        "    fig = plt.figure(figsize=(10,5))\n",
        "    for i, metric in enumerate(['accuracy', 'loss']):\n",
        "        train_metrics = history.history[metric]\n",
        "        val_metrics = history.history['val_'+metric]\n",
        "        epochs = range(1, len(train_metrics) + 1)\n",
        "        plt.subplot(1,2,i+1)\n",
        "        plt.plot(epochs, train_metrics)\n",
        "        plt.plot(epochs, val_metrics)\n",
        "        plt.title('Training and validation '+ metric)\n",
        "        plt.xlabel(\"Epochs\")\n",
        "        plt.ylabel(metric)\n",
        "        plt.legend([\"train_\"+metric, 'val_'+metric])\n"
      ],
      "execution_count": null
    },
    {
      "cell_type": "markdown",
      "metadata": {
        "id": "992fbbb2-e7ad-443c-8e9c-3fca78d6e9ab"
      },
      "source": [
        "## Overfitting\n"
      ]
    },
    {
      "cell_type": "markdown",
      "metadata": {
        "id": "b54887fa-d134-4703-8efd-7747f9c44441"
      },
      "source": [
        " In the following figure, we see a two-class classification problem. The red points represent one class, and the blue points represent the second class. The actual decision boundary is shown in black. Most points are in the correct region, but several samples are in the incorrect region; this could be for many reasons, such as noise or outliers. The key point is that you do not expect data points of these classes in these regions.\n",
        "\n",
        "The second model in green is meant to approximate the decision boundary; this model classifies the data points, even the data points in the incorrect regions. This model does not generalize well. This is because most data points will not be in those regions. As a result, the data will do poorly on data not from the original dataset, like data in the real world. This is called **overfitting**.\n",
        "\n",
        "<center><img src=\"https://cf-courses-data.s3.us.cloud-object-storage.appdomain.cloud/IBMDeveloperSkillsNetwork-ML311-Coursera/labs/Module1/L3/images/Overfitting.png\" width=\"40%\"></center>\n",
        "\n",
        "<p style=\"text-align:center\">\n",
        "    <a href=\"https://en.wikipedia.org/wiki/Overfitting\">Source: Wikipedia</a>\n",
        "</p>\n",
        "\n",
        "To combat overfitting or high variance, we introduce four regularization techniques in this lab for you to choose from the next time you train your neural network. They are:\n",
        "\n",
        "- L2 (Ridge) regularization\n",
        "- L1 (Lasso) regularization\n",
        "- Dropout\n",
        "- Batch Normalization\n",
        "- Data shuffling\n"
      ]
    },
    {
      "cell_type": "markdown",
      "metadata": {
        "id": "2b609c28-25a6-4d28-b743-e780668cbdae"
      },
      "source": [
        "## L2 Regularization\n"
      ]
    },
    {
      "cell_type": "markdown",
      "metadata": {
        "id": "badd9973-1cb6-4a16-82ba-69f1386fda0d"
      },
      "source": [
        "L2 regularization is perhaps the most common form of regularization analogous to the penalty term in  **Ridge regression**. It penalizes the squared magnitude of the weights $\\boldsymbol w$ by adding the term $\\frac12 \\lambda w^2$ to the objective function that the algorithm is trying to optimize. $\\lambda$ is the regularization strength, also called the **shrinkage parameter** which can be tuned during training.\n",
        "\n",
        "The regularization term is defined as the Euclidean norm of the weight matrices, which sums over all the squared weights. It is multiplied by $\\frac12$ so that when the gradient is calculated we get $\\lambda w$.\n",
        "\n",
        "As the shrinkage parameter approaches infinity, the weights are driven down to near zero but **will not be exactly zero**.\n"
      ]
    },
    {
      "cell_type": "markdown",
      "metadata": {
        "id": "9f0ae49a-ee50-430d-b04f-774e419ddbff"
      },
      "source": [
        "### Using L2 Regularization in Keras\n",
        "\n",
        "In Keras, regularization penalties are applied on a per-layer basis, that is, you specify the name of the regularizer API as you add a layer to the network. The `tf.keras.regularizers` module has a built-in L2 class that you can call using the following:\n"
      ]
    },
    {
      "cell_type": "code",
      "metadata": {
        "id": "b2c9b69c-3774-4d5e-9be0-84b1afb48bcf"
      },
      "outputs": [],
      "source": [
        "tf.keras.regularizers.l2(l=0.01)"
      ],
      "execution_count": null
    },
    {
      "cell_type": "markdown",
      "metadata": {
        "id": "043ced38-08a7-420f-9518-cd4098878e7b"
      },
      "source": [
        "This object can be passed as an argument to a Dense layer:\n"
      ]
    },
    {
      "cell_type": "code",
      "metadata": {
        "id": "fa04ccbd-f955-4c3b-92be-c676a914dd06"
      },
      "outputs": [],
      "source": [
        "dense_layer = Dense(32,\n",
        "                activation=\"relu\",\n",
        "                kernel_regularizer=tf.keras.regularizers.l2(l=0.01))"
      ],
      "execution_count": null
    },
    {
      "cell_type": "markdown",
      "metadata": {
        "id": "d104a36a-d9ee-4509-a662-0e7337eab466"
      },
      "source": [
        "## L1 Regularization\n",
        "\n",
        "L1 regularization is another common form of regularization. It penalizes large weights $\\boldsymbol w$ by adding the term $\\lambda |w|$ to the objective function, where $\\lambda$ is the regularization strength.\n",
        "\n",
        "What differentiates L1 from L2 is that, when $\\lambda$ approaches infinity, L1 regularization can shrink the weights of the less important features to zero, which would be very useful if you also want automatic feature selection during training.\n",
        "\n",
        "<p style='color: blue'>The following figure illustrates how L1 and L2 work differently:</p>\n",
        "\n",
        "<center><img src=\"https://cf-courses-data.s3.us.cloud-object-storage.appdomain.cloud/IBMDeveloperSkillsNetwork-ML311-Coursera/labs/Module1/L3/images/L12_1.png\" width=\"65%\"></center>\n",
        "\n",
        "<p style=\"text-align:center; color:gray\">Source: An Introduction to Statistical Learning</p>\n"
      ]
    },
    {
      "cell_type": "markdown",
      "metadata": {
        "id": "3dd97b41-061b-42a6-b6b2-f9aaa142e84f"
      },
      "source": [
        "In the figure above, the red ellipses represent the contours of the loss function that needs to be optimized during training, and the green areas on the left and right represent the **feasible regions** of the L1 and L2 constaints respectively.\n",
        "\n",
        "In the case of L1 (left), the ellipse would be able to intersect with the feasible region on an axis, which is when the weights become zero. However, for L2 (right), due to the round shape of the feasible region; that is, the L2 norm, the ellipse wouldn't intersect with the green circle on an axis, which is why the weights regularized by L2 can be close to zero but not equal to zero.\n",
        "\n",
        "We can also combine the L1 regularization and the L2 regularization to obtain the **Elastic Net regularization**: $\\frac12 \\lambda_1 w^2 + \\lambda_2 |w|$. $\\lambda_1$ and $\\lambda_2$ can be tuned as hyperparameters during training.\n"
      ]
    },
    {
      "cell_type": "markdown",
      "metadata": {
        "id": "dcb8414d-7b93-4ca3-b0c2-2a81f753539a"
      },
      "source": [
        "### Using L1 Regularization in Keras\n",
        "\n",
        "Similar to how we used L2, `tf.keras.regularizers` module also has a built-in L1 class:\n"
      ]
    },
    {
      "cell_type": "code",
      "metadata": {
        "id": "1be72bbc-1edf-4931-96db-ae88a3329781"
      },
      "outputs": [],
      "source": [
        "dense_layer = Dense(32,\n",
        "            activation=\"relu\",\n",
        "            kernel_regularizer=tf.keras.regularizers.l1(l=0.01))"
      ],
      "execution_count": null
    },
    {
      "cell_type": "markdown",
      "metadata": {
        "id": "996fcfc8-7f66-42b8-8021-19cd3d31aa70"
      },
      "source": [
        "If you don't need to specify a value for the regularization strength, you can also pass a string value to the `kernel_regularizer` argument:\n"
      ]
    },
    {
      "cell_type": "code",
      "metadata": {
        "id": "a0fae9e8-d167-4200-9799-e10b14c9f84f"
      },
      "outputs": [],
      "source": [
        "dense_layer = Dense(32,\n",
        "                activation=\"relu\",\n",
        "                kernel_regularizer=\"l1\")"
      ],
      "execution_count": null
    },
    {
      "cell_type": "markdown",
      "metadata": {
        "id": "e9ca1393-f8a3-41e0-9dfd-085dee6c5971"
      },
      "source": [
        "## Dropout\n",
        "\n",
        "During training, Dropout will keep a neuron active with some probability $\\boldsymbol p$ (a hyperparameter), or set it to zero otherwise. This regularization technique approximates training a large number of different neural networks in parallel.\n",
        "\n",
        "<center><img src=\"https://cf-courses-data.s3.us.cloud-object-storage.appdomain.cloud/IBMDeveloperSkillsNetwork-ML311-Coursera/labs/Module1/L3/images/DO_1.png\" width=\"60%\"></center>\n",
        "\n",
        "Picture from the [Dropout paper](http://www.cs.toronto.edu/~rsalakhu/papers/srivastava14a.pdf)\n",
        "\n",
        "Dropout can be interpreted as sampling a neural network within the full neural network and only updating the weights of the sampled network. By doing so, each iteration is using a different model architecture and has a different \"view\" of the configured layers. This adds noise to the training process and perhaps breaks up situations where network layers co-adapt to correct prior mistakes, making the network more robust.\n",
        "\n",
        "Note that **Dropout is not used during prediction**.\n"
      ]
    },
    {
      "cell_type": "markdown",
      "metadata": {
        "id": "45db458f-e7b3-4c45-ae3a-0b1317bdb033"
      },
      "source": [
        "### Using Dropout in Keras\n",
        "\n",
        "In Keras, Dropout can be applied using the Dropout class from **keras.layers**. A dropout rate can be specified when creating the dropout layer, which is the percentage of neurons that will be turned off during one update.\n"
      ]
    },
    {
      "cell_type": "code",
      "metadata": {
        "id": "4ce83280-9895-40ca-8651-6df7f5bcef22"
      },
      "outputs": [],
      "source": [
        "from tensorflow.keras.layers import Dropout\n",
        "\n",
        "dropout_layer = Dropout(rate=0.2)"
      ],
      "execution_count": null
    },
    {
      "cell_type": "markdown",
      "metadata": {
        "id": "f3716d64-746c-4fd1-bfa7-2cf17deb417f"
      },
      "source": [
        "## Batch Normalization\n",
        "\n",
        "Training deep neural networks is complicated, because the distribution of each layer's inputs changes as the weights of the previous layers get updated during back propagation. This can result in the learning algorithm always pursuing a moving target. In the [original paper](https://arxiv.org/abs/1502.03167) of Batch Normalization, the change in the distribution of inputs to layers in the network is referred to as **\"internal covariate shift\"**. This slows down the training by requiring lower learning rates and careful parameter initialization, making it hard for the model to generalize well. Sometimes, if the training samples are statistically too different from the testing samples, it is considered a covariate shift.\n"
      ]
    },
    {
      "cell_type": "markdown",
      "metadata": {
        "id": "28c786a5-199d-4649-8190-668b29c94801"
      },
      "source": [
        "### What is Batch Normalization?\n",
        "\n",
        "Batch normalization is a technique for training very deep neural networks that normalizes the inputs to a layer for every mini-batch. This has the effect of stabilizing the learning process and dramatically reducing the number of training epochs required to train deep networks.\n",
        "\n",
        "**Batch**, or **mini-batch**, is a collection of samples that will be passed through the network at one time for the weights update. **Normalization** is the process of transforming the data to have a mean 0 and a standard deviation 1 (thus follows the standard normal distribution).\n",
        "\n",
        "In a neural network, batch normalization is achieved through a normalization layer between the fully connected Dense layers, which fixes the means and variances of each layer's inputs. This way, there is not much change in the distribution of each layer input, and the layers in the network can learn from back-propagation simultaneously without having to wait for the previous layers to learn. This accelerates the training process.\n",
        "\n",
        "<center><img src=\"https://cf-courses-data.s3.us.cloud-object-storage.appdomain.cloud/IBMDeveloperSkillsNetwork-ML311-Coursera/labs/Module1/L3/images/BN_6.png\" width=\"70%\"></center>\n",
        "\n",
        "Image credits to [Ilango Rajagopal](https://medium.com/@ilango100/batch-normalization-speed-up-neural-network-training-245e39a62f85)\n"
      ]
    },
    {
      "cell_type": "markdown",
      "metadata": {
        "id": "5577e600-702f-47fe-849d-1ac4bdf6189d"
      },
      "source": [
        "### How does Batch Normalization work?\n",
        "\n",
        "Denote by $\\boldsymbol B$ a mini-batch of size $\\boldsymbol m$ of the training set, for a layer with **_d_**-dimensional input $x = (x^{(1)},...,x^{(d)})$, each dimension of its input is then normalized as:\n",
        "$$\n",
        "\\hat{x}_{i}^{k} = \\frac {x_i ^{k}-\\mu_B^{k}} {\\sqrt{{\\sigma_B^{k}}^2 +\\epsilon}}\n",
        "$$\n",
        "\n",
        "where $k \\in [1,d]$and $i \\in [1,m]$; $\\mu_B^{k}$ and ${\\sigma_B^{k}}^2$are the **per dimension mean and variance** of $\\boldsymbol B$ such that:\n"
      ]
    },
    {
      "cell_type": "markdown",
      "metadata": {
        "id": "e3cb1588-8405-4233-ab07-d1490983589b"
      },
      "source": [
        "$$\n",
        "\\mu_B^{k} = \\frac{1}{m} \\sum_{i=1}^m x_i^{k}, {\\sigma_B^{k}}^2 = \\frac{1}{m} \\sum_{i=1}^m (x_i^{k}-\\mu_B^{k})^2\n",
        "$$\n"
      ]
    },
    {
      "cell_type": "markdown",
      "metadata": {
        "id": "ce26aec2-ebe4-40a7-8bf8-46937835e4de"
      },
      "source": [
        "$\\epsilon$ is added in the denominator for numerical stability and is an arbitrarily small constant. The resulting normalized activation $\\hat{x}^{k}$ has zero mean and unit variance if $\\epsilon$ is not taken into account. To restore the representation power of the network, a transformation step then follows as\n",
        "\n",
        "$$\n",
        "y_i^{k} = \\gamma^{k} \\hat{x}_{i}^{k} +\\beta^{k}\n",
        "$$\n",
        "\n",
        "where the parameters $\\gamma^{k}$ and $\\beta^{k}$ are subsequently learned in the optimization process. You can refer to [wikipedia](https://en.wikipedia.org/wiki/Batch_normalization) for more mathematical details of batch normalization.\n"
      ]
    },
    {
      "cell_type": "markdown",
      "metadata": {
        "id": "447fd3b5-d423-4903-80b7-3a028f20ba58"
      },
      "source": [
        "<p style='color: blue'>What are the benefits of Batch Normalization?</p>\n",
        "\n",
        "1. It tackles the internal covariate shift issue by always normalizing the input signals, thus accelerating the training of deep neural nets and increasing the generalization power of the networks.\n",
        "2. It makes the optimization landscape smoother, reducing the magnitude of variations in the gradient and the loss, making the training faster and easier.\n",
        "3. It acts as a regularizer by introducing random noises, as each minibatch at each layer is normalized using its own mean and standard deviation during training.\n"
      ]
    },
    {
      "cell_type": "markdown",
      "metadata": {
        "id": "bc49efc5-8041-4b62-a040-39646c0a600f"
      },
      "source": [
        "### Using Batch Normalization in Keras\n",
        "\n",
        "In Keras, you can add a Batch Norm layer between the Dense layers by calling `BatchNormalization()` from **keras.layers**. Here is a code example:\n"
      ]
    },
    {
      "cell_type": "code",
      "metadata": {
        "id": "6e189c5b-1fc5-4a33-99a7-1739e386e000"
      },
      "outputs": [],
      "source": [
        "from tensorflow.keras.layers import Dense, BatchNormalization\n",
        "\n",
        "batchnorm_layer = BatchNormalization()"
      ],
      "execution_count": null
    },
    {
      "cell_type": "markdown",
      "metadata": {
        "id": "1d2c557a-c41b-4d0c-a721-ac52d0c1165b"
      },
      "source": [
        "## Example 1: Apply regularization techniques on simulated data\n",
        "\n",
        "In this example, we will use the **generate_data** function to simulate a degree-3 polynomial dataset with some random noise. We will intentionally overfit the data by creating polynomial features of the data, and then we will observe whether the four regularization techniques can mitigate overfitting in this case.\n"
      ]
    },
    {
      "cell_type": "markdown",
      "metadata": {
        "id": "75e22d14-2ae1-4bd9-839c-c47b30d1a019"
      },
      "source": [
        "Let's first visualize the polynomial data:\n"
      ]
    },
    {
      "cell_type": "code",
      "metadata": {
        "id": "5a616645-3f81-4623-9e6d-c50cf73b04c9"
      },
      "outputs": [],
      "source": [
        "def generate_data(seed=43,std=0.1,samples=500):\n",
        "    np.random.seed(seed)\n",
        "    X =np.linspace(-1,1,samples)\n",
        "    f = X**3 +2*X**2 -X\n",
        "    y=f+np.random.randn(samples)*std\n",
        "\n",
        "    return X, y\n",
        "\n",
        "\n",
        "X,y = generate_data()\n",
        "f = X**3 +2*X**2 -X\n",
        "plt.plot(X, y,'rx',label=\"data samples\")\n",
        "plt.plot(X, f,label=\"true function\")\n",
        "plt.title(\"data and true function\")\n",
        "plt.legend()\n",
        "plt.show()"
      ],
      "execution_count": null
    },
    {
      "cell_type": "markdown",
      "metadata": {
        "id": "6fda5daf-22c3-4a8c-9b71-3b97f3e606cf"
      },
      "source": [
        "let's also add some outliers to y:\n"
      ]
    },
    {
      "cell_type": "code",
      "metadata": {
        "id": "4b0b2c43-0bcf-4332-bf89-036e2d7f5ed6"
      },
      "outputs": [],
      "source": [
        "y[20:30] = 0\n",
        "y[100:110] = 2\n",
        "y[180:190] = 4\n",
        "y[260:270] = -2\n",
        "y[340:350] = -3\n",
        "y[420:430] = 4\n",
        "\n",
        "plt.plot(X, y,'rx',label=\"data samples\")\n",
        "plt.plot(X, f,label=\"true function\")\n",
        "plt.legend()\n",
        "plt.show()"
      ],
      "execution_count": null
    },
    {
      "cell_type": "markdown",
      "metadata": {
        "id": "dd720429-c631-4fec-be91-ad581970c3bf"
      },
      "source": [
        "Let's use an overly complex neural network to fit our simulated data.\n"
      ]
    },
    {
      "cell_type": "code",
      "metadata": {
        "id": "3c8288a6-8b43-4a8e-beb9-42c0a3ad47fc"
      },
      "outputs": [],
      "source": [
        "from tensorflow.keras.layers import Dense\n",
        "from tensorflow.keras.optimizers import Adam\n",
        "\n",
        "model = Sequential()\n",
        "model.add(Dense(1000, activation='relu',input_shape=(1,)))\n",
        "model.add(Dense(120,activation='relu'))\n",
        "model.add(Dense(120,activation='relu'))\n",
        "model.add(Dense(1))\n",
        "\n",
        "model.compile(optimizer=Adam(lr=1e-3), loss=\"mean_squared_error\")\n",
        "model.fit(X, y,  epochs=20, batch_size=100)"
      ],
      "execution_count": null
    },
    {
      "cell_type": "markdown",
      "metadata": {
        "id": "f243fc8e-a285-47f4-b1b1-58878cfb27c0"
      },
      "source": [
        "When we plot out the original data and the predictions, we can see that because the model's weights are not regularized, it tends to over fit  on new data:\n"
      ]
    },
    {
      "cell_type": "code",
      "metadata": {
        "id": "442079a7-6a75-401d-a554-ce5708ca8af9"
      },
      "outputs": [],
      "source": [
        "y_pred = model.predict(X)\n",
        "plt.plot(X, y,'rx',label=\"data samples\")\n",
        "plt.plot(X, f,label=\"true function\")\n",
        "plt.plot(X, y_pred ,label=\"predicted function\")\n",
        "plt.legend()\n",
        "plt.show()"
      ],
      "execution_count": null
    },
    {
      "cell_type": "markdown",
      "metadata": {
        "id": "859c7e3c-3fed-4a5e-9e63-9ded85e7f8e1"
      },
      "source": [
        "We can also calculate the mean square error:\n"
      ]
    },
    {
      "cell_type": "code",
      "metadata": {
        "id": "51f38540-c912-44b7-88ed-fd8b0ab954da"
      },
      "outputs": [],
      "source": [
        "no_reg = np.mean((y-y_pred)**2)\n",
        "print(f\"Mean squared error is {no_reg}\\n\")"
      ],
      "execution_count": null
    },
    {
      "cell_type": "markdown",
      "metadata": {
        "id": "044e38c8-c974-4f07-b8e6-69ffed58f5c8"
      },
      "source": [
        "Now let's apply the four regularization techniques: **L1, L2, Drop out, and Batch Normalization** and see which works best for our data!\n"
      ]
    },
    {
      "cell_type": "markdown",
      "metadata": {
        "id": "69e4a523-78ea-457c-a4bf-cd65e84803b0"
      },
      "source": [
        "### L1 (Lasso)\n"
      ]
    },
    {
      "cell_type": "code",
      "metadata": {
        "id": "264f5f2e-9973-479f-b837-47519fda9a35"
      },
      "outputs": [],
      "source": [
        "model_l1 = Sequential()\n",
        "\n",
        "model_l1.add(Dense(1000, activation='relu',input_shape=(1,),kernel_regularizer=keras.regularizers.l1(l=0.01)))\n",
        "model_l1.add(Dense(120,activation='relu',kernel_regularizer=keras.regularizers.l1(l=0.001)))\n",
        "model_l1.add(Dense(120,activation='relu'))\n",
        "model_l1.add(Dense(1))\n",
        "model_l1.compile(optimizer=Adam(lr=1e-3), loss=\"mean_squared_error\")\n",
        "model_l1.fit(X, y,  epochs=20, batch_size=100)"
      ],
      "execution_count": null
    },
    {
      "cell_type": "markdown",
      "metadata": {
        "id": "c0474b0b-091c-4c48-b0fc-b67e73cc464e"
      },
      "source": [
        "We can plot the model, we see the model tracks the data:\n"
      ]
    },
    {
      "cell_type": "code",
      "metadata": {
        "id": "efe938cc-dada-472a-8f40-05a6e5513a42"
      },
      "outputs": [],
      "source": [
        "y_pred = model_l1.predict(X)\n",
        "plt.plot(X, y,'rx',label=\"data samples\")\n",
        "plt.plot(X, f,label=\"true function\")\n",
        "plt.plot(X, y_pred,label=\"predicted function\")\n",
        "plt.legend()\n",
        "plt.show()"
      ],
      "execution_count": null
    },
    {
      "cell_type": "markdown",
      "metadata": {
        "id": "edad0ca9-43b8-4943-afd0-4a4973b02818"
      },
      "source": [
        "We can also calculate the mean square error; we see L1 regulation decreases the error:\n"
      ]
    },
    {
      "cell_type": "code",
      "metadata": {
        "id": "88249da4-11b6-44a8-8558-afba3477e03c"
      },
      "outputs": [],
      "source": [
        "l1 = np.mean((y-y_pred)**2)\n",
        "print(f\"Mean squared error is {l1}\\n\")"
      ],
      "execution_count": null
    },
    {
      "cell_type": "markdown",
      "metadata": {
        "id": "783a2744-b6b2-440b-91af-680062368097"
      },
      "source": [
        "### L2 (Ridge)\n"
      ]
    },
    {
      "cell_type": "code",
      "metadata": {
        "id": "7b0bd598-b1aa-444c-b339-e7a70a913ce6"
      },
      "outputs": [],
      "source": [
        "model_l2 = Sequential()\n",
        "\n",
        "model_l2.add(Dense(1000, activation='relu',input_shape=(1,),kernel_regularizer=keras.regularizers.l2(l=0.0001)))\n",
        "model_l2.add(Dense(120,activation='relu',kernel_regularizer=keras.regularizers.l2(l=0.0001)))\n",
        "model_l2.add(Dense(120,activation='relu',kernel_regularizer=keras.regularizers.l2(l=0.0001)))\n",
        "model_l2.add(Dense(1))\n",
        "model_l2.compile(optimizer=Adam(lr=1e-3), loss=\"mean_squared_error\")\n",
        "model_l2.fit(X, y, validation_split=0.2, epochs=20, batch_size=40)"
      ],
      "execution_count": null
    },
    {
      "cell_type": "markdown",
      "metadata": {
        "id": "aef49984-9705-42a3-a7a8-4637dd2db33c"
      },
      "source": [
        "We can plot the model, we can also calculate the mean square error; we see L2 regulation can also improve the result by a little bit:\n"
      ]
    },
    {
      "cell_type": "code",
      "metadata": {
        "id": "0548309a-6d37-48f4-b996-6db6c334161a"
      },
      "outputs": [],
      "source": [
        "y_pred = model_l2.predict(X)\n",
        "plt.plot(X, y,'rx',label=\"data samples\")\n",
        "plt.plot(X, f,label=\"true function\")\n",
        "plt.plot(X, y_pred ,label=\"predicted function\")\n",
        "plt.legend()"
      ],
      "execution_count": null
    },
    {
      "cell_type": "code",
      "metadata": {
        "id": "90fa51ce-a6bf-4c1f-8766-a4b2608f7873"
      },
      "outputs": [],
      "source": [
        "l2 = np.mean((y-y_pred)**2)\n",
        "print(f\"Mean squared error is {l2}\\n\")"
      ],
      "execution_count": null
    },
    {
      "cell_type": "markdown",
      "metadata": {
        "id": "7446d5a2-077e-4a33-90dc-6bc25f8a4b72"
      },
      "source": [
        "### Dropout\n"
      ]
    },
    {
      "cell_type": "code",
      "metadata": {
        "id": "4c2678fc-9dc2-450b-ae42-b108b7535714"
      },
      "outputs": [],
      "source": [
        "model_dp = Sequential()\n",
        "\n",
        "model_dp.add(Dense(1000, activation='relu',input_shape=(1,)))\n",
        "model_dp.add(Dropout(0.1))\n",
        "model_dp.add(Dense(120,activation='relu'))\n",
        "model_dp.add(Dropout(0.1))\n",
        "model_dp.add(Dense(120,activation='relu'))\n",
        "model_dp.add(Dropout(0.1))\n",
        "model_dp.add(Dense(1))\n",
        "model_dp.compile(optimizer=Adam(lr=1e-3), loss=\"mean_squared_error\")\n",
        "model_dp.fit(X, y, validation_split=0.2, epochs=20, batch_size=40)"
      ],
      "execution_count": null
    },
    {
      "cell_type": "markdown",
      "metadata": {
        "id": "5c34d938-b2aa-4626-b233-91e6e26ca3d7"
      },
      "source": [
        "Let's plot the prediction and calculate the mean square error;\n"
      ]
    },
    {
      "cell_type": "code",
      "metadata": {
        "id": "2afd3ad3-b0ea-4f6f-98d7-1a46a6a2b0e4"
      },
      "outputs": [],
      "source": [
        "y_pred = model_dp.predict(X)\n",
        "plt.plot(X, y,'rx',label=\"data samples\")\n",
        "plt.plot(X, f,label=\"true function\")\n",
        "plt.plot(X, y_pred ,label=\"predicted function\")\n",
        "plt.legend()"
      ],
      "execution_count": null
    },
    {
      "cell_type": "code",
      "metadata": {
        "id": "6f91ec62-4a46-4a9e-9c82-8b4f387dae08"
      },
      "outputs": [],
      "source": [
        "dp = np.mean((y-y_pred)**2)\n",
        "print(f\"Mean squared error is {dp}\\n\")"
      ],
      "execution_count": null
    },
    {
      "cell_type": "markdown",
      "metadata": {
        "id": "4586a0e1-064c-4e44-a26b-6ab576bb995e"
      },
      "source": [
        "### Batch Norm\n"
      ]
    },
    {
      "cell_type": "code",
      "metadata": {
        "id": "15631a12-6960-4217-ad43-e719de7da438"
      },
      "outputs": [],
      "source": [
        "model_bn = Sequential()\n",
        "\n",
        "model_bn.add(Dense(1000, activation='relu',input_shape=(1,)))\n",
        "model_bn.add(BatchNormalization())\n",
        "model_bn.add(Dense(120,activation='relu'))\n",
        "\n",
        "model_bn.add(Dense(120,activation='relu'))\n",
        "model_bn.add(Dense(1))\n",
        "model_bn.compile(optimizer=Adam(lr=1e-3), loss=\"mean_squared_error\")\n",
        "model_bn.fit(X, y, validation_split=0.2, epochs=20, batch_size=40)"
      ],
      "execution_count": null
    },
    {
      "cell_type": "markdown",
      "metadata": {
        "id": "0edae3d0-9e70-4386-b422-53208f4c6d19"
      },
      "source": [
        "We can observe that due to a stronger regularization of Batch Normalization, the model does not seem to fit the data very well. However, the mean square error actually shows a big improvement.\n"
      ]
    },
    {
      "cell_type": "code",
      "metadata": {
        "id": "6dc2f60e-5459-47b5-bb4b-24c835d3ce59"
      },
      "outputs": [],
      "source": [
        "y_pred = model_bn.predict(X)\n",
        "plt.plot(X, y,'rx',label=\"data samples\")\n",
        "plt.plot(X, f,label=\"true function\")\n",
        "plt.plot(X, y_pred ,label=\"predicted function\")\n",
        "plt.legend()"
      ],
      "execution_count": null
    },
    {
      "cell_type": "code",
      "metadata": {
        "id": "3081a0d5-b65e-4bf7-b206-e77eda423457"
      },
      "outputs": [],
      "source": [
        "bn = np.mean((y-y_pred)**2)\n",
        "print(f\"Mean squared error is {bn}\\n\")"
      ],
      "execution_count": null
    },
    {
      "cell_type": "markdown",
      "metadata": {
        "id": "a887826b-9fb1-4299-9d0b-694e59d5cf43"
      },
      "source": [
        "## Data Shuffling\n",
        "\n",
        "To apply data shuffling to avoid overfitting, we can simpy call `shuffle=True` when fitting the model.\n"
      ]
    },
    {
      "cell_type": "code",
      "metadata": {
        "id": "721c49e0-5fe7-4ade-8317-b8ec37c634f3"
      },
      "outputs": [],
      "source": [
        "model_sh = Sequential()\n",
        "\n",
        "model_sh.add(Dense(1000, activation='relu',input_shape=(1,)))\n",
        "model_sh.add(Dense(120,activation='relu'))\n",
        "model_sh.add(Dense(120,activation='relu'))\n",
        "model_sh.add(Dense(1))\n",
        "\n",
        "model_sh.compile(optimizer=Adam(lr=1e-3), loss=\"mean_squared_error\")\n",
        "model_sh.fit(X, y, validation_split=0.2, epochs=20, batch_size=40,shuffle=True)"
      ],
      "execution_count": null
    },
    {
      "cell_type": "markdown",
      "metadata": {
        "id": "ba92c0d9-edd7-4ba0-b4e9-a118f88b4740"
      },
      "source": [
        "We can also calculate the mean square error on the data. Data shuffling doesn't seem to be very effective for our data.\n"
      ]
    },
    {
      "cell_type": "code",
      "metadata": {
        "id": "37c0691f-b430-4421-8fd5-4b384210912c"
      },
      "outputs": [],
      "source": [
        "y_pred = model_sh.predict(X)\n",
        "\n",
        "plt.plot(X, y,'rx',label=\"data samples\")\n",
        "plt.plot(X, f,label=\"true function\")\n",
        "plt.plot(X, y_pred ,label=\"predicted function\")\n",
        "plt.legend()"
      ],
      "execution_count": null
    },
    {
      "cell_type": "code",
      "metadata": {
        "id": "a0559ecb-61fc-40b3-ba2c-c7df891310ec"
      },
      "outputs": [],
      "source": [
        "sh = np.mean((y-y_pred)**2)\n",
        "print(f\"Mean squared error is {sh}\\n\")"
      ],
      "execution_count": null
    },
    {
      "cell_type": "markdown",
      "metadata": {
        "id": "eace5d6f-ef28-46d7-98d4-cef0b7146501"
      },
      "source": [
        "Let's compare the mean squared errors of the networks trained using different regularization techniques:\n"
      ]
    },
    {
      "cell_type": "code",
      "metadata": {
        "id": "36296bc8-b5ba-46c4-ae11-ddd86297a6a5"
      },
      "outputs": [],
      "source": [
        "names = ['No_reg','L1','L2','Drop_out','Batch_norm','Data_shuffling']\n",
        "error = [no_reg, l1, l2, dp, bn, sh]\n",
        "\n",
        "plt.figure(figsize=(8, 4))\n",
        "plt.bar(names, error, width=0.6)\n",
        "plt.title(\"Mean Squared Error\", fontsize=13)\n",
        "\n",
        "for i, err in enumerate(error):\n",
        "    plt.text(i-0.2, err+0.1, str(round(err,3)), color='blue', va='center')"
      ],
      "execution_count": null
    },
    {
      "cell_type": "markdown",
      "metadata": {
        "id": "8a70abe6-77e8-49a4-b277-75bbf384b6bb"
      },
      "source": [
        "Given the comparison of the mean squared errors, we can conclude that Batch Normalization works best for the simulated dataset. However, one takeaway I hope you to have is that for model training or machine learning in general, there are no cookie-cutter solutions for issues such as overfitting. There are no strict rules as to which technique is most effective when working with one type of dataset, so I would suggest you just try these techniques out and pick the one that you deem is the best (based on an evaluation metric) for your problem!\n",
        "\n",
        "Now, let's move on to a real world dataset.\n"
      ]
    },
    {
      "cell_type": "markdown",
      "metadata": {
        "id": "31935012-c679-472f-b5e4-b4209b35c9cd"
      },
      "source": [
        "## Example 2: Spam Classification\n",
        "\n",
        "In this example, we will dive into a real world application, which is a spam classification problem. We will work with the [SMS Spam Collection Dataset](https://www.kaggle.com/datasets/uciml/sms-spam-collection-dataset) from Kaggle and use neural networks for classifying a message as either Spam or Ham (not spam).\n",
        "\n",
        "We first download and display the raw dataset:\n"
      ]
    },
    {
      "cell_type": "code",
      "metadata": {
        "id": "c9732322-a0d1-4e15-abc6-d6ad69622c20"
      },
      "outputs": [],
      "source": [
        "import skillsnetwork\n",
        "\n",
        "await skillsnetwork.download(\"https://cf-courses-data.s3.us.cloud-object-storage.appdomain.cloud/IBMDeveloperSkillsNetwork-ML311-Coursera/labs/Module1/L3/data/spam.csv\")"
      ],
      "execution_count": null
    },
    {
      "cell_type": "code",
      "metadata": {
        "id": "7440c946-f4e6-45dc-9a97-ea0ad8e9e8e7"
      },
      "outputs": [],
      "source": [
        "data = pd.read_csv(\"spam.csv\", encoding=\"latin-1\")\n",
        "data.head()"
      ],
      "execution_count": null
    },
    {
      "cell_type": "markdown",
      "metadata": {
        "id": "875d428e-543e-4c1a-8244-bceebfbe944e"
      },
      "source": [
        "By calling the helper function **prepare_data**, we obtain a matrix $\\boldsymbol X$ which contains the pre-processed text data (mainly using the **TfidfVectorizer** from scikit-learn's **feature_extraction** module) and an object $\\boldsymbol y$ which contains the labels of the messages.\n",
        "\n",
        "There are 5572 text messages that will be classified as either spam **(1)** or non-spam **(0)**, and they are 8536-dimensional data.\n"
      ]
    },
    {
      "cell_type": "code",
      "metadata": {
        "id": "2b737b10-b2e8-449d-8871-7596c780e213"
      },
      "outputs": [],
      "source": [
        "X, y = prepare_data()\n",
        "X.shape, y.shape"
      ],
      "execution_count": null
    },
    {
      "cell_type": "markdown",
      "metadata": {
        "id": "cd8636e8-d8d7-49a5-948f-d0d535d6fa75"
      },
      "source": [
        "### Model Configuration and Training\n"
      ]
    },
    {
      "cell_type": "markdown",
      "metadata": {
        "id": "1f6ed57d-5df5-48f4-85f5-c6e2841c3bd0"
      },
      "source": [
        "The **get_model** function provides the layer configuration ane the training of a neural network for different specifications of the regularization technique used. For example, by setting `reg='L1'`, the network's Dense layers will be regularized by L1, and then at the end of the training, the loss and accuracy curve of the train and validation set will be plotted.\n"
      ]
    },
    {
      "cell_type": "code",
      "metadata": {
        "id": "222bc393-ea2a-4d9e-a2ec-70d2ddbce584"
      },
      "outputs": [],
      "source": [
        "input_dim = X.shape[1]\n",
        "\n",
        "def get_model(reg=None, epochs=10):\n",
        "    model = Sequential()\n",
        "    model.add(Dense(512, activation='relu', input_shape=(input_dim,)))\n",
        "    if reg==\"L1\":\n",
        "        model.add(Dense(256, activation='relu', kernel_regularizer=\"l1\"))\n",
        "        model.add(Dense(64, activation='relu', kernel_regularizer=\"l1\"))\n",
        "    elif reg==\"L2\":\n",
        "        model.add(Dense(256, activation='relu', kernel_regularizer=\"l2\"))\n",
        "        model.add(Dense(64, activation='relu', kernel_regularizer=\"l2\"))\n",
        "    elif reg==\"Dropout\":\n",
        "        model.add(Dropout(0.2))\n",
        "        model.add(Dense(256, activation='relu'))\n",
        "        model.add(Dropout(0.2))\n",
        "        model.add(Dense(64, activation='relu'))\n",
        "        model.add(Dropout(0.2))\n",
        "    elif reg==\"BatchNorm\":\n",
        "        model.add(BatchNormalization())\n",
        "        model.add(Dense(256, activation='relu'))\n",
        "        model.add(BatchNormalization())\n",
        "        model.add(Dense(64, activation='relu'))\n",
        "        model.add(BatchNormalization())\n",
        "    else:\n",
        "        model.add(Dense(256, activation='relu'))\n",
        "        model.add(Dense(64, activation='relu'))\n",
        "\n",
        "    model.add(Dense(1, activation='sigmoid'))\n",
        "    model.compile(loss=\"binary_crossentropy\", optimizer=\"adam\",\n",
        "                 metrics=[\"accuracy\"])\n",
        "    history = model.fit(X, y, batch_size=64, validation_split=0.2,\n",
        "              epochs=epochs)\n",
        "    plot_metrics(history)\n"
      ],
      "execution_count": null
    },
    {
      "cell_type": "markdown",
      "metadata": {
        "id": "e6101cec-7246-422c-ab1e-423a16f1c287"
      },
      "source": [
        "### Baseline: No Regularization\n"
      ]
    },
    {
      "cell_type": "code",
      "metadata": {
        "id": "88d2a50a-5ba9-453d-8979-99ab7edd8abc"
      },
      "outputs": [],
      "source": [
        "get_model()"
      ],
      "execution_count": null
    },
    {
      "cell_type": "markdown",
      "metadata": {
        "id": "ad55b2c6-4c30-4f2c-995b-b9551599702f"
      },
      "source": [
        "You can see that without regularization, our training set accuracy is generally higher than validation accuracy, which means the model is overfitted to the training set.\n"
      ]
    },
    {
      "cell_type": "markdown",
      "metadata": {
        "id": "f7bf4549-676e-4301-b598-b6b2cde408cb"
      },
      "source": [
        "### L1 Regularization\n"
      ]
    },
    {
      "cell_type": "code",
      "metadata": {
        "id": "e0dd3c22-e43d-4e8d-bc53-d158c09b5b5e"
      },
      "outputs": [],
      "source": [
        "get_model(reg=\"L1\")"
      ],
      "execution_count": null
    },
    {
      "cell_type": "markdown",
      "metadata": {
        "id": "a9822ba2-46ca-466d-a8dd-9e414c4dcea8"
      },
      "source": [
        "With L1 regularization, we can see that the validation accuracy is now higher than the training accuracy, meaning the L1 regularization mitigated the overfitting issue. However, if we look closer at the y-axis, we can see that in fact the accuracy value in general (both train and validation) is lower than the baseline model.\n",
        "\n",
        "For the baseline model, the validation accuracy was always above 0.97 even though it's slightly lower than the training accuracy. This indicates that, by using the default L1 regularization with shrinkage strength equals 0.001, our model is underfitting.\n"
      ]
    },
    {
      "cell_type": "markdown",
      "metadata": {
        "id": "11c6b37b-0ab9-4f3e-a309-aebbd5bfa40c"
      },
      "source": [
        "### L2 Regularization\n"
      ]
    },
    {
      "cell_type": "code",
      "metadata": {
        "id": "8b89a46e-a457-4e9f-98e9-1e8cae65c6dc"
      },
      "outputs": [],
      "source": [
        "get_model(reg=\"L2\")"
      ],
      "execution_count": null
    },
    {
      "cell_type": "markdown",
      "metadata": {
        "id": "759bb6c9-8cce-4a63-a8f8-7021c4946eb3"
      },
      "source": [
        "With L2 regularization, the gap between training accuracy and validation accuracy narrowed a little bit. The training accuracy was not always 1.0 compared to the baseline and the validation accuracy had more fluctuations than the baseline.\n"
      ]
    },
    {
      "cell_type": "markdown",
      "metadata": {
        "id": "dd085ac7-a032-4dd6-8f83-74566b9bd029"
      },
      "source": [
        "### Dropout\n"
      ]
    },
    {
      "cell_type": "code",
      "metadata": {
        "id": "869bc0b1-942e-45e8-91f8-589d85db3dfd"
      },
      "outputs": [],
      "source": [
        "get_model(reg=\"Dropout\")"
      ],
      "execution_count": null
    },
    {
      "cell_type": "markdown",
      "metadata": {
        "id": "07dd9d2f-5696-4231-b39a-fd01ccd944cf"
      },
      "source": [
        "With dropout, the resulting curves are very similar to the baseline, so perhaps dropout is not very effective in our case.\n"
      ]
    },
    {
      "cell_type": "markdown",
      "metadata": {
        "id": "26bddcf5-d475-4fd4-bfb4-e58f9518d4a9"
      },
      "source": [
        "### Batch Normalization\n"
      ]
    },
    {
      "cell_type": "code",
      "metadata": {
        "id": "8e029345-af44-462b-a03d-a1da0966c5be"
      },
      "outputs": [],
      "source": [
        "get_model(reg=\"BathNorm\")"
      ],
      "execution_count": null
    },
    {
      "cell_type": "markdown",
      "metadata": {
        "id": "52364a1c-3c6f-47c4-a5c5-21ab326a111d"
      },
      "source": [
        "With Batch Norm, the final training accuracy is 1.0 and final validation accuracy is 0.9812, which is slightly higher than before (0.9794). We can conclude that Batch Normalization is a relatively better choice for regularizing neural network training.\n"
      ]
    },
    {
      "cell_type": "markdown",
      "metadata": {
        "id": "0dcbb68a-cb4d-48bf-87ac-9af6f510d68f"
      },
      "source": [
        "## Authors\n"
      ]
    },
    {
      "cell_type": "markdown",
      "metadata": {
        "id": "bc016e00-9c3b-4865-ab3a-cabe29eee8fa"
      },
      "source": [
        "[Roxanne Li](https://www.linkedin.com/in/roxanne-li/) is a Data Scientist at IBM Skills Network.\n"
      ]
    },
    {
      "cell_type": "markdown",
      "metadata": {
        "id": "2d99381d-3804-4c79-a39a-f1317a4e829b"
      },
      "source": [
        "## Change Log\n"
      ]
    },
    {
      "cell_type": "markdown",
      "metadata": {
        "id": "12c0a1cd-8561-495f-bf83-f28d00c4cdfc"
      },
      "source": [
        "| Date (YYYY-MM-DD) | Version | Changed By  | Change Description |\n",
        "| ----------------- | ------- | ----------- | ------------------ |\n",
        "| 2022-07-18      | 0.1     | Roxanne Li  | Created Lab|\n",
        "| 2022-09-07      | 0.1     | Steve Hord  | QA pass edits|\n"
      ]
    },
    {
      "cell_type": "markdown",
      "metadata": {
        "id": "31009618-eca4-4d3b-aa82-83310caca073"
      },
      "source": [
        "Copyright © 2022 IBM Corporation. All rights reserved.\n"
      ]
    }
  ],
  "metadata": {
    "kernelspec": {
      "display_name": "Python",
      "language": "python",
      "name": "conda-env-python-py"
    },
    "language_info": {
      "name": "python",
      "version": "3.7.12",
      "mimetype": "text/x-python",
      "codemirror_mode": {
        "name": "ipython",
        "version": 3
      },
      "pygments_lexer": "ipython3",
      "nbconvert_exporter": "python",
      "file_extension": ".py"
    },
    "prev_pub_hash": "e19ff898fd7547a95bfdb5b2a71cdb5814cb7c6d54314a9eeec6570eda3fc3c3",
    "colab": {
      "provenance": [],
      "include_colab_link": true
    }
  },
  "nbformat": 4,
  "nbformat_minor": 0
}